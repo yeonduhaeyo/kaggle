{
 "cells": [
  {
   "cell_type": "code",
   "execution_count": 1,
   "id": "eb1e878d",
   "metadata": {
    "execution": {
     "iopub.execute_input": "2025-02-13T08:20:28.133869Z",
     "iopub.status.busy": "2025-02-13T08:20:28.133447Z",
     "iopub.status.idle": "2025-02-13T08:20:28.139162Z",
     "shell.execute_reply": "2025-02-13T08:20:28.138145Z"
    },
    "papermill": {
     "duration": 0.010858,
     "end_time": "2025-02-13T08:20:28.140534",
     "exception": false,
     "start_time": "2025-02-13T08:20:28.129676",
     "status": "completed"
    },
    "tags": []
   },
   "outputs": [],
   "source": [
    "MAX_ROUNDS = 400\n",
    "OPTIMIZE_ROUNDS = False\n",
    "LEARNING_RATE = 0.07\n",
    "EARLY_STOPPING_ROUNDS = 50"
   ]
  },
  {
   "cell_type": "markdown",
   "id": "7bb33fbc",
   "metadata": {
    "papermill": {
     "duration": 0.001744,
     "end_time": "2025-02-13T08:20:28.144853",
     "exception": false,
     "start_time": "2025-02-13T08:20:28.143109",
     "status": "completed"
    },
    "tags": []
   },
   "source": [
    "처음에는 MAX_ROUNDS를 상당히 높게 설정하고 OPTIMIZE_ROUNDS를 사용하여 적절한 라운드 수를 파악하는 것이 좋음.(모든 폴드 중에서 best_ntree_limit의 최대값에 가까워야함. 모델이 적절하게 정규화되어 있다면 조금 더 높을 수도 있음. 또는, verbose=True를 설정하고 세부 사항을 확인하고 모든 폴드에 잘 맞는 라운드 수를 찾아보는 것도 좋음) 그런 다음 OPTIMIZE_ROUNDS를 끄고 MAX_ROUNDS를 적절한 총 라운드 수로 설정하는 것이 좋음.\n",
    "\n",
    "각 fold에 가장 적합한 라운드를 선택함으로써 \"EARLY STOP\"의 문제는 검증 데이터에 과적합된다는 것.\n",
    "따라서 테스트 데이터를 예측하기 위한 최적의 모델을 생성하지 못할 가능성이 있으며, 다른 모델과의 적층/조립을 위한 검증 데이터를 생성하는 데 사용된다면 이 모델이 앙상블에서 너무 많은 비중을 차지하게 될 것임.\n",
    "또 다른 가능성(그리고 XGBoost의 기본값)은 EARLY STOP이 실제로 발생하는 라운드를 사용하는 것.(지연이 충분하지 않음을 확인하는 지연이 있는 경우) 이를 통해 과적합 문제를 해결할 수 있지만(지연이 충분히 길다면),아직까지는 도움이 되지 않은 것 같음. (fold당 20라운드 early stop으로 모든 fold에 대해 일정한 라운드 수보다 검증 점수가 낮아서 early stop이 실제로 적합하지 않은 것 같았음)"
   ]
  },
  {
   "cell_type": "code",
   "execution_count": 2,
   "id": "88ee7621",
   "metadata": {
    "execution": {
     "iopub.execute_input": "2025-02-13T08:20:28.149725Z",
     "iopub.status.busy": "2025-02-13T08:20:28.149363Z",
     "iopub.status.idle": "2025-02-13T08:20:32.016384Z",
     "shell.execute_reply": "2025-02-13T08:20:32.015277Z"
    },
    "papermill": {
     "duration": 3.871564,
     "end_time": "2025-02-13T08:20:32.018324",
     "exception": false,
     "start_time": "2025-02-13T08:20:28.146760",
     "status": "completed"
    },
    "tags": []
   },
   "outputs": [],
   "source": [
    "import numpy as np\n",
    "import pandas as pd\n",
    "from xgboost import XGBClassifier\n",
    "from sklearn.model_selection import train_test_split\n",
    "from sklearn.model_selection import KFold\n",
    "from sklearn.preprocessing import LabelEncoder\n",
    "from numba import jit\n",
    "import time\n",
    "import gc"
   ]
  },
  {
   "cell_type": "code",
   "execution_count": null,
   "id": "7310bb8e",
   "metadata": {
    "papermill": {
     "duration": 0.001801,
     "end_time": "2025-02-13T08:20:32.022484",
     "exception": false,
     "start_time": "2025-02-13T08:20:32.020683",
     "status": "completed"
    },
    "tags": []
   },
   "outputs": [],
   "source": []
  },
  {
   "cell_type": "code",
   "execution_count": null,
   "id": "fe18924c",
   "metadata": {
    "papermill": {
     "duration": 0.001862,
     "end_time": "2025-02-13T08:20:32.026311",
     "exception": false,
     "start_time": "2025-02-13T08:20:32.024449",
     "status": "completed"
    },
    "tags": []
   },
   "outputs": [],
   "source": []
  },
  {
   "cell_type": "code",
   "execution_count": null,
   "id": "84b32c7e",
   "metadata": {
    "papermill": {
     "duration": 0.001669,
     "end_time": "2025-02-13T08:20:32.029865",
     "exception": false,
     "start_time": "2025-02-13T08:20:32.028196",
     "status": "completed"
    },
    "tags": []
   },
   "outputs": [],
   "source": []
  },
  {
   "cell_type": "code",
   "execution_count": null,
   "id": "3acf3bbb",
   "metadata": {
    "papermill": {
     "duration": 0.001633,
     "end_time": "2025-02-13T08:20:32.033379",
     "exception": false,
     "start_time": "2025-02-13T08:20:32.031746",
     "status": "completed"
    },
    "tags": []
   },
   "outputs": [],
   "source": []
  }
 ],
 "metadata": {
  "kaggle": {
   "accelerator": "none",
   "dataSources": [
    {
     "databundleVersionId": 874852,
     "sourceId": 7082,
     "sourceType": "competition"
    }
   ],
   "dockerImageVersionId": 30886,
   "isGpuEnabled": false,
   "isInternetEnabled": true,
   "language": "python",
   "sourceType": "notebook"
  },
  "kernelspec": {
   "display_name": "Python 3",
   "language": "python",
   "name": "python3"
  },
  "language_info": {
   "codemirror_mode": {
    "name": "ipython",
    "version": 3
   },
   "file_extension": ".py",
   "mimetype": "text/x-python",
   "name": "python",
   "nbconvert_exporter": "python",
   "pygments_lexer": "ipython3",
   "version": "3.10.12"
  },
  "papermill": {
   "default_parameters": {},
   "duration": 7.367858,
   "end_time": "2025-02-13T08:20:32.754754",
   "environment_variables": {},
   "exception": null,
   "input_path": "__notebook__.ipynb",
   "output_path": "__notebook__.ipynb",
   "parameters": {},
   "start_time": "2025-02-13T08:20:25.386896",
   "version": "2.6.0"
  }
 },
 "nbformat": 4,
 "nbformat_minor": 5
}
