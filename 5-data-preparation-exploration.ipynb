{
 "cells": [
  {
   "cell_type": "markdown",
   "id": "adf7d2ba",
   "metadata": {
    "papermill": {
     "duration": 0.003947,
     "end_time": "2024-12-10T11:55:19.770633",
     "exception": false,
     "start_time": "2024-12-10T11:55:19.766686",
     "status": "completed"
    },
    "tags": []
   },
   "source": [
    "# 0. Introduction\n",
    "1. Visual inspection of your data\n",
    "2. Defining the metadata\n",
    "3. Descriptive statistics\n",
    "4. Handling imbalanced classes\n",
    "5. Data quality checks\n",
    "6. Exploratory data visualization\n",
    "7. Feature engineering\n",
    "8. Feature selection\n",
    "9. Feature scaling\n"
   ]
  },
  {
   "cell_type": "markdown",
   "id": "072acb0c",
   "metadata": {
    "papermill": {
     "duration": 0.003145,
     "end_time": "2024-12-10T11:55:19.777039",
     "exception": false,
     "start_time": "2024-12-10T11:55:19.773894",
     "status": "completed"
    },
    "tags": []
   },
   "source": [
    "# 1. Loading Packages"
   ]
  },
  {
   "cell_type": "code",
   "execution_count": null,
   "id": "83af488a",
   "metadata": {
    "papermill": {
     "duration": 0.002786,
     "end_time": "2024-12-10T11:55:19.782977",
     "exception": false,
     "start_time": "2024-12-10T11:55:19.780191",
     "status": "completed"
    },
    "tags": []
   },
   "outputs": [],
   "source": []
  },
  {
   "cell_type": "markdown",
   "id": "8c29e0da",
   "metadata": {
    "papermill": {
     "duration": 0.002677,
     "end_time": "2024-12-10T11:55:19.788629",
     "exception": false,
     "start_time": "2024-12-10T11:55:19.785952",
     "status": "completed"
    },
    "tags": []
   },
   "source": [
    "# 2. Data at first sight"
   ]
  },
  {
   "cell_type": "code",
   "execution_count": null,
   "id": "9b62a1db",
   "metadata": {
    "papermill": {
     "duration": 0.002621,
     "end_time": "2024-12-10T11:55:19.794112",
     "exception": false,
     "start_time": "2024-12-10T11:55:19.791491",
     "status": "completed"
    },
    "tags": []
   },
   "outputs": [],
   "source": []
  },
  {
   "cell_type": "markdown",
   "id": "b89c76da",
   "metadata": {
    "papermill": {
     "duration": 0.002654,
     "end_time": "2024-12-10T11:55:19.799765",
     "exception": false,
     "start_time": "2024-12-10T11:55:19.797111",
     "status": "completed"
    },
    "tags": []
   },
   "source": [
    "# 3. Metadata"
   ]
  },
  {
   "cell_type": "code",
   "execution_count": null,
   "id": "bbcf2e75",
   "metadata": {
    "papermill": {
     "duration": 0.00265,
     "end_time": "2024-12-10T11:55:19.805328",
     "exception": false,
     "start_time": "2024-12-10T11:55:19.802678",
     "status": "completed"
    },
    "tags": []
   },
   "outputs": [],
   "source": []
  },
  {
   "cell_type": "code",
   "execution_count": null,
   "id": "52cc70ff",
   "metadata": {
    "papermill": {
     "duration": 0.003793,
     "end_time": "2024-12-10T11:55:19.812019",
     "exception": false,
     "start_time": "2024-12-10T11:55:19.808226",
     "status": "completed"
    },
    "tags": []
   },
   "outputs": [],
   "source": []
  },
  {
   "cell_type": "code",
   "execution_count": null,
   "id": "2915a785",
   "metadata": {
    "papermill": {
     "duration": 0.002732,
     "end_time": "2024-12-10T11:55:19.817605",
     "exception": false,
     "start_time": "2024-12-10T11:55:19.814873",
     "status": "completed"
    },
    "tags": []
   },
   "outputs": [],
   "source": []
  },
  {
   "cell_type": "markdown",
   "id": "99af5ab5",
   "metadata": {
    "papermill": {
     "duration": 0.002614,
     "end_time": "2024-12-10T11:55:19.823273",
     "exception": false,
     "start_time": "2024-12-10T11:55:19.820659",
     "status": "completed"
    },
    "tags": []
   },
   "source": [
    "# Loading Packagessss"
   ]
  },
  {
   "cell_type": "code",
   "execution_count": null,
   "id": "f7bbf5be",
   "metadata": {
    "papermill": {
     "duration": 0.002675,
     "end_time": "2024-12-10T11:55:19.828976",
     "exception": false,
     "start_time": "2024-12-10T11:55:19.826301",
     "status": "completed"
    },
    "tags": []
   },
   "outputs": [],
   "source": []
  },
  {
   "cell_type": "code",
   "execution_count": null,
   "id": "2358390c",
   "metadata": {
    "papermill": {
     "duration": 0.002631,
     "end_time": "2024-12-10T11:55:19.834620",
     "exception": false,
     "start_time": "2024-12-10T11:55:19.831989",
     "status": "completed"
    },
    "tags": []
   },
   "outputs": [],
   "source": []
  },
  {
   "cell_type": "code",
   "execution_count": null,
   "id": "6e0c8fd9",
   "metadata": {
    "papermill": {
     "duration": 0.002943,
     "end_time": "2024-12-10T11:55:19.840470",
     "exception": false,
     "start_time": "2024-12-10T11:55:19.837527",
     "status": "completed"
    },
    "tags": []
   },
   "outputs": [],
   "source": []
  },
  {
   "cell_type": "code",
   "execution_count": null,
   "id": "c9be79f2",
   "metadata": {
    "papermill": {
     "duration": 0.005197,
     "end_time": "2024-12-10T11:55:19.848986",
     "exception": false,
     "start_time": "2024-12-10T11:55:19.843789",
     "status": "completed"
    },
    "tags": []
   },
   "outputs": [],
   "source": []
  },
  {
   "cell_type": "code",
   "execution_count": null,
   "id": "2f4ed111",
   "metadata": {
    "papermill": {
     "duration": 0.002822,
     "end_time": "2024-12-10T11:55:19.854960",
     "exception": false,
     "start_time": "2024-12-10T11:55:19.852138",
     "status": "completed"
    },
    "tags": []
   },
   "outputs": [],
   "source": []
  },
  {
   "cell_type": "code",
   "execution_count": null,
   "id": "5d2d7b68",
   "metadata": {
    "papermill": {
     "duration": 0.002619,
     "end_time": "2024-12-10T11:55:19.860708",
     "exception": false,
     "start_time": "2024-12-10T11:55:19.858089",
     "status": "completed"
    },
    "tags": []
   },
   "outputs": [],
   "source": []
  }
 ],
 "metadata": {
  "kaggle": {
   "accelerator": "none",
   "dataSources": [
    {
     "databundleVersionId": 874852,
     "sourceId": 7082,
     "sourceType": "competition"
    }
   ],
   "dockerImageVersionId": 30804,
   "isGpuEnabled": false,
   "isInternetEnabled": true,
   "language": "python",
   "sourceType": "notebook"
  },
  "kernelspec": {
   "display_name": "Python 3",
   "language": "python",
   "name": "python3"
  },
  "language_info": {
   "codemirror_mode": {
    "name": "ipython",
    "version": 3
   },
   "file_extension": ".py",
   "mimetype": "text/x-python",
   "name": "python",
   "nbconvert_exporter": "python",
   "pygments_lexer": "ipython3",
   "version": "3.10.14"
  },
  "papermill": {
   "default_parameters": {},
   "duration": 4.206509,
   "end_time": "2024-12-10T11:55:20.286036",
   "environment_variables": {},
   "exception": null,
   "input_path": "__notebook__.ipynb",
   "output_path": "__notebook__.ipynb",
   "parameters": {},
   "start_time": "2024-12-10T11:55:16.079527",
   "version": "2.6.0"
  }
 },
 "nbformat": 4,
 "nbformat_minor": 5
}
