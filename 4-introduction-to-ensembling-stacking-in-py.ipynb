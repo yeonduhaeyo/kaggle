{
 "cells": [
  {
   "cell_type": "markdown",
   "id": "5aedccd5",
   "metadata": {
    "papermill": {
     "duration": 0.011191,
     "end_time": "2024-12-10T11:17:15.885877",
     "exception": false,
     "start_time": "2024-12-10T11:17:15.874686",
     "status": "completed"
    },
    "tags": []
   },
   "source": [
    "# 1. Introduction\n",
    "- 이 노트는 기본 학습 모델, 특히 스태킹으로 알려진 앙상발의 조합 방법에 대한 매우 기본적이고 간단한 입문서입니다. 간단히 말해 몇가지 기본 분류기의 예측을 첫 번째 수준으로 사용한 다음 두 번째 수준에서 다른 모델을 사용하여 이전 첫 번째 수준 예측의 출력을 예측합니다."
   ]
  },
  {
   "cell_type": "code",
   "execution_count": 1,
   "id": "148320f1",
   "metadata": {
    "execution": {
     "iopub.execute_input": "2024-12-10T11:17:15.909426Z",
     "iopub.status.busy": "2024-12-10T11:17:15.908903Z",
     "iopub.status.idle": "2024-12-10T11:17:57.418758Z",
     "shell.execute_reply": "2024-12-10T11:17:57.417078Z"
    },
    "papermill": {
     "duration": 41.525363,
     "end_time": "2024-12-10T11:17:57.421485",
     "exception": false,
     "start_time": "2024-12-10T11:17:15.896122",
     "status": "completed"
    },
    "tags": []
   },
   "outputs": [
    {
     "name": "stdout",
     "output_type": "stream",
     "text": [
      "Requirement already satisfied: plotly in /opt/conda/lib/python3.10/site-packages (5.22.0)\r\n",
      "Collecting plotly\r\n",
      "  Downloading plotly-5.24.1-py3-none-any.whl.metadata (7.3 kB)\r\n",
      "Requirement already satisfied: tenacity>=6.2.0 in /opt/conda/lib/python3.10/site-packages (from plotly) (8.3.0)\r\n",
      "Requirement already satisfied: packaging in /opt/conda/lib/python3.10/site-packages (from plotly) (21.3)\r\n",
      "Requirement already satisfied: pyparsing!=3.0.5,>=2.0.2 in /opt/conda/lib/python3.10/site-packages (from packaging->plotly) (3.1.2)\r\n",
      "Downloading plotly-5.24.1-py3-none-any.whl (19.1 MB)\r\n",
      "\u001b[2K   \u001b[90m━━━━━━━━━━━━━━━━━━━━━━━━━━━━━━━━━━━━━━━━\u001b[0m \u001b[32m19.1/19.1 MB\u001b[0m \u001b[31m78.8 MB/s\u001b[0m eta \u001b[36m0:00:00\u001b[0m\r\n",
      "\u001b[?25hInstalling collected packages: plotly\r\n",
      "  Attempting uninstall: plotly\r\n",
      "    Found existing installation: plotly 5.22.0\r\n",
      "    Uninstalling plotly-5.22.0:\r\n",
      "      Successfully uninstalled plotly-5.22.0\r\n",
      "Successfully installed plotly-5.24.1\r\n",
      "Note: you may need to restart the kernel to use updated packages.\n"
     ]
    }
   ],
   "source": [
    "pip install plotly --upgrade"
   ]
  },
  {
   "cell_type": "code",
   "execution_count": 2,
   "id": "8a2aac99",
   "metadata": {
    "execution": {
     "iopub.execute_input": "2024-12-10T11:17:57.445881Z",
     "iopub.status.busy": "2024-12-10T11:17:57.445450Z",
     "iopub.status.idle": "2024-12-10T11:18:01.356211Z",
     "shell.execute_reply": "2024-12-10T11:18:01.355013Z"
    },
    "papermill": {
     "duration": 3.92602,
     "end_time": "2024-12-10T11:18:01.358944",
     "exception": false,
     "start_time": "2024-12-10T11:17:57.432924",
     "status": "completed"
    },
    "tags": []
   },
   "outputs": [
    {
     "data": {
      "text/html": [
       "        <script type=\"text/javascript\">\n",
       "        window.PlotlyConfig = {MathJaxConfig: 'local'};\n",
       "        if (window.MathJax && window.MathJax.Hub && window.MathJax.Hub.Config) {window.MathJax.Hub.Config({SVG: {font: \"STIX-Web\"}});}\n",
       "        if (typeof require !== 'undefined') {\n",
       "        require.undef(\"plotly\");\n",
       "        requirejs.config({\n",
       "            paths: {\n",
       "                'plotly': ['https://cdn.plot.ly/plotly-2.35.2.min']\n",
       "            }\n",
       "        });\n",
       "        require(['plotly'], function(Plotly) {\n",
       "            window._Plotly = Plotly;\n",
       "        });\n",
       "        }\n",
       "        </script>\n",
       "        "
      ]
     },
     "metadata": {},
     "output_type": "display_data"
    }
   ],
   "source": [
    "import pandas as pd\n",
    "import numpy as np\n",
    "import re\n",
    "import sklearn\n",
    "import xgboost as xgb\n",
    "import seaborn as sns\n",
    "import matplotlib.pyplot as plt\n",
    "%matplotlib inline\n",
    "\n",
    "import plotly.offline as py\n",
    "py.init_notebook_mode(connected=True)\n",
    "import plotly.graph_objs as go\n",
    "import plotly.tools as tls\n",
    "\n",
    "import warnings\n",
    "warnings.filterwarnings('ignore')\n",
    "\n",
    "from sklearn.ensemble import (RandomForestClassifier, AdaBoostClassifier, \n",
    "                                GradientBoostingClassifier, ExtraTreesClassifier)\n",
    "from sklearn.svm import SVC\n",
    "from sklearn.model_selection import KFold"
   ]
  },
  {
   "cell_type": "markdown",
   "id": "364f0bfd",
   "metadata": {
    "papermill": {
     "duration": 0.010944,
     "end_time": "2024-12-10T11:18:01.381360",
     "exception": false,
     "start_time": "2024-12-10T11:18:01.370416",
     "status": "completed"
    },
    "tags": []
   },
   "source": [
    "# 2. Feature Exploration, Engineering and Cleaning\n",
    "\n",
    "- 일반적으로 대부분의 커널이 구조화되는 방식과 매우 유사하게 진행될 것이며\n",
    "- 먼저 보유한 데이터를 탐색하고\n",
    "- 가능한 feature engineering 기회를 식별하고\n",
    "- 모든 범주형 feature을 수치화시킴."
   ]
  },
  {
   "cell_type": "markdown",
   "id": "909da544",
   "metadata": {
    "papermill": {
     "duration": 0.010907,
     "end_time": "2024-12-10T11:18:01.404121",
     "exception": false,
     "start_time": "2024-12-10T11:18:01.393214",
     "status": "completed"
    },
    "tags": []
   },
   "source": [
    "## 2-1. Feature Exploration"
   ]
  },
  {
   "cell_type": "code",
   "execution_count": 3,
   "id": "9f904336",
   "metadata": {
    "execution": {
     "iopub.execute_input": "2024-12-10T11:18:01.428208Z",
     "iopub.status.busy": "2024-12-10T11:18:01.427797Z",
     "iopub.status.idle": "2024-12-10T11:18:01.482887Z",
     "shell.execute_reply": "2024-12-10T11:18:01.481278Z"
    },
    "papermill": {
     "duration": 0.070168,
     "end_time": "2024-12-10T11:18:01.485558",
     "exception": false,
     "start_time": "2024-12-10T11:18:01.415390",
     "status": "completed"
    },
    "tags": []
   },
   "outputs": [
    {
     "data": {
      "text/html": [
       "<div>\n",
       "<style scoped>\n",
       "    .dataframe tbody tr th:only-of-type {\n",
       "        vertical-align: middle;\n",
       "    }\n",
       "\n",
       "    .dataframe tbody tr th {\n",
       "        vertical-align: top;\n",
       "    }\n",
       "\n",
       "    .dataframe thead th {\n",
       "        text-align: right;\n",
       "    }\n",
       "</style>\n",
       "<table border=\"1\" class=\"dataframe\">\n",
       "  <thead>\n",
       "    <tr style=\"text-align: right;\">\n",
       "      <th></th>\n",
       "      <th>PassengerId</th>\n",
       "      <th>Survived</th>\n",
       "      <th>Pclass</th>\n",
       "      <th>Name</th>\n",
       "      <th>Sex</th>\n",
       "      <th>Age</th>\n",
       "      <th>SibSp</th>\n",
       "      <th>Parch</th>\n",
       "      <th>Ticket</th>\n",
       "      <th>Fare</th>\n",
       "      <th>Cabin</th>\n",
       "      <th>Embarked</th>\n",
       "    </tr>\n",
       "  </thead>\n",
       "  <tbody>\n",
       "    <tr>\n",
       "      <th>0</th>\n",
       "      <td>1</td>\n",
       "      <td>0</td>\n",
       "      <td>3</td>\n",
       "      <td>Braund, Mr. Owen Harris</td>\n",
       "      <td>male</td>\n",
       "      <td>22.0</td>\n",
       "      <td>1</td>\n",
       "      <td>0</td>\n",
       "      <td>A/5 21171</td>\n",
       "      <td>7.2500</td>\n",
       "      <td>NaN</td>\n",
       "      <td>S</td>\n",
       "    </tr>\n",
       "    <tr>\n",
       "      <th>1</th>\n",
       "      <td>2</td>\n",
       "      <td>1</td>\n",
       "      <td>1</td>\n",
       "      <td>Cumings, Mrs. John Bradley (Florence Briggs Th...</td>\n",
       "      <td>female</td>\n",
       "      <td>38.0</td>\n",
       "      <td>1</td>\n",
       "      <td>0</td>\n",
       "      <td>PC 17599</td>\n",
       "      <td>71.2833</td>\n",
       "      <td>C85</td>\n",
       "      <td>C</td>\n",
       "    </tr>\n",
       "    <tr>\n",
       "      <th>2</th>\n",
       "      <td>3</td>\n",
       "      <td>1</td>\n",
       "      <td>3</td>\n",
       "      <td>Heikkinen, Miss. Laina</td>\n",
       "      <td>female</td>\n",
       "      <td>26.0</td>\n",
       "      <td>0</td>\n",
       "      <td>0</td>\n",
       "      <td>STON/O2. 3101282</td>\n",
       "      <td>7.9250</td>\n",
       "      <td>NaN</td>\n",
       "      <td>S</td>\n",
       "    </tr>\n",
       "  </tbody>\n",
       "</table>\n",
       "</div>"
      ],
      "text/plain": [
       "   PassengerId  Survived  Pclass  \\\n",
       "0            1         0       3   \n",
       "1            2         1       1   \n",
       "2            3         1       3   \n",
       "\n",
       "                                                Name     Sex   Age  SibSp  \\\n",
       "0                            Braund, Mr. Owen Harris    male  22.0      1   \n",
       "1  Cumings, Mrs. John Bradley (Florence Briggs Th...  female  38.0      1   \n",
       "2                             Heikkinen, Miss. Laina  female  26.0      0   \n",
       "\n",
       "   Parch            Ticket     Fare Cabin Embarked  \n",
       "0      0         A/5 21171   7.2500   NaN        S  \n",
       "1      0          PC 17599  71.2833   C85        C  \n",
       "2      0  STON/O2. 3101282   7.9250   NaN        S  "
      ]
     },
     "execution_count": 3,
     "metadata": {},
     "output_type": "execute_result"
    }
   ],
   "source": [
    "# Load in the train and test datasets\n",
    "train = pd.read_csv(\"../input/titanic/train.csv\")\n",
    "test = pd.read_csv(\"../input/titanic/train.csv\")\n",
    "\n",
    "# Store out passenger ID for easy access\n",
    "PassengerId = test['PassengerId']\n",
    "\n",
    "train.head(3)"
   ]
  },
  {
   "cell_type": "markdown",
   "id": "f99d54cb",
   "metadata": {
    "papermill": {
     "duration": 0.011047,
     "end_time": "2024-12-10T11:18:01.508096",
     "exception": false,
     "start_time": "2024-12-10T11:18:01.497049",
     "status": "completed"
    },
    "tags": []
   },
   "source": [
    "## 2-2. Feature Engineering"
   ]
  },
  {
   "cell_type": "code",
   "execution_count": 4,
   "id": "283e4762",
   "metadata": {
    "execution": {
     "iopub.execute_input": "2024-12-10T11:18:01.534014Z",
     "iopub.status.busy": "2024-12-10T11:18:01.533565Z",
     "iopub.status.idle": "2024-12-10T11:18:01.547873Z",
     "shell.execute_reply": "2024-12-10T11:18:01.546825Z"
    },
    "papermill": {
     "duration": 0.030693,
     "end_time": "2024-12-10T11:18:01.550241",
     "exception": false,
     "start_time": "2024-12-10T11:18:01.519548",
     "status": "completed"
    },
    "tags": []
   },
   "outputs": [],
   "source": [
    "full_data = [train,test]\n",
    "\n",
    "# Some features of my own that I have added in\n",
    "# Gives the length of the name\n",
    "\n",
    "# apply 함수 : 행 또는 열 또는 전체의 셀(=원소)에 원하는 연산을 지원\n",
    "train['Name_length'] = train['Name'].apply(len)\n",
    "test['Name_length'] = test['Name'].apply(len)\n",
    "\n",
    "# Feature that tells whether a passenger had a cabin on the Titanic\n",
    "train['Has_Cabin'] = train['Cabin'].apply(lambda x: 0 if type(x)==float else 1)\n",
    "test['Has_Cabin'] = test['Cabin'].apply(lambda x: 0 if type(x)==float else 1)"
   ]
  },
  {
   "cell_type": "code",
   "execution_count": 5,
   "id": "715583a0",
   "metadata": {
    "execution": {
     "iopub.execute_input": "2024-12-10T11:18:01.574689Z",
     "iopub.status.busy": "2024-12-10T11:18:01.574256Z",
     "iopub.status.idle": "2024-12-10T11:18:01.585620Z",
     "shell.execute_reply": "2024-12-10T11:18:01.584272Z"
    },
    "papermill": {
     "duration": 0.026241,
     "end_time": "2024-12-10T11:18:01.588238",
     "exception": false,
     "start_time": "2024-12-10T11:18:01.561997",
     "status": "completed"
    },
    "tags": []
   },
   "outputs": [],
   "source": [
    "# Create new feature FamilySize as a combination of SibSp and Parch\n",
    "for dataset in full_data:\n",
    "    dataset['FamilySize'] = dataset['SibSp'] + dataset['Parch'] + 1\n",
    "\n",
    "# Create new feature IsAlone from FamilySize\n",
    "for dataset in full_data:\n",
    "    dataset['IsAlone'] = 0\n",
    "    dataset.loc[dataset['FamilySize'] == 1, 'IsAlone'] = 1"
   ]
  },
  {
   "cell_type": "code",
   "execution_count": 6,
   "id": "fabb9f77",
   "metadata": {
    "execution": {
     "iopub.execute_input": "2024-12-10T11:18:01.613420Z",
     "iopub.status.busy": "2024-12-10T11:18:01.613029Z",
     "iopub.status.idle": "2024-12-10T11:18:01.642548Z",
     "shell.execute_reply": "2024-12-10T11:18:01.641196Z"
    },
    "papermill": {
     "duration": 0.045981,
     "end_time": "2024-12-10T11:18:01.645466",
     "exception": false,
     "start_time": "2024-12-10T11:18:01.599485",
     "status": "completed"
    },
    "tags": []
   },
   "outputs": [],
   "source": [
    "# Remove all NULLS in the Embarked column\n",
    "for dataset in full_data:\n",
    "    dataset['Embarked'] = dataset['Embarked'].fillna('S')\n",
    "\n",
    "# Remove all NULLS in the Fare column and create a new feature CategoricalFare\n",
    "for dataset in full_data:\n",
    "    dataset['Fare'] = dataset['Fare'].fillna(train['Fare'].median())\n",
    "train['CategoricalFare'] = pd.qcut(train['Fare'],4)"
   ]
  },
  {
   "cell_type": "code",
   "execution_count": 7,
   "id": "ddea40dc",
   "metadata": {
    "execution": {
     "iopub.execute_input": "2024-12-10T11:18:01.670698Z",
     "iopub.status.busy": "2024-12-10T11:18:01.670234Z",
     "iopub.status.idle": "2024-12-10T11:18:01.690223Z",
     "shell.execute_reply": "2024-12-10T11:18:01.688924Z"
    },
    "papermill": {
     "duration": 0.035643,
     "end_time": "2024-12-10T11:18:01.692695",
     "exception": false,
     "start_time": "2024-12-10T11:18:01.657052",
     "status": "completed"
    },
    "tags": []
   },
   "outputs": [],
   "source": [
    "# Create a New feature CategoricalAge\n",
    "for dataset in full_data:\n",
    "    age_avg = dataset['Age'].mean()\n",
    "    age_std = dataset['Age'].std()\n",
    "    age_null_count = dataset['Age'].isnull().sum()\n",
    "    age_null_random_list = np.random.randint(age_avg - age_std, age_avg + age_std,\n",
    "                                            size = age_null_count)\n",
    "    dataset['Age'][np.isnan(dataset['Age'])] = age_null_random_list\n",
    "    dataset['Age'] = dataset['Age'].astype(int)\n",
    "train['CategoricalAge'] = pd.cut(train['Age'],5)"
   ]
  },
  {
   "cell_type": "code",
   "execution_count": 8,
   "id": "f9247ef7",
   "metadata": {
    "execution": {
     "iopub.execute_input": "2024-12-10T11:18:01.718022Z",
     "iopub.status.busy": "2024-12-10T11:18:01.717544Z",
     "iopub.status.idle": "2024-12-10T11:18:01.740260Z",
     "shell.execute_reply": "2024-12-10T11:18:01.739329Z"
    },
    "papermill": {
     "duration": 0.038792,
     "end_time": "2024-12-10T11:18:01.742840",
     "exception": false,
     "start_time": "2024-12-10T11:18:01.704048",
     "status": "completed"
    },
    "tags": []
   },
   "outputs": [],
   "source": [
    "# Define function to extract titles from passenger names\n",
    "def get_title(name):\n",
    "    title_search = re.search(' ([A-Za-z]+)\\.', name)\n",
    "    # If the title exists, extract and return it.\n",
    "    if title_search:\n",
    "        return title_search.group(1)\n",
    "    return \"\"\n",
    "\n",
    "# Create a new feature Title, Containing the titles of passenger names\n",
    "for dataset in full_data:\n",
    "    dataset['Title'] = dataset['Name'].apply(get_title)\n",
    "# Group all non-common titles into one single grouping \"Rare\"\n",
    "for dataset in full_data:\n",
    "    dataset['Title'] = dataset['Title'].replace(['Lady', 'Countess','Capt', \n",
    "                                                 'Col','Don', 'Dr', 'Major', \n",
    "                                                 'Rev', 'Sir', 'Jonkheer', \n",
    "                                                 'Dona'], 'Rare')\n",
    "\n",
    "    dataset['Title'] = dataset['Title'].replace('Mile','Miss')\n",
    "    dataset['Title'] = dataset['Title'].replace('Ms','Miss')\n",
    "    dataset['Title'] = dataset['Title'].replace('Mme','Mrs')"
   ]
  },
  {
   "cell_type": "code",
   "execution_count": 9,
   "id": "dd572718",
   "metadata": {
    "execution": {
     "iopub.execute_input": "2024-12-10T11:18:01.767540Z",
     "iopub.status.busy": "2024-12-10T11:18:01.767124Z",
     "iopub.status.idle": "2024-12-10T11:18:01.798255Z",
     "shell.execute_reply": "2024-12-10T11:18:01.797050Z"
    },
    "papermill": {
     "duration": 0.046863,
     "end_time": "2024-12-10T11:18:01.800963",
     "exception": false,
     "start_time": "2024-12-10T11:18:01.754100",
     "status": "completed"
    },
    "tags": []
   },
   "outputs": [],
   "source": [
    "for dataset in full_data:\n",
    "    # Mapping Sex\n",
    "    dataset['Sex'] = dataset['Sex'].map({'female':0,'male':1}).astype(int)\n",
    "\n",
    "    # Mapping titles\n",
    "    title_mapping = {\"Mr\":1,\"Miss\":2,\"Mrs\":3,\"Master\":4,\"Rare\":5}\n",
    "    dataset['Title'] = dataset['Title'].map(title_mapping)\n",
    "    dataset['Title'] = dataset['Title'].fillna(0)\n",
    "\n",
    "    # Mapping Embarked\n",
    "    dataset['Embarked'] = dataset['Embarked'].map({'S':0,'C':1,'Q':2}).astype(int)\n",
    "\n",
    "    # Mapping Fare\n",
    "    dataset.loc[dataset['Fare']<=7.91,'Fare'] = 0\n",
    "    dataset.loc[(dataset['Fare']>7.91)&(dataset['Fare']<=14.454),'Fare'] = 1\n",
    "    dataset.loc[(dataset['Fare']>14.454)&(dataset['Fare']<=31),'Fare'] = 2\n",
    "    dataset.loc[(dataset['Fare']>31),'Fare'] = 3\n",
    "    dataset['Fare'] = dataset['Fare'].astype(int)\n",
    "\n",
    "    # Mapping Age\n",
    "    dataset.loc[dataset['Age'] <= 16,'Age'] = 0\n",
    "    dataset.loc[(dataset['Age'] > 16)&(dataset['Age']<=32),'Age'] = 1\n",
    "    dataset.loc[(dataset['Age'] > 32)&(dataset['Age']<=48),'Age'] = 2\n",
    "    dataset.loc[(dataset['Age'] > 48)&(dataset['Age']<=64),'Age'] = 3\n",
    "    dataset.loc[(dataset['Age'] > 64),'Age'] = 4"
   ]
  },
  {
   "cell_type": "markdown",
   "id": "305d8268",
   "metadata": {
    "papermill": {
     "duration": 0.011685,
     "end_time": "2024-12-10T11:18:01.824007",
     "exception": false,
     "start_time": "2024-12-10T11:18:01.812322",
     "status": "completed"
    },
    "tags": []
   },
   "source": [
    "## 2-3. Feature Selection"
   ]
  },
  {
   "cell_type": "code",
   "execution_count": 10,
   "id": "a8229784",
   "metadata": {
    "execution": {
     "iopub.execute_input": "2024-12-10T11:18:01.848742Z",
     "iopub.status.busy": "2024-12-10T11:18:01.848326Z",
     "iopub.status.idle": "2024-12-10T11:18:01.858108Z",
     "shell.execute_reply": "2024-12-10T11:18:01.856827Z"
    },
    "papermill": {
     "duration": 0.024626,
     "end_time": "2024-12-10T11:18:01.860383",
     "exception": false,
     "start_time": "2024-12-10T11:18:01.835757",
     "status": "completed"
    },
    "tags": []
   },
   "outputs": [],
   "source": [
    "drop_elements = ['PassengerId','Name','Ticket','Cabin','SibSp']\n",
    "train = train.drop(drop_elements, axis = 1)\n",
    "train = train.drop(['CategoricalAge','CategoricalFare'],axis =1)\n",
    "test = test.drop(drop_elements,axis = 1)"
   ]
  },
  {
   "cell_type": "code",
   "execution_count": 11,
   "id": "c4493b9c",
   "metadata": {
    "execution": {
     "iopub.execute_input": "2024-12-10T11:18:01.887471Z",
     "iopub.status.busy": "2024-12-10T11:18:01.887032Z",
     "iopub.status.idle": "2024-12-10T11:18:01.895243Z",
     "shell.execute_reply": "2024-12-10T11:18:01.893852Z"
    },
    "papermill": {
     "duration": 0.025657,
     "end_time": "2024-12-10T11:18:01.898232",
     "exception": false,
     "start_time": "2024-12-10T11:18:01.872575",
     "status": "completed"
    },
    "tags": []
   },
   "outputs": [
    {
     "data": {
      "text/plain": [
       "Index(['Survived', 'Pclass', 'Sex', 'Age', 'Parch', 'Fare', 'Embarked',\n",
       "       'Name_length', 'Has_Cabin', 'FamilySize', 'IsAlone', 'Title'],\n",
       "      dtype='object')"
      ]
     },
     "execution_count": 11,
     "metadata": {},
     "output_type": "execute_result"
    }
   ],
   "source": [
    "test.columns"
   ]
  },
  {
   "cell_type": "markdown",
   "id": "ea17edec",
   "metadata": {
    "papermill": {
     "duration": 0.011251,
     "end_time": "2024-12-10T11:18:01.921054",
     "exception": false,
     "start_time": "2024-12-10T11:18:01.909803",
     "status": "completed"
    },
    "tags": []
   },
   "source": [
    "- 기능을 정리하고 관련 정보를 추출하고 범주형 열을 삭제한 후\n",
    "- feature들은 모두 기계학습 모델에 입력하기에 적합한 형식인 숫자여야함.\n",
    "- 계속 진행하기 전에 변환된 데이터 세트의 간단한 상관 관계 및 분포도를 생성하여 ho를 관찰할 예정."
   ]
  },
  {
   "cell_type": "markdown",
   "id": "0bfbba3a",
   "metadata": {
    "papermill": {
     "duration": 0.011299,
     "end_time": "2024-12-10T11:18:01.943841",
     "exception": false,
     "start_time": "2024-12-10T11:18:01.932542",
     "status": "completed"
    },
    "tags": []
   },
   "source": [
    "## 2-4. Visualizations"
   ]
  },
  {
   "cell_type": "code",
   "execution_count": 12,
   "id": "c68583f9",
   "metadata": {
    "execution": {
     "iopub.execute_input": "2024-12-10T11:18:01.968705Z",
     "iopub.status.busy": "2024-12-10T11:18:01.968156Z",
     "iopub.status.idle": "2024-12-10T11:18:01.982851Z",
     "shell.execute_reply": "2024-12-10T11:18:01.981790Z"
    },
    "papermill": {
     "duration": 0.030383,
     "end_time": "2024-12-10T11:18:01.985538",
     "exception": false,
     "start_time": "2024-12-10T11:18:01.955155",
     "status": "completed"
    },
    "tags": []
   },
   "outputs": [
    {
     "data": {
      "text/html": [
       "<div>\n",
       "<style scoped>\n",
       "    .dataframe tbody tr th:only-of-type {\n",
       "        vertical-align: middle;\n",
       "    }\n",
       "\n",
       "    .dataframe tbody tr th {\n",
       "        vertical-align: top;\n",
       "    }\n",
       "\n",
       "    .dataframe thead th {\n",
       "        text-align: right;\n",
       "    }\n",
       "</style>\n",
       "<table border=\"1\" class=\"dataframe\">\n",
       "  <thead>\n",
       "    <tr style=\"text-align: right;\">\n",
       "      <th></th>\n",
       "      <th>Survived</th>\n",
       "      <th>Pclass</th>\n",
       "      <th>Sex</th>\n",
       "      <th>Age</th>\n",
       "      <th>Parch</th>\n",
       "      <th>Fare</th>\n",
       "      <th>Embarked</th>\n",
       "      <th>Name_length</th>\n",
       "      <th>Has_Cabin</th>\n",
       "      <th>FamilySize</th>\n",
       "      <th>IsAlone</th>\n",
       "      <th>Title</th>\n",
       "    </tr>\n",
       "  </thead>\n",
       "  <tbody>\n",
       "    <tr>\n",
       "      <th>0</th>\n",
       "      <td>0</td>\n",
       "      <td>3</td>\n",
       "      <td>1</td>\n",
       "      <td>1</td>\n",
       "      <td>0</td>\n",
       "      <td>0</td>\n",
       "      <td>0</td>\n",
       "      <td>23</td>\n",
       "      <td>0</td>\n",
       "      <td>2</td>\n",
       "      <td>0</td>\n",
       "      <td>1.0</td>\n",
       "    </tr>\n",
       "    <tr>\n",
       "      <th>1</th>\n",
       "      <td>1</td>\n",
       "      <td>1</td>\n",
       "      <td>0</td>\n",
       "      <td>2</td>\n",
       "      <td>0</td>\n",
       "      <td>3</td>\n",
       "      <td>1</td>\n",
       "      <td>51</td>\n",
       "      <td>1</td>\n",
       "      <td>2</td>\n",
       "      <td>0</td>\n",
       "      <td>3.0</td>\n",
       "    </tr>\n",
       "    <tr>\n",
       "      <th>2</th>\n",
       "      <td>1</td>\n",
       "      <td>3</td>\n",
       "      <td>0</td>\n",
       "      <td>1</td>\n",
       "      <td>0</td>\n",
       "      <td>1</td>\n",
       "      <td>0</td>\n",
       "      <td>22</td>\n",
       "      <td>0</td>\n",
       "      <td>1</td>\n",
       "      <td>1</td>\n",
       "      <td>2.0</td>\n",
       "    </tr>\n",
       "  </tbody>\n",
       "</table>\n",
       "</div>"
      ],
      "text/plain": [
       "   Survived  Pclass  Sex  Age  Parch  Fare  Embarked  Name_length  Has_Cabin  \\\n",
       "0         0       3    1    1      0     0         0           23          0   \n",
       "1         1       1    0    2      0     3         1           51          1   \n",
       "2         1       3    0    1      0     1         0           22          0   \n",
       "\n",
       "   FamilySize  IsAlone  Title  \n",
       "0           2        0    1.0  \n",
       "1           2        0    3.0  \n",
       "2           1        1    2.0  "
      ]
     },
     "execution_count": 12,
     "metadata": {},
     "output_type": "execute_result"
    }
   ],
   "source": [
    "train.head(3)"
   ]
  },
  {
   "cell_type": "markdown",
   "id": "4a7a0bce",
   "metadata": {
    "papermill": {
     "duration": 0.012165,
     "end_time": "2024-12-10T11:18:02.010195",
     "exception": false,
     "start_time": "2024-12-10T11:18:01.998030",
     "status": "completed"
    },
    "tags": []
   },
   "source": [
    "**Pearson Correlation Heatmap**\n",
    "\n",
    "상관관계 플롯을 생성하여 한 feature이 다른 feature과 얼마나 관련있는지 확인"
   ]
  },
  {
   "cell_type": "code",
   "execution_count": 13,
   "id": "3781ab90",
   "metadata": {
    "execution": {
     "iopub.execute_input": "2024-12-10T11:18:02.038076Z",
     "iopub.status.busy": "2024-12-10T11:18:02.037563Z",
     "iopub.status.idle": "2024-12-10T11:18:03.051388Z",
     "shell.execute_reply": "2024-12-10T11:18:03.049800Z"
    },
    "papermill": {
     "duration": 1.030821,
     "end_time": "2024-12-10T11:18:03.054165",
     "exception": false,
     "start_time": "2024-12-10T11:18:02.023344",
     "status": "completed"
    },
    "tags": []
   },
   "outputs": [
    {
     "data": {
      "text/plain": [
       "<Axes: title={'center': 'Pearson Correlation of Features'}>"
      ]
     },
     "execution_count": 13,
     "metadata": {},
     "output_type": "execute_result"
    },
    {
     "data": {
      "image/png": "[encoded data removed]",
      "text/plain": [
       "<Figure size 1400x1200 with 2 Axes>"
      ]
     },
     "metadata": {},
     "output_type": "display_data"
    }
   ],
   "source": [
    "colormap = plt.cm.RdBu\n",
    "plt.figure(figsize=(14,12))\n",
    "plt.title('Pearson Correlation of Features',y=1.05,size=15)\n",
    "sns.heatmap(train.astype(float).corr(),linewidths=0.1,vmax=1.0,\n",
    "           square=True, cmap=colormap, linecolor='white',annot=True)"
   ]
  },
  {
   "cell_type": "markdown",
   "id": "ac7840a8",
   "metadata": {
    "papermill": {
     "duration": 0.014011,
     "end_time": "2024-12-10T11:18:03.082323",
     "exception": false,
     "start_time": "2024-12-10T11:18:03.068312",
     "status": "completed"
    },
    "tags": []
   },
   "source": [
    "피어슨 상관관계 플로세서 알 수 있는 한가지는 서로 밀접한 상관관계가 있는 feature이 너무 많지 않다는 것.\n",
    "이는 학습 모델에 이러한 feature을 제공하는 관점에서 볼 때 train세트에 중복되거나 불필요한 데이터가 많지 않다는 것을 의미하며 각 feature에 고유한 정보가 포함되어 있다는 점에서 좋음.\n",
    "가장 상관관계가 높은 두가지 feature은 FamilySize와 Parch(부모 및 자녀)의 feature임"
   ]
  },
  {
   "cell_type": "markdown",
   "id": "465c9b66",
   "metadata": {
    "papermill": {
     "duration": 0.013932,
     "end_time": "2024-12-10T11:18:03.110745",
     "exception": false,
     "start_time": "2024-12-10T11:18:03.096813",
     "status": "completed"
    },
    "tags": []
   },
   "source": [
    "**Pairplots**"
   ]
  },
  {
   "cell_type": "code",
   "execution_count": 14,
   "id": "110ff2f2",
   "metadata": {
    "execution": {
     "iopub.execute_input": "2024-12-10T11:18:03.144257Z",
     "iopub.status.busy": "2024-12-10T11:18:03.143794Z",
     "iopub.status.idle": "2024-12-10T11:18:27.021864Z",
     "shell.execute_reply": "2024-12-10T11:18:27.020545Z"
    },
    "papermill": {
     "duration": 23.898177,
     "end_time": "2024-12-10T11:18:27.024889",
     "exception": false,
     "start_time": "2024-12-10T11:18:03.126712",
     "status": "completed"
    },
    "tags": []
   },
   "outputs": [
    {
     "data": {
      "text/plain": [
       "<seaborn.axisgrid.PairGrid at 0x7b7eed2c77c0>"
      ]
     },
     "execution_count": 14,
     "metadata": {},
     "output_type": "execute_result"
    },
    {
     "data": {
      "image/png": "[encoded data removed]",
      "text/plain": [
       "<Figure size 1032.11x960 with 72 Axes>"
      ]
     },
     "metadata": {},
     "output_type": "display_data"
    }
   ],
   "source": [
    "g = sns.pairplot(train[[u'Survived',u'Pclass',u'Sex',u'Age',u'Parch',u'Fare',\n",
    "                        u'Embarked',u'FamilySize',u'Title']],hue='Survived',\n",
    "                palette = 'seismic',size=1.2,diag_kind = 'kde',\n",
    "                diag_kws=dict(shade=True),plot_kws=dict(s=10))\n",
    "g.set(xticklabels=[])"
   ]
  },
  {
   "cell_type": "markdown",
   "id": "89a24875",
   "metadata": {
    "papermill": {
     "duration": 0.016741,
     "end_time": "2024-12-10T11:18:27.059641",
     "exception": false,
     "start_time": "2024-12-10T11:18:27.042900",
     "status": "completed"
    },
    "tags": []
   },
   "source": [
    "# 3. Ensembling & Stacking models"
   ]
  },
  {
   "cell_type": "code",
   "execution_count": 15,
   "id": "613c5d29",
   "metadata": {
    "execution": {
     "iopub.execute_input": "2024-12-10T11:18:27.096249Z",
     "iopub.status.busy": "2024-12-10T11:18:27.095752Z",
     "iopub.status.idle": "2024-12-10T11:18:27.104642Z",
     "shell.execute_reply": "2024-12-10T11:18:27.103251Z"
    },
    "papermill": {
     "duration": 0.030275,
     "end_time": "2024-12-10T11:18:27.107202",
     "exception": false,
     "start_time": "2024-12-10T11:18:27.076927",
     "status": "completed"
    },
    "tags": []
   },
   "outputs": [],
   "source": [
    "# Some useful parameters which will come in handy later on\n",
    "\n",
    "ntrain = train.shape[0]\n",
    "ntest = test.shape[0]\n",
    "SEED = 0 # for reproducibility\n",
    "NFOLDS = 5 # set folds for out-of-fold prediction\n",
    "kf = KFold(n_splits=NFOLDS, shuffle=True, random_state=SEED)\n",
    "\n",
    "# Class to extend the Sklearn classifier\n",
    "class SklearnHelper(object):\n",
    "    def __init__(self,clf,seed=0,params=None):\n",
    "        params['random_state'] = seed\n",
    "        self.clf = clf(**params)\n",
    "\n",
    "    def train(self, x_train, y_train):\n",
    "        self.clf.fit(x_train, y_train)\n",
    "\n",
    "    def predict(self, x):\n",
    "        return self.clf.predict(x)\n",
    "\n",
    "    def fit(self, x, y):\n",
    "        return self.clf.fit(x,y)\n",
    "\n",
    "    def feature_importances(self,x,y):\n",
    "        print(self.clf.fit(x,y).feature_importances_)\n",
    "\n",
    "# Class to extend XGboost classifier"
   ]
  },
  {
   "cell_type": "markdown",
   "id": "4a17d0ae",
   "metadata": {
    "papermill": {
     "duration": 0.019889,
     "end_time": "2024-12-10T11:18:27.145693",
     "exception": false,
     "start_time": "2024-12-10T11:18:27.125804",
     "status": "completed"
    },
    "tags": []
   },
   "source": [
    "**def init** : 클래스에 대한 기본 생성자를 호출하기 위한 파이썬 표준. 즉, 객체(classifier)를 생성하려면 해당 객체에 clf(원하는 sklearn classifier), seed 및 파라미터(classifier에 대한 매개변수)의 매개변수를 제공해야함.\n",
    "\n",
    "나머지 코드는 단순히 sklearn classifier에 이미 존재하는 해당 방법을 호출하는 클래스의 메서드일 뿐. 기본적으로 다양한 sklearn classifier를 확장하기 위해 래퍼 클래스를 생성하여 여러 learners를 스태커에 구현할 때 동일한 코드를 반복해서 작성할 필요를 줄이는데 도움이 될 것."
   ]
  },
  {
   "cell_type": "code",
   "execution_count": 16,
   "id": "683a2f17",
   "metadata": {
    "execution": {
     "iopub.execute_input": "2024-12-10T11:18:27.182464Z",
     "iopub.status.busy": "2024-12-10T11:18:27.182035Z",
     "iopub.status.idle": "2024-12-10T11:18:27.189683Z",
     "shell.execute_reply": "2024-12-10T11:18:27.188447Z"
    },
    "papermill": {
     "duration": 0.029113,
     "end_time": "2024-12-10T11:18:27.192480",
     "exception": false,
     "start_time": "2024-12-10T11:18:27.163367",
     "status": "completed"
    },
    "tags": []
   },
   "outputs": [
    {
     "data": {
      "text/plain": [
       "KFold(n_splits=5, random_state=0, shuffle=True)"
      ]
     },
     "execution_count": 16,
     "metadata": {},
     "output_type": "execute_result"
    }
   ],
   "source": [
    "kf"
   ]
  },
  {
   "cell_type": "markdown",
   "id": "f94f1420",
   "metadata": {
    "papermill": {
     "duration": 0.016784,
     "end_time": "2024-12-10T11:18:27.228092",
     "exception": false,
     "start_time": "2024-12-10T11:18:27.211308",
     "status": "completed"
    },
    "tags": []
   },
   "source": [
    "## 3-1. Out-Of-Fold Predictions\n",
    "스태킹은 기본 classifier의 예측을 2단계 모델에 대한 훈련을 위한 입력으로 사용함.\n",
    "전체 훈련 데이터에 대해 기본 모델을 단순히 훈련하고 전체 테스트셋에 대한 예측을 생성한 다음 2단계 훈련을 위해 이를 출력할 수는 없음. 이렇게 하면 기본 모델 예측이 이미 테스트셋을 사용했기 때문에 이러한 예측을 제공할 때 과적합 될 위험이 있음.\n",
    "\n",
    "* KFold는 모델의 성능 평가를 위해 데이터를 반복적으로 나누고 학습 및 검증하는 과정\n",
    "* OOF는 KFold를 기반으로 모델의 예측값을 생성하는 기법으로, 특히 앙상블(스태킹)에서 유용합니다.\n",
    "\n"
   ]
  },
  {
   "cell_type": "code",
   "execution_count": 17,
   "id": "61c82720",
   "metadata": {
    "execution": {
     "iopub.execute_input": "2024-12-10T11:18:27.267429Z",
     "iopub.status.busy": "2024-12-10T11:18:27.267007Z",
     "iopub.status.idle": "2024-12-10T11:18:27.275341Z",
     "shell.execute_reply": "2024-12-10T11:18:27.274189Z"
    },
    "papermill": {
     "duration": 0.031647,
     "end_time": "2024-12-10T11:18:27.278080",
     "exception": false,
     "start_time": "2024-12-10T11:18:27.246433",
     "status": "completed"
    },
    "tags": []
   },
   "outputs": [],
   "source": [
    "def get_oof(clf, x_train, y_train, x_test):\n",
    "    oof_train = np.zeros((ntrain,)) # 훈련데이터에 대한 oof 예측값을 저장할 배열\n",
    "    oof_test = np.zeros((ntest,)) # 테스트 데이터에 대한 최종 oof 예측값을 저장할 배열\n",
    "    oof_test_skf = np.empty((NFOLDS, ntest))\n",
    "    # 테스트 데이터에 대한 폴드별 예측값을 저장할 배열. 각 폴드의 결과를 평균내어\n",
    "    # 최종 oof 테스트 결과를 생성\n",
    "\n",
    "    for i, (train_index, test_index) in enumerate(kf.split(x_train)):\n",
    "        x_tr = x_train[train_index]\n",
    "        y_tr = y_train[train_index]\n",
    "        x_te = x_train[test_index]\n",
    "\n",
    "        clf.train(x_tr, y_tr)\n",
    "        oof_train[test_index] = clf.predict(x_te)\n",
    "        # 검증 데이터에 대한 예측값 저장.\n",
    "        # 훈련 데이터 전체에 대해 oof 예측을 만듦.\n",
    "        oof_test_skf[i,:] = clf.predict(x_test)\n",
    "        # 테스트 데이터에 대한 예측값을 저장.\n",
    "        # 각 폴드에서 테스트 데이터에 대한 에측값을 생성함.\n",
    "\n",
    "    oof_test[:] = oof_test_skf.mean(axis=0)\n",
    "    # 모든 폴드에서 테스트 데이터에 대해 예측한 값을 평균내어 최종 테스트 예측값을 만듦.\n",
    "    return oof_train.reshape(-1,1), oof_test.reshape(-1,1)"
   ]
  },
  {
   "cell_type": "markdown",
   "id": "cee52d6b",
   "metadata": {
    "papermill": {
     "duration": 0.016806,
     "end_time": "2024-12-10T11:18:27.312710",
     "exception": false,
     "start_time": "2024-12-10T11:18:27.295904",
     "status": "completed"
    },
    "tags": []
   },
   "source": [
    "# 4. Generating out Base First-Level Models\n",
    "\n",
    "\n",
    "1. Random Forest classifier\n",
    "2. Extra Trees classifier\n",
    "3. AdaBoost classifer\n",
    "4. Gradient Boosting classifer\n",
    "5. Support Vector Machine\n",
    "\n",
    "**Parameters**\n",
    "\n",
    "* n_jobs : 훈련 프로세스에 사용되는 코어 수\n",
    "* n_estimators : 학습 모델의 분류 트리 수 (기본값당 10개로 설정)\n",
    "* max_depth : 트리의 최대 깊이 또는 노드를 확장해야 하는 양. 너무 높은 수치로 설정하면 트리를 너무 깊에 키울 수 있으므로 과적합 위험이 있으므로 주의\n",
    "* verbose : 학습 과정에서 텍스트를 출력할지 여부 제어. 0은 모든 텍스트를 억제하고 3의 값은 모든 반복에서 트리 학습 과정 출력\n",
    "\n",
    "hine\n"
   ]
  },
  {
   "cell_type": "code",
   "execution_count": 18,
   "id": "fc13f4db",
   "metadata": {
    "execution": {
     "iopub.execute_input": "2024-12-10T11:18:27.350379Z",
     "iopub.status.busy": "2024-12-10T11:18:27.349570Z",
     "iopub.status.idle": "2024-12-10T11:18:27.356411Z",
     "shell.execute_reply": "2024-12-10T11:18:27.355267Z"
    },
    "papermill": {
     "duration": 0.027735,
     "end_time": "2024-12-10T11:18:27.358829",
     "exception": false,
     "start_time": "2024-12-10T11:18:27.331094",
     "status": "completed"
    },
    "tags": []
   },
   "outputs": [],
   "source": [
    "# Put in our parameters for said classifiers\n",
    "\n",
    "# Random Forest parameters\n",
    "rf_params = {\n",
    "    'n_jobs' : -1,\n",
    "    'n_estimators' : 500,\n",
    "    'warm_start' : True,\n",
    "    # 'max_features' : 0.2,\n",
    "    'max_depth' : 6,\n",
    "    'min_samples_leaf' : 2,\n",
    "    'max_features' : 'sqrt',\n",
    "    'verbose' : 0\n",
    "}\n",
    "\n",
    "# Extra Trees parameters\n",
    "et_params = {\n",
    "    'n_jobs' : -1,\n",
    "    'n_estimators' : 500,\n",
    "    # 'max_features' : 0.2,\n",
    "    'max_depth' : 8,\n",
    "    'min_samples_leaf' : 2,\n",
    "    'verbose' : 0\n",
    "}\n",
    "\n",
    "# AdaBoost parameters\n",
    "ada_params = {\n",
    "    'n_estimators' : 500,\n",
    "    'learning_rate' : 0.75\n",
    "}\n",
    "\n",
    "# Gradient Boosting parameters\n",
    "gb_params = {\n",
    "    'n_estimators' : 500,\n",
    "    # 'max_features' : 0.2,\n",
    "    'max_depth' : 5,\n",
    "    'min_samples_leaf' : 2,\n",
    "    'verbose' : 0\n",
    "}\n",
    "\n",
    "# Support Vector Classifier parameters\n",
    "svc_params = {\n",
    "    'kernel' : 'linear',\n",
    "    'C' :  0.025\n",
    "}"
   ]
  },
  {
   "cell_type": "code",
   "execution_count": 19,
   "id": "f9be6ee7",
   "metadata": {
    "execution": {
     "iopub.execute_input": "2024-12-10T11:18:27.395325Z",
     "iopub.status.busy": "2024-12-10T11:18:27.394923Z",
     "iopub.status.idle": "2024-12-10T11:18:27.401247Z",
     "shell.execute_reply": "2024-12-10T11:18:27.400160Z"
    },
    "papermill": {
     "duration": 0.027264,
     "end_time": "2024-12-10T11:18:27.403657",
     "exception": false,
     "start_time": "2024-12-10T11:18:27.376393",
     "status": "completed"
    },
    "tags": []
   },
   "outputs": [],
   "source": [
    "# Create 5 objects that represent our 4 models\n",
    "\n",
    "rf = SklearnHelper(clf = RandomForestClassifier, seed = SEED, params=rf_params)\n",
    "et = SklearnHelper(clf = ExtraTreesClassifier, seed = SEED, params=et_params)\n",
    "ada = SklearnHelper(clf = AdaBoostClassifier, seed = SEED, params = ada_params)\n",
    "gb = SklearnHelper(clf = GradientBoostingClassifier, seed = SEED, params= gb_params)\n",
    "svc = SklearnHelper(clf = SVC, seed = SEED, params=svc_params)"
   ]
  },
  {
   "cell_type": "markdown",
   "id": "3cb72d63",
   "metadata": {
    "papermill": {
     "duration": 0.016647,
     "end_time": "2024-12-10T11:18:27.437476",
     "exception": false,
     "start_time": "2024-12-10T11:18:27.420829",
     "status": "completed"
    },
    "tags": []
   },
   "source": [
    "**Creating Numpy arrays out of our train and test sets**\n",
    "\n",
    "첫번째 레이어 기본 모델을 준비한 후, 원래 데이터 프레임에서 numpy array를 다음과 같이 생성하여 classifier에 입력할 훈련 및 테스트 데이터를 준비할 수 있음.\n"
   ]
  },
  {
   "cell_type": "code",
   "execution_count": 20,
   "id": "4b651ef9",
   "metadata": {
    "execution": {
     "iopub.execute_input": "2024-12-10T11:18:27.473952Z",
     "iopub.status.busy": "2024-12-10T11:18:27.473517Z",
     "iopub.status.idle": "2024-12-10T11:18:27.484063Z",
     "shell.execute_reply": "2024-12-10T11:18:27.482598Z"
    },
    "papermill": {
     "duration": 0.032028,
     "end_time": "2024-12-10T11:18:27.486672",
     "exception": false,
     "start_time": "2024-12-10T11:18:27.454644",
     "status": "completed"
    },
    "tags": []
   },
   "outputs": [],
   "source": [
    "#  Create Numpy arrays of train, test and target (Survived) dataframes to feed into our models\n",
    "y_train = train['Survived'].ravel() # 1차원 변경 메소드\n",
    "train = train.drop(['Survived'], axis = 1)\n",
    "y_test = test['Survived'].ravel()\n",
    "test = test.drop(['Survived'],axis = 1)\n",
    "x_train = train.values # Create an array of the train data\n",
    "x_test = test.values # Create an array of the test data"
   ]
  },
  {
   "cell_type": "code",
   "execution_count": 21,
   "id": "dc61e4d0",
   "metadata": {
    "execution": {
     "iopub.execute_input": "2024-12-10T11:18:27.523497Z",
     "iopub.status.busy": "2024-12-10T11:18:27.523118Z",
     "iopub.status.idle": "2024-12-10T11:18:27.531500Z",
     "shell.execute_reply": "2024-12-10T11:18:27.530459Z"
    },
    "papermill": {
     "duration": 0.029342,
     "end_time": "2024-12-10T11:18:27.533781",
     "exception": false,
     "start_time": "2024-12-10T11:18:27.504439",
     "status": "completed"
    },
    "tags": []
   },
   "outputs": [
    {
     "data": {
      "text/plain": [
       "array([[3., 1., 1., ..., 2., 0., 1.],\n",
       "       [1., 0., 2., ..., 2., 0., 3.],\n",
       "       [3., 0., 1., ..., 1., 1., 2.],\n",
       "       ...,\n",
       "       [3., 0., 2., ..., 4., 0., 2.],\n",
       "       [1., 1., 1., ..., 1., 1., 1.],\n",
       "       [3., 1., 1., ..., 1., 1., 1.]])"
      ]
     },
     "execution_count": 21,
     "metadata": {},
     "output_type": "execute_result"
    }
   ],
   "source": [
    "x_train"
   ]
  },
  {
   "cell_type": "markdown",
   "id": "86aec722",
   "metadata": {
    "papermill": {
     "duration": 0.01755,
     "end_time": "2024-12-10T11:18:27.569574",
     "exception": false,
     "start_time": "2024-12-10T11:18:27.552024",
     "status": "completed"
    },
    "tags": []
   },
   "source": [
    "**Output of the First level Predictions**\n",
    "\n",
    "학습 및 테스트 데이터를 5개의 기본 classifier에 입력하고 앞서 정의한 Out-Of-Fold prediction 함수를 사용하여 첫번째 수준 예측을 생성함."
   ]
  },
  {
   "cell_type": "code",
   "execution_count": 22,
   "id": "df945a14",
   "metadata": {
    "execution": {
     "iopub.execute_input": "2024-12-10T11:18:27.607030Z",
     "iopub.status.busy": "2024-12-10T11:18:27.606660Z",
     "iopub.status.idle": "2024-12-10T11:18:50.128402Z",
     "shell.execute_reply": "2024-12-10T11:18:50.127083Z"
    },
    "papermill": {
     "duration": 22.543409,
     "end_time": "2024-12-10T11:18:50.130864",
     "exception": false,
     "start_time": "2024-12-10T11:18:27.587455",
     "status": "completed"
    },
    "tags": []
   },
   "outputs": [],
   "source": [
    "# Create our OOF train and test preictions. These base results will be used as new features\n",
    "\n",
    "et_oof_train, et_oof_test = get_oof(et, x_train, y_train, x_test) # Extra Trees\n",
    "rf_oof_train, rf_oof_test = get_oof(rf, x_train, y_train, x_test) # RandomForest\n",
    "ada_oof_train, ada_oof_test = get_oof(ada, x_train, y_train, x_test) # Adaboost\n",
    "gb_oof_train, gb_oof_test = get_oof(gb, x_train, y_train, x_test) # Gradient Boost\n",
    "svc_oof_train, svc_oof_test = get_oof(svc, x_train, y_train, x_test) # Support Vector Cls\n"
   ]
  },
  {
   "cell_type": "code",
   "execution_count": 23,
   "id": "f3657fbc",
   "metadata": {
    "execution": {
     "iopub.execute_input": "2024-12-10T11:18:50.168417Z",
     "iopub.status.busy": "2024-12-10T11:18:50.167409Z",
     "iopub.status.idle": "2024-12-10T11:18:53.541211Z",
     "shell.execute_reply": "2024-12-10T11:18:53.539994Z"
    },
    "papermill": {
     "duration": 3.395182,
     "end_time": "2024-12-10T11:18:53.543593",
     "exception": false,
     "start_time": "2024-12-10T11:18:50.148411",
     "status": "completed"
    },
    "tags": []
   },
   "outputs": [
    {
     "name": "stdout",
     "output_type": "stream",
     "text": [
      "[0.10283834 0.21848181 0.03418019 0.02077366 0.04708628 0.02867233\n",
      " 0.13299492 0.05016169 0.07108809 0.01146798 0.28225471]\n",
      "[0.12112769 0.38394657 0.03024202 0.01714438 0.05568796 0.02932067\n",
      " 0.04844207 0.08526957 0.04328572 0.02207674 0.1634566 ]\n",
      "[0.032 0.012 0.016 0.066 0.04  0.01  0.678 0.014 0.052 0.004 0.076]\n",
      "[0.08697531 0.01416755 0.05196701 0.01243423 0.04992196 0.02266099\n",
      " 0.17106538 0.04275838 0.11206645 0.00583166 0.43015107]\n"
     ]
    }
   ],
   "source": [
    "rf_feature = rf.feature_importances(x_train, y_train)\n",
    "et_feature = et.feature_importances(x_train, y_train)\n",
    "ada_feature = ada.feature_importances(x_train, y_train)\n",
    "gb_feature = gb.feature_importances(x_train, y_train)"
   ]
  },
  {
   "cell_type": "code",
   "execution_count": 24,
   "id": "097fadae",
   "metadata": {
    "execution": {
     "iopub.execute_input": "2024-12-10T11:18:53.582484Z",
     "iopub.status.busy": "2024-12-10T11:18:53.582083Z",
     "iopub.status.idle": "2024-12-10T11:18:53.588573Z",
     "shell.execute_reply": "2024-12-10T11:18:53.587337Z"
    },
    "papermill": {
     "duration": 0.02948,
     "end_time": "2024-12-10T11:18:53.590883",
     "exception": false,
     "start_time": "2024-12-10T11:18:53.561403",
     "status": "completed"
    },
    "tags": []
   },
   "outputs": [],
   "source": [
    "rf_features = [0.10398434, 0.21727515, 0.03523893, 0.02058352, 0.04692089, 0.03008202,\n",
    " 0.13178769, 0.05007036, 0.0694146,  0.01122004, 0.28342245]\n",
    "\n",
    "et_features = [0.1210035,  0.38546499, 0.0293802,  0.0175216,  0.05559633, 0.02802968,\n",
    " 0.04857095, 0.08522204, 0.04278338, 0.02210663, 0.16432069]\n",
    "\n",
    "ada_features = [0.028, 0.008, 0.016, 0.068, 0.038, 0.01,  0.692, 0.012, 0.056, 0.002, 0.07 ]\n",
    "\n",
    "gb_features = [0.08497713, 0.01117012, 0.05297425, 0.01176212, 0.05221928, 0.02123612,\n",
    " 0.18107323 ,0.04262172, 0.11152933, 0.00499293, 0.42544377]"
   ]
  },
  {
   "cell_type": "code",
   "execution_count": 25,
   "id": "083f74fe",
   "metadata": {
    "execution": {
     "iopub.execute_input": "2024-12-10T11:18:53.627803Z",
     "iopub.status.busy": "2024-12-10T11:18:53.627367Z",
     "iopub.status.idle": "2024-12-10T11:18:53.634206Z",
     "shell.execute_reply": "2024-12-10T11:18:53.632628Z"
    },
    "papermill": {
     "duration": 0.028067,
     "end_time": "2024-12-10T11:18:53.636626",
     "exception": false,
     "start_time": "2024-12-10T11:18:53.608559",
     "status": "completed"
    },
    "tags": []
   },
   "outputs": [],
   "source": [
    "cols = train.columns.values\n",
    "# Create a dataframe with features\n",
    "feature_dataframe = pd.DataFrame( {'features': cols,\n",
    "     'Random Forest feature importances': rf_features,\n",
    "     'Extra Trees feature importances': et_features,\n",
    "      'AdaBoost feature importances': ada_features,\n",
    "    'Gradient Boost feature importances': gb_features\n",
    "    })"
   ]
  },
  {
   "cell_type": "markdown",
   "id": "389501e1",
   "metadata": {
    "papermill": {
     "duration": 0.018026,
     "end_time": "2024-12-10T11:18:53.672464",
     "exception": false,
     "start_time": "2024-12-10T11:18:53.654438",
     "status": "completed"
    },
    "tags": []
   },
   "source": [
    "**Interactive feature importances via Plotly scatterplots**\n",
    "\n",
    "plotly 패키지를 사용하여 다음과 같이 scatter을 호출하여 plotly scatter plot을 통해 다양한 classifier의 feature importances의 값을 시각화함."
   ]
  },
  {
   "cell_type": "code",
   "execution_count": 26,
   "id": "8461c01f",
   "metadata": {
    "execution": {
     "iopub.execute_input": "2024-12-10T11:18:53.710791Z",
     "iopub.status.busy": "2024-12-10T11:18:53.710352Z",
     "iopub.status.idle": "2024-12-10T11:18:53.726438Z",
     "shell.execute_reply": "2024-12-10T11:18:53.725200Z"
    },
    "papermill": {
     "duration": 0.038765,
     "end_time": "2024-12-10T11:18:53.728755",
     "exception": false,
     "start_time": "2024-12-10T11:18:53.689990",
     "status": "completed"
    },
    "tags": []
   },
   "outputs": [
    {
     "data": {
      "text/html": [
       "<div>\n",
       "<style scoped>\n",
       "    .dataframe tbody tr th:only-of-type {\n",
       "        vertical-align: middle;\n",
       "    }\n",
       "\n",
       "    .dataframe tbody tr th {\n",
       "        vertical-align: top;\n",
       "    }\n",
       "\n",
       "    .dataframe thead th {\n",
       "        text-align: right;\n",
       "    }\n",
       "</style>\n",
       "<table border=\"1\" class=\"dataframe\">\n",
       "  <thead>\n",
       "    <tr style=\"text-align: right;\">\n",
       "      <th></th>\n",
       "      <th>features</th>\n",
       "      <th>Random Forest feature importances</th>\n",
       "      <th>Extra Trees feature importances</th>\n",
       "      <th>AdaBoost feature importances</th>\n",
       "      <th>Gradient Boost feature importances</th>\n",
       "    </tr>\n",
       "  </thead>\n",
       "  <tbody>\n",
       "    <tr>\n",
       "      <th>0</th>\n",
       "      <td>Pclass</td>\n",
       "      <td>0.103984</td>\n",
       "      <td>0.121003</td>\n",
       "      <td>0.028</td>\n",
       "      <td>0.084977</td>\n",
       "    </tr>\n",
       "    <tr>\n",
       "      <th>1</th>\n",
       "      <td>Sex</td>\n",
       "      <td>0.217275</td>\n",
       "      <td>0.385465</td>\n",
       "      <td>0.008</td>\n",
       "      <td>0.011170</td>\n",
       "    </tr>\n",
       "    <tr>\n",
       "      <th>2</th>\n",
       "      <td>Age</td>\n",
       "      <td>0.035239</td>\n",
       "      <td>0.029380</td>\n",
       "      <td>0.016</td>\n",
       "      <td>0.052974</td>\n",
       "    </tr>\n",
       "    <tr>\n",
       "      <th>3</th>\n",
       "      <td>Parch</td>\n",
       "      <td>0.020584</td>\n",
       "      <td>0.017522</td>\n",
       "      <td>0.068</td>\n",
       "      <td>0.011762</td>\n",
       "    </tr>\n",
       "    <tr>\n",
       "      <th>4</th>\n",
       "      <td>Fare</td>\n",
       "      <td>0.046921</td>\n",
       "      <td>0.055596</td>\n",
       "      <td>0.038</td>\n",
       "      <td>0.052219</td>\n",
       "    </tr>\n",
       "    <tr>\n",
       "      <th>5</th>\n",
       "      <td>Embarked</td>\n",
       "      <td>0.030082</td>\n",
       "      <td>0.028030</td>\n",
       "      <td>0.010</td>\n",
       "      <td>0.021236</td>\n",
       "    </tr>\n",
       "    <tr>\n",
       "      <th>6</th>\n",
       "      <td>Name_length</td>\n",
       "      <td>0.131788</td>\n",
       "      <td>0.048571</td>\n",
       "      <td>0.692</td>\n",
       "      <td>0.181073</td>\n",
       "    </tr>\n",
       "    <tr>\n",
       "      <th>7</th>\n",
       "      <td>Has_Cabin</td>\n",
       "      <td>0.050070</td>\n",
       "      <td>0.085222</td>\n",
       "      <td>0.012</td>\n",
       "      <td>0.042622</td>\n",
       "    </tr>\n",
       "    <tr>\n",
       "      <th>8</th>\n",
       "      <td>FamilySize</td>\n",
       "      <td>0.069415</td>\n",
       "      <td>0.042783</td>\n",
       "      <td>0.056</td>\n",
       "      <td>0.111529</td>\n",
       "    </tr>\n",
       "    <tr>\n",
       "      <th>9</th>\n",
       "      <td>IsAlone</td>\n",
       "      <td>0.011220</td>\n",
       "      <td>0.022107</td>\n",
       "      <td>0.002</td>\n",
       "      <td>0.004993</td>\n",
       "    </tr>\n",
       "    <tr>\n",
       "      <th>10</th>\n",
       "      <td>Title</td>\n",
       "      <td>0.283422</td>\n",
       "      <td>0.164321</td>\n",
       "      <td>0.070</td>\n",
       "      <td>0.425444</td>\n",
       "    </tr>\n",
       "  </tbody>\n",
       "</table>\n",
       "</div>"
      ],
      "text/plain": [
       "       features  Random Forest feature importances  \\\n",
       "0        Pclass                           0.103984   \n",
       "1           Sex                           0.217275   \n",
       "2           Age                           0.035239   \n",
       "3         Parch                           0.020584   \n",
       "4          Fare                           0.046921   \n",
       "5      Embarked                           0.030082   \n",
       "6   Name_length                           0.131788   \n",
       "7     Has_Cabin                           0.050070   \n",
       "8    FamilySize                           0.069415   \n",
       "9       IsAlone                           0.011220   \n",
       "10        Title                           0.283422   \n",
       "\n",
       "    Extra Trees feature importances  AdaBoost feature importances  \\\n",
       "0                          0.121003                         0.028   \n",
       "1                          0.385465                         0.008   \n",
       "2                          0.029380                         0.016   \n",
       "3                          0.017522                         0.068   \n",
       "4                          0.055596                         0.038   \n",
       "5                          0.028030                         0.010   \n",
       "6                          0.048571                         0.692   \n",
       "7                          0.085222                         0.012   \n",
       "8                          0.042783                         0.056   \n",
       "9                          0.022107                         0.002   \n",
       "10                         0.164321                         0.070   \n",
       "\n",
       "    Gradient Boost feature importances  \n",
       "0                             0.084977  \n",
       "1                             0.011170  \n",
       "2                             0.052974  \n",
       "3                             0.011762  \n",
       "4                             0.052219  \n",
       "5                             0.021236  \n",
       "6                             0.181073  \n",
       "7                             0.042622  \n",
       "8                             0.111529  \n",
       "9                             0.004993  \n",
       "10                            0.425444  "
      ]
     },
     "execution_count": 26,
     "metadata": {},
     "output_type": "execute_result"
    }
   ],
   "source": [
    "feature_dataframe.head(11)"
   ]
  },
  {
   "cell_type": "code",
   "execution_count": 27,
   "id": "e39b6566",
   "metadata": {
    "execution": {
     "iopub.execute_input": "2024-12-10T11:18:53.767377Z",
     "iopub.status.busy": "2024-12-10T11:18:53.767010Z",
     "iopub.status.idle": "2024-12-10T11:18:53.772999Z",
     "shell.execute_reply": "2024-12-10T11:18:53.771776Z"
    },
    "papermill": {
     "duration": 0.028201,
     "end_time": "2024-12-10T11:18:53.775717",
     "exception": false,
     "start_time": "2024-12-10T11:18:53.747516",
     "status": "completed"
    },
    "tags": []
   },
   "outputs": [
    {
     "name": "stdout",
     "output_type": "stream",
     "text": [
      "Index(['features', 'Random Forest feature importances',\n",
      "       'Extra Trees feature importances', 'AdaBoost feature importances',\n",
      "       'Gradient Boost feature importances'],\n",
      "      dtype='object')\n"
     ]
    }
   ],
   "source": [
    "print(feature_dataframe.columns)  # 데이터프레임 열 확인"
   ]
  },
  {
   "cell_type": "code",
   "execution_count": 28,
   "id": "576bb67a",
   "metadata": {
    "execution": {
     "iopub.execute_input": "2024-12-10T11:18:53.817617Z",
     "iopub.status.busy": "2024-12-10T11:18:53.816575Z",
     "iopub.status.idle": "2024-12-10T11:18:53.922905Z",
     "shell.execute_reply": "2024-12-10T11:18:53.921670Z"
    },
    "papermill": {
     "duration": 0.131075,
     "end_time": "2024-12-10T11:18:53.925773",
     "exception": false,
     "start_time": "2024-12-10T11:18:53.794698",
     "status": "completed"
    },
    "tags": []
   },
   "outputs": [
    {
     "data": {
      "text/html": [
       "<iframe\n",
       "    scrolling=\"no\"\n",
       "    width=\"100%\"\n",
       "    height=\"545px\"\n",
       "    src=\"iframe_figures/figure_28.html\"\n",
       "    frameborder=\"0\"\n",
       "    allowfullscreen\n",
       "></iframe>\n"
      ]
     },
     "metadata": {},
     "output_type": "display_data"
    }
   ],
   "source": [
    "# Scatter plot \n",
    "trace = go.Scatter( # 산점도의 데이터 및 설정 정의\n",
    "    y = feature_dataframe['Random Forest feature importances'].values,\n",
    "    x = feature_dataframe['features'].values,\n",
    "    mode='markers',\n",
    "    marker=dict(\n",
    "        sizemode = 'diameter',\n",
    "        sizeref = 1,\n",
    "        size = 25,\n",
    "#       size= feature_dataframe['AdaBoost feature importances'].values,\n",
    "        #color = np.random.randn(500), #set color equal to a variable\n",
    "        color = feature_dataframe['Random Forest feature importances'].values,\n",
    "        colorscale='Portland',\n",
    "        showscale=True\n",
    "    ),\n",
    "    text = feature_dataframe['features'].values\n",
    ")\n",
    "data = [trace]\n",
    "\n",
    "layout= go.Layout( # 그래프의 레이아웃 설정\n",
    "    autosize= True,\n",
    "    title= 'Random Forest Feature Importance',\n",
    "    hovermode= 'closest',\n",
    "#     xaxis= dict(\n",
    "#         title= 'Pop',\n",
    "#         ticklen= 5,\n",
    "#         zeroline= False,\n",
    "#         gridwidth= 2,\n",
    "#     ),\n",
    "    yaxis=dict(\n",
    "        title= 'Feature Importance',\n",
    "        ticklen= 5,\n",
    "        gridwidth= 2\n",
    "    ),\n",
    "    showlegend= False\n",
    ")\n",
    "\n",
    "fig = go.Figure(data=data, layout=layout)\n",
    "# py.iplot(fig,filename='scatter2010')\n",
    "fig.show(renderer='iframe') # 이거 추가하니까 그려짐.."
   ]
  },
  {
   "cell_type": "code",
   "execution_count": 29,
   "id": "bc439f83",
   "metadata": {
    "execution": {
     "iopub.execute_input": "2024-12-10T11:18:53.966837Z",
     "iopub.status.busy": "2024-12-10T11:18:53.965431Z",
     "iopub.status.idle": "2024-12-10T11:18:54.143006Z",
     "shell.execute_reply": "2024-12-10T11:18:54.141564Z"
    },
    "papermill": {
     "duration": 0.200421,
     "end_time": "2024-12-10T11:18:54.145790",
     "exception": false,
     "start_time": "2024-12-10T11:18:53.945369",
     "status": "completed"
    },
    "tags": []
   },
   "outputs": [
    {
     "data": {
      "text/html": [
       "<iframe\n",
       "    scrolling=\"no\"\n",
       "    width=\"100%\"\n",
       "    height=\"545px\"\n",
       "    src=\"iframe_figures/figure_29.html\"\n",
       "    frameborder=\"0\"\n",
       "    allowfullscreen\n",
       "></iframe>\n"
      ]
     },
     "metadata": {},
     "output_type": "display_data"
    },
    {
     "data": {
      "text/html": [
       "<iframe\n",
       "    scrolling=\"no\"\n",
       "    width=\"100%\"\n",
       "    height=\"545px\"\n",
       "    src=\"iframe_figures/figure_29.html\"\n",
       "    frameborder=\"0\"\n",
       "    allowfullscreen\n",
       "></iframe>\n"
      ]
     },
     "metadata": {},
     "output_type": "display_data"
    },
    {
     "data": {
      "text/html": [
       "<iframe\n",
       "    scrolling=\"no\"\n",
       "    width=\"100%\"\n",
       "    height=\"545px\"\n",
       "    src=\"iframe_figures/figure_29.html\"\n",
       "    frameborder=\"0\"\n",
       "    allowfullscreen\n",
       "></iframe>\n"
      ]
     },
     "metadata": {},
     "output_type": "display_data"
    }
   ],
   "source": [
    "# Scatter plot \n",
    "trace = go.Scatter(\n",
    "    y = feature_dataframe['Extra Trees feature importances'].values,\n",
    "    x = feature_dataframe['features'].values,\n",
    "    mode='markers',\n",
    "    marker=dict(\n",
    "        sizemode = 'diameter',\n",
    "        sizeref = 1,\n",
    "        size = 25,\n",
    "#       size= feature_dataframe['AdaBoost feature importances'].values,\n",
    "        #color = np.random.randn(500), #set color equal to a variable\n",
    "        color = feature_dataframe['Extra Trees feature importances'].values,\n",
    "        colorscale='Portland',\n",
    "        showscale=True\n",
    "    ),\n",
    "    text = feature_dataframe['features'].values\n",
    ")\n",
    "data = [trace]\n",
    "\n",
    "layout= go.Layout(\n",
    "    autosize= True,\n",
    "    title= 'Extra Trees Feature Importance',\n",
    "    hovermode= 'closest',\n",
    "#     xaxis= dict(\n",
    "#         title= 'Pop',\n",
    "#         ticklen= 5,\n",
    "#         zeroline= False,\n",
    "#         gridwidth= 2,\n",
    "#     ),\n",
    "    yaxis=dict(\n",
    "        title= 'Feature Importance',\n",
    "        ticklen= 5,\n",
    "        gridwidth= 2\n",
    "    ),\n",
    "    showlegend= False\n",
    ")\n",
    "\n",
    "fig = go.Figure(data=data, layout=layout)\n",
    "# py.iplot(fig,filename='scatter2010')\n",
    "fig.show(renderer='iframe') # 이거 추가하니까 그려짐..\n",
    "\n",
    "# Scatter plot \n",
    "trace = go.Scatter(\n",
    "    y = feature_dataframe['AdaBoost feature importances'].values,\n",
    "    x = feature_dataframe['features'].values,\n",
    "    mode='markers',\n",
    "    marker=dict(\n",
    "        sizemode = 'diameter',\n",
    "        sizeref = 1,\n",
    "        size = 25,\n",
    "#       size= feature_dataframe['AdaBoost feature importances'].values,\n",
    "        #color = np.random.randn(500), #set color equal to a variable\n",
    "        color = feature_dataframe['AdaBoost feature importances'].values,\n",
    "        colorscale='Portland',\n",
    "        showscale=True\n",
    "    ),\n",
    "    text = feature_dataframe['features'].values\n",
    ")\n",
    "data = [trace]\n",
    "\n",
    "layout= go.Layout(\n",
    "    autosize= True,\n",
    "    title= 'AdaBoost Feature Importance',\n",
    "    hovermode= 'closest',\n",
    "#     xaxis= dict(\n",
    "#         title= 'Pop',\n",
    "#         ticklen= 5,\n",
    "#         zeroline= False,\n",
    "#         gridwidth= 2,\n",
    "#     ),\n",
    "    yaxis=dict(\n",
    "        title= 'Feature Importance',\n",
    "        ticklen= 5,\n",
    "        gridwidth= 2\n",
    "    ),\n",
    "    showlegend= False\n",
    ")\n",
    "fig = go.Figure(data=data, layout=layout)\n",
    "# py.iplot(fig,filename='scatter2010')\n",
    "fig.show(renderer='iframe') # 이거 추가하니까 그려짐..\n",
    "\n",
    "# Scatter plot \n",
    "trace = go.Scatter(\n",
    "    y = feature_dataframe['Gradient Boost feature importances'].values,\n",
    "    x = feature_dataframe['features'].values,\n",
    "    mode='markers',\n",
    "    marker=dict(\n",
    "        sizemode = 'diameter',\n",
    "        sizeref = 1,\n",
    "        size = 25,\n",
    "#       size= feature_dataframe['AdaBoost feature importances'].values,\n",
    "        #color = np.random.randn(500), #set color equal to a variable\n",
    "        color = feature_dataframe['Gradient Boost feature importances'].values,\n",
    "        colorscale='Portland',\n",
    "        showscale=True\n",
    "    ),\n",
    "    text = feature_dataframe['features'].values\n",
    ")\n",
    "data = [trace]\n",
    "\n",
    "layout= go.Layout(\n",
    "    autosize= True,\n",
    "    title= 'Gradient Boosting Feature Importance',\n",
    "    hovermode= 'closest',\n",
    "#     xaxis= dict(\n",
    "#         title= 'Pop',\n",
    "#         ticklen= 5,\n",
    "#         zeroline= False,\n",
    "#         gridwidth= 2,\n",
    "#     ),\n",
    "    yaxis=dict(\n",
    "        title= 'Feature Importance',\n",
    "        ticklen= 5,\n",
    "        gridwidth= 2\n",
    "    ),\n",
    "    showlegend= False\n",
    ")\n",
    "fig = go.Figure(data=data, layout=layout)\n",
    "# py.iplot(fig,filename='scatter2010')\n",
    "fig.show(renderer='iframe') # 이거 추가하니까 그려짐.."
   ]
  },
  {
   "cell_type": "code",
   "execution_count": 30,
   "id": "f90ea6ab",
   "metadata": {
    "execution": {
     "iopub.execute_input": "2024-12-10T11:18:54.185428Z",
     "iopub.status.busy": "2024-12-10T11:18:54.185038Z",
     "iopub.status.idle": "2024-12-10T11:18:54.201411Z",
     "shell.execute_reply": "2024-12-10T11:18:54.200167Z"
    },
    "papermill": {
     "duration": 0.039234,
     "end_time": "2024-12-10T11:18:54.203768",
     "exception": false,
     "start_time": "2024-12-10T11:18:54.164534",
     "status": "completed"
    },
    "tags": []
   },
   "outputs": [
    {
     "data": {
      "text/html": [
       "<div>\n",
       "<style scoped>\n",
       "    .dataframe tbody tr th:only-of-type {\n",
       "        vertical-align: middle;\n",
       "    }\n",
       "\n",
       "    .dataframe tbody tr th {\n",
       "        vertical-align: top;\n",
       "    }\n",
       "\n",
       "    .dataframe thead th {\n",
       "        text-align: right;\n",
       "    }\n",
       "</style>\n",
       "<table border=\"1\" class=\"dataframe\">\n",
       "  <thead>\n",
       "    <tr style=\"text-align: right;\">\n",
       "      <th></th>\n",
       "      <th>features</th>\n",
       "      <th>Random Forest feature importances</th>\n",
       "      <th>Extra Trees feature importances</th>\n",
       "      <th>AdaBoost feature importances</th>\n",
       "      <th>Gradient Boost feature importances</th>\n",
       "      <th>mean</th>\n",
       "    </tr>\n",
       "  </thead>\n",
       "  <tbody>\n",
       "    <tr>\n",
       "      <th>0</th>\n",
       "      <td>Pclass</td>\n",
       "      <td>0.103984</td>\n",
       "      <td>0.121003</td>\n",
       "      <td>0.028</td>\n",
       "      <td>0.084977</td>\n",
       "      <td>0.084491</td>\n",
       "    </tr>\n",
       "    <tr>\n",
       "      <th>1</th>\n",
       "      <td>Sex</td>\n",
       "      <td>0.217275</td>\n",
       "      <td>0.385465</td>\n",
       "      <td>0.008</td>\n",
       "      <td>0.011170</td>\n",
       "      <td>0.155478</td>\n",
       "    </tr>\n",
       "    <tr>\n",
       "      <th>2</th>\n",
       "      <td>Age</td>\n",
       "      <td>0.035239</td>\n",
       "      <td>0.029380</td>\n",
       "      <td>0.016</td>\n",
       "      <td>0.052974</td>\n",
       "      <td>0.033398</td>\n",
       "    </tr>\n",
       "  </tbody>\n",
       "</table>\n",
       "</div>"
      ],
      "text/plain": [
       "  features  Random Forest feature importances  \\\n",
       "0   Pclass                           0.103984   \n",
       "1      Sex                           0.217275   \n",
       "2      Age                           0.035239   \n",
       "\n",
       "   Extra Trees feature importances  AdaBoost feature importances  \\\n",
       "0                         0.121003                         0.028   \n",
       "1                         0.385465                         0.008   \n",
       "2                         0.029380                         0.016   \n",
       "\n",
       "   Gradient Boost feature importances      mean  \n",
       "0                            0.084977  0.084491  \n",
       "1                            0.011170  0.155478  \n",
       "2                            0.052974  0.033398  "
      ]
     },
     "execution_count": 30,
     "metadata": {},
     "output_type": "execute_result"
    }
   ],
   "source": [
    "# Create the new column containing the average of values\n",
    "\n",
    "feature_dataframe['mean'] = feature_dataframe.iloc[:,1:].mean(axis= 1) # axis = 1 computes the mean row-wise\n",
    "feature_dataframe.head(3)"
   ]
  },
  {
   "cell_type": "markdown",
   "id": "682be169",
   "metadata": {
    "papermill": {
     "duration": 0.019108,
     "end_time": "2024-12-10T11:18:54.242003",
     "exception": false,
     "start_time": "2024-12-10T11:18:54.222895",
     "status": "completed"
    },
    "tags": []
   },
   "source": [
    "**Plotly Barplot of Average Feature Importances**"
   ]
  },
  {
   "cell_type": "code",
   "execution_count": 31,
   "id": "d0c2c1cb",
   "metadata": {
    "execution": {
     "iopub.execute_input": "2024-12-10T11:18:54.281575Z",
     "iopub.status.busy": "2024-12-10T11:18:54.281186Z",
     "iopub.status.idle": "2024-12-10T11:18:54.345028Z",
     "shell.execute_reply": "2024-12-10T11:18:54.343961Z"
    },
    "papermill": {
     "duration": 0.086714,
     "end_time": "2024-12-10T11:18:54.347371",
     "exception": false,
     "start_time": "2024-12-10T11:18:54.260657",
     "status": "completed"
    },
    "tags": []
   },
   "outputs": [
    {
     "data": {
      "text/html": [
       "<iframe\n",
       "    scrolling=\"no\"\n",
       "    width=\"100%\"\n",
       "    height=\"545px\"\n",
       "    src=\"iframe_figures/figure_31.html\"\n",
       "    frameborder=\"0\"\n",
       "    allowfullscreen\n",
       "></iframe>\n"
      ]
     },
     "metadata": {},
     "output_type": "display_data"
    }
   ],
   "source": [
    "y = feature_dataframe['mean'].values\n",
    "x = feature_dataframe['features'].values\n",
    "data = [go.Bar(\n",
    "            x= x,\n",
    "             y= y,\n",
    "            width = 0.5,\n",
    "            marker=dict(\n",
    "               color = feature_dataframe['mean'].values,\n",
    "            colorscale='Portland',\n",
    "            showscale=True,\n",
    "            reversescale = False\n",
    "            ),\n",
    "            opacity=0.6\n",
    "        )]\n",
    "\n",
    "layout= go.Layout(\n",
    "    autosize= True,\n",
    "    title= 'Barplots of Mean Feature Importance',\n",
    "    hovermode= 'closest',\n",
    "#     xaxis= dict(\n",
    "#         title= 'Pop',\n",
    "#         ticklen= 5,\n",
    "#         zeroline= False,\n",
    "#         gridwidth= 2,\n",
    "#     ),\n",
    "    yaxis=dict(\n",
    "        title= 'Feature Importance',\n",
    "        ticklen= 5,\n",
    "        gridwidth= 2\n",
    "    ),\n",
    "    showlegend= False\n",
    ")\n",
    "fig = go.Figure(data=data, layout=layout)\n",
    "# py.iplot(fig, filename='bar-direct-labels')\n",
    "fig.show(renderer='iframe') # 이거 추가하니까 그려짐.."
   ]
  },
  {
   "cell_type": "markdown",
   "id": "8697641f",
   "metadata": {
    "papermill": {
     "duration": 0.018531,
     "end_time": "2024-12-10T11:18:54.386794",
     "exception": false,
     "start_time": "2024-12-10T11:18:54.368263",
     "status": "completed"
    },
    "tags": []
   },
   "source": [
    "# 5. Second-Level Predictions from the First-level Output\n"
   ]
  },
  {
   "cell_type": "markdown",
   "id": "77e4427e",
   "metadata": {
    "papermill": {
     "duration": 0.018521,
     "end_time": "2024-12-10T11:18:54.424199",
     "exception": false,
     "start_time": "2024-12-10T11:18:54.405678",
     "status": "completed"
    },
    "tags": []
   },
   "source": [
    "## 5-1. First-level output as new features\n",
    "1단계의 예측을 얻었으므로 다음 classifier의 학습 데이터로 사용할 새로운 특징 세트를 구축하는 것으로 생각할 수 있음. 이전 classifier의 1단계 예측을 새 열로 설정하고 이를 기반으로 다음 classifier를 학습시킴."
   ]
  },
  {
   "cell_type": "code",
   "execution_count": 32,
   "id": "cf2bdb73",
   "metadata": {
    "execution": {
     "iopub.execute_input": "2024-12-10T11:18:54.463654Z",
     "iopub.status.busy": "2024-12-10T11:18:54.463262Z",
     "iopub.status.idle": "2024-12-10T11:18:54.477773Z",
     "shell.execute_reply": "2024-12-10T11:18:54.476659Z"
    },
    "papermill": {
     "duration": 0.037031,
     "end_time": "2024-12-10T11:18:54.480315",
     "exception": false,
     "start_time": "2024-12-10T11:18:54.443284",
     "status": "completed"
    },
    "tags": []
   },
   "outputs": [
    {
     "data": {
      "text/html": [
       "<div>\n",
       "<style scoped>\n",
       "    .dataframe tbody tr th:only-of-type {\n",
       "        vertical-align: middle;\n",
       "    }\n",
       "\n",
       "    .dataframe tbody tr th {\n",
       "        vertical-align: top;\n",
       "    }\n",
       "\n",
       "    .dataframe thead th {\n",
       "        text-align: right;\n",
       "    }\n",
       "</style>\n",
       "<table border=\"1\" class=\"dataframe\">\n",
       "  <thead>\n",
       "    <tr style=\"text-align: right;\">\n",
       "      <th></th>\n",
       "      <th>RandomForest</th>\n",
       "      <th>ExtraTrees</th>\n",
       "      <th>AdaBoost</th>\n",
       "      <th>GradientBoost</th>\n",
       "    </tr>\n",
       "  </thead>\n",
       "  <tbody>\n",
       "    <tr>\n",
       "      <th>0</th>\n",
       "      <td>0.0</td>\n",
       "      <td>0.0</td>\n",
       "      <td>0.0</td>\n",
       "      <td>0.0</td>\n",
       "    </tr>\n",
       "    <tr>\n",
       "      <th>1</th>\n",
       "      <td>1.0</td>\n",
       "      <td>1.0</td>\n",
       "      <td>1.0</td>\n",
       "      <td>1.0</td>\n",
       "    </tr>\n",
       "    <tr>\n",
       "      <th>2</th>\n",
       "      <td>1.0</td>\n",
       "      <td>0.0</td>\n",
       "      <td>1.0</td>\n",
       "      <td>1.0</td>\n",
       "    </tr>\n",
       "    <tr>\n",
       "      <th>3</th>\n",
       "      <td>1.0</td>\n",
       "      <td>1.0</td>\n",
       "      <td>1.0</td>\n",
       "      <td>1.0</td>\n",
       "    </tr>\n",
       "    <tr>\n",
       "      <th>4</th>\n",
       "      <td>0.0</td>\n",
       "      <td>0.0</td>\n",
       "      <td>0.0</td>\n",
       "      <td>0.0</td>\n",
       "    </tr>\n",
       "  </tbody>\n",
       "</table>\n",
       "</div>"
      ],
      "text/plain": [
       "   RandomForest  ExtraTrees  AdaBoost  GradientBoost\n",
       "0           0.0         0.0       0.0            0.0\n",
       "1           1.0         1.0       1.0            1.0\n",
       "2           1.0         0.0       1.0            1.0\n",
       "3           1.0         1.0       1.0            1.0\n",
       "4           0.0         0.0       0.0            0.0"
      ]
     },
     "execution_count": 32,
     "metadata": {},
     "output_type": "execute_result"
    }
   ],
   "source": [
    "base_predictions_train = pd.DataFrame({\n",
    "                                    'RandomForest':rf_oof_train.ravel(),\n",
    "                                    'ExtraTrees':et_oof_train.ravel(),\n",
    "                                    'AdaBoost':ada_oof_train.ravel(),\n",
    "                                    'GradientBoost':gb_oof_train.ravel()\n",
    "                                    })\n",
    "\n",
    "base_predictions_train.head()"
   ]
  },
  {
   "cell_type": "markdown",
   "id": "7c92f16d",
   "metadata": {
    "papermill": {
     "duration": 0.018841,
     "end_time": "2024-12-10T11:18:54.518687",
     "exception": false,
     "start_time": "2024-12-10T11:18:54.499846",
     "status": "completed"
    },
    "tags": []
   },
   "source": [
    "## 5-2. Correlation Heatmap of the Second Level Training set"
   ]
  },
  {
   "cell_type": "code",
   "execution_count": 33,
   "id": "e6209679",
   "metadata": {
    "execution": {
     "iopub.execute_input": "2024-12-10T11:18:54.557921Z",
     "iopub.status.busy": "2024-12-10T11:18:54.557495Z",
     "iopub.status.idle": "2024-12-10T11:18:54.621121Z",
     "shell.execute_reply": "2024-12-10T11:18:54.619898Z"
    },
    "papermill": {
     "duration": 0.086097,
     "end_time": "2024-12-10T11:18:54.623489",
     "exception": false,
     "start_time": "2024-12-10T11:18:54.537392",
     "status": "completed"
    },
    "tags": []
   },
   "outputs": [
    {
     "data": {
      "text/html": [
       "<iframe\n",
       "    scrolling=\"no\"\n",
       "    width=\"100%\"\n",
       "    height=\"545px\"\n",
       "    src=\"iframe_figures/figure_33.html\"\n",
       "    frameborder=\"0\"\n",
       "    allowfullscreen\n",
       "></iframe>\n"
      ]
     },
     "metadata": {},
     "output_type": "display_data"
    }
   ],
   "source": [
    "data = [\n",
    "    go.Heatmap(\n",
    "        z=base_predictions_train.astype(float).corr().values,\n",
    "        x=base_predictions_train.columns.values,\n",
    "        y=base_predictions_train.columns.values,\n",
    "         colorscale='Viridis',\n",
    "         showscale=True,\n",
    "         reversescale=True\n",
    "    )\n",
    "]\n",
    "\n",
    "fig = go.Figure(data=data)\n",
    "# py.iplot(data, filename='labelled-heatmap')\n",
    "fig.show(renderer='iframe') # 이거 추가하니까 그려짐.."
   ]
  },
  {
   "cell_type": "code",
   "execution_count": 34,
   "id": "407c850a",
   "metadata": {
    "execution": {
     "iopub.execute_input": "2024-12-10T11:18:54.663930Z",
     "iopub.status.busy": "2024-12-10T11:18:54.663496Z",
     "iopub.status.idle": "2024-12-10T11:18:54.669818Z",
     "shell.execute_reply": "2024-12-10T11:18:54.668682Z"
    },
    "papermill": {
     "duration": 0.029728,
     "end_time": "2024-12-10T11:18:54.672335",
     "exception": false,
     "start_time": "2024-12-10T11:18:54.642607",
     "status": "completed"
    },
    "tags": []
   },
   "outputs": [],
   "source": [
    "x_train = np.concatenate((et_oof_train, rf_oof_train, ada_oof_train, gb_oof_train, svc_oof_train),axis=1)\n",
    "x_test = np.concatenate((et_oof_test, rf_oof_test, ada_oof_test, gb_oof_test, svc_oof_test),axis=1)"
   ]
  },
  {
   "cell_type": "markdown",
   "id": "7764a589",
   "metadata": {
    "papermill": {
     "duration": 0.018504,
     "end_time": "2024-12-10T11:18:54.709783",
     "exception": false,
     "start_time": "2024-12-10T11:18:54.691279",
     "status": "completed"
    },
    "tags": []
   },
   "source": [
    "## 5-3. Second level learning model via XGBoost\n"
   ]
  },
  {
   "cell_type": "code",
   "execution_count": 35,
   "id": "0de1feb4",
   "metadata": {
    "execution": {
     "iopub.execute_input": "2024-12-10T11:18:54.749279Z",
     "iopub.status.busy": "2024-12-10T11:18:54.748904Z",
     "iopub.status.idle": "2024-12-10T11:18:55.118365Z",
     "shell.execute_reply": "2024-12-10T11:18:55.117255Z"
    },
    "papermill": {
     "duration": 0.392902,
     "end_time": "2024-12-10T11:18:55.121422",
     "exception": false,
     "start_time": "2024-12-10T11:18:54.728520",
     "status": "completed"
    },
    "tags": []
   },
   "outputs": [],
   "source": [
    "gbm = xgb.XGBClassifier(\n",
    "    n_estimators = 2000,\n",
    "    max_depth = 4,\n",
    "    min_child_weight = 2,\n",
    "    gamma = 0.9,\n",
    "    subsample=0.8,\n",
    "    colsample_bytree = 0.8,\n",
    "    objective = 'binary:logistic',\n",
    "    nthred = -1,\n",
    "    scale_pos_weight=1).fit(x_train, y_train)\n",
    "predictions = gbm.predict(x_test)"
   ]
  },
  {
   "cell_type": "markdown",
   "id": "e290af0c",
   "metadata": {
    "papermill": {
     "duration": 0.019207,
     "end_time": "2024-12-10T11:18:55.160333",
     "exception": false,
     "start_time": "2024-12-10T11:18:55.141126",
     "status": "completed"
    },
    "tags": []
   },
   "source": [
    "max_depth : 트리의 깊이. 너무 높은 숫자로 설정하면 과적합 위험\n",
    "\n",
    "gamma : 트리의 리프 노드에 추가 파티션을 만들기 위해 필요한 최소 손실 감소. 클수록 알고리즘은 보수적\n",
    "\n",
    "eta : 과적합을 방지하기 위해 각 부스팅 단계에서 사용되는 스텝 크기 축소 "
   ]
  },
  {
   "cell_type": "markdown",
   "id": "6ef5db1d",
   "metadata": {
    "papermill": {
     "duration": 0.020632,
     "end_time": "2024-12-10T11:18:55.203444",
     "exception": false,
     "start_time": "2024-12-10T11:18:55.182812",
     "status": "completed"
    },
    "tags": []
   },
   "source": [
    "## 5-4. Producing the Submission file"
   ]
  },
  {
   "cell_type": "code",
   "execution_count": 36,
   "id": "ddc82bc4",
   "metadata": {
    "execution": {
     "iopub.execute_input": "2024-12-10T11:18:55.244518Z",
     "iopub.status.busy": "2024-12-10T11:18:55.244136Z",
     "iopub.status.idle": "2024-12-10T11:18:55.253079Z",
     "shell.execute_reply": "2024-12-10T11:18:55.252101Z"
    },
    "papermill": {
     "duration": 0.032324,
     "end_time": "2024-12-10T11:18:55.255326",
     "exception": false,
     "start_time": "2024-12-10T11:18:55.223002",
     "status": "completed"
    },
    "tags": []
   },
   "outputs": [],
   "source": [
    "# Generate Submission File\n",
    "StackingSubmission = pd.DataFrame({'PassengerId':PassengerId,\n",
    "                                  'Survived':predictions})\n",
    "\n",
    "StackingSubmission.to_csv('submission.csv',index=False)"
   ]
  },
  {
   "cell_type": "code",
   "execution_count": null,
   "id": "7b5197f5",
   "metadata": {
    "papermill": {
     "duration": 0.018379,
     "end_time": "2024-12-10T11:18:55.292455",
     "exception": false,
     "start_time": "2024-12-10T11:18:55.274076",
     "status": "completed"
    },
    "tags": []
   },
   "outputs": [],
   "source": []
  }
 ],
 "metadata": {
  "kaggle": {
   "accelerator": "none",
   "dataSources": [
    {
     "databundleVersionId": 26502,
     "sourceId": 3136,
     "sourceType": "competition"
    }
   ],
   "dockerImageVersionId": 30786,
   "isGpuEnabled": false,
   "isInternetEnabled": true,
   "language": "python",
   "sourceType": "notebook"
  },
  "kernelspec": {
   "display_name": "Python 3",
   "language": "python",
   "name": "python3"
  },
  "language_info": {
   "codemirror_mode": {
    "name": "ipython",
    "version": 3
   },
   "file_extension": ".py",
   "mimetype": "text/x-python",
   "name": "python",
   "nbconvert_exporter": "python",
   "pygments_lexer": "ipython3",
   "version": "3.10.14"
  },
  "papermill": {
   "default_parameters": {},
   "duration": 103.357793,
   "end_time": "2024-12-10T11:18:56.335735",
   "environment_variables": {},
   "exception": null,
   "input_path": "__notebook__.ipynb",
   "output_path": "__notebook__.ipynb",
   "parameters": {},
   "start_time": "2024-12-10T11:17:12.977942",
   "version": "2.6.0"
  }
 },
 "nbformat": 4,
 "nbformat_minor": 5
}
