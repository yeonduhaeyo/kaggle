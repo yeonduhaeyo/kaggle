{
 "cells": [
  {
   "cell_type": "markdown",
   "id": "1734bf2c",
   "metadata": {
    "papermill": {
     "duration": 0.009122,
     "end_time": "2024-11-26T12:36:22.833627",
     "exception": false,
     "start_time": "2024-11-26T12:36:22.824505",
     "status": "completed"
    },
    "tags": []
   },
   "source": [
    "- 1 Introduction\n",
    "- 2 Load and check data\n",
    "    - 2.1 load data\n",
    "    - 2.2 Outlier detection\n",
    "    - 2.3 joining train and test set\n",
    "    - 2.4 check for null and missing values\n",
    "- 3 Feature analysis\n",
    "    - 3.1 Numerical values\n",
    "    - 3.2 Categorical values\n",
    "- 4 Filling missing Values\n",
    "    - 4.1 Age\n",
    "- 5 Feature engineering\n",
    "    - 5.1 Name/Title\n",
    "    - 5.2 Family Size\n",
    "    - 5.3 Cabin\n",
    "    - 5.4 Ticket\n",
    "- 6 Modeling\n",
    "    - 6.1 Simple modeling\n",
    "        - 6.1.1 Cross validate models\n",
    "        - 6.1.2 Hyperparamater tunning for best models\n",
    "        - 6.1.3 Plot learning curves\n",
    "        - 6.1.4 Feature importance of the tree based classifiers\n",
    "    -  6.2 Ensemble modeling\n",
    "        - 6.2.1 Combining models\n",
    "    -6.3 Prediction\n",
    "        - 6.3.1 Predict and Submit results"
   ]
  },
  {
   "cell_type": "markdown",
   "id": "ea775212",
   "metadata": {
    "_cell_guid": "b1076dfc-b9ad-4769-8c92-a6c4dae69d19",
    "_uuid": "8f2839f25d086af736a60e9eeb907d3b93b6e0e5",
    "papermill": {
     "duration": 0.007305,
     "end_time": "2024-11-26T12:36:22.849108",
     "exception": false,
     "start_time": "2024-11-26T12:36:22.841803",
     "status": "completed"
    },
    "tags": []
   },
   "source": [
    "# 1. Introduction"
   ]
  },
  {
   "cell_type": "code",
   "execution_count": 1,
   "id": "7e714df0",
   "metadata": {
    "execution": {
     "iopub.execute_input": "2024-11-26T12:36:22.866961Z",
     "iopub.status.busy": "2024-11-26T12:36:22.866533Z",
     "iopub.status.idle": "2024-11-26T12:36:26.209790Z",
     "shell.execute_reply": "2024-11-26T12:36:26.208488Z"
    },
    "papermill": {
     "duration": 3.354862,
     "end_time": "2024-11-26T12:36:26.212554",
     "exception": false,
     "start_time": "2024-11-26T12:36:22.857692",
     "status": "completed"
    },
    "tags": []
   },
   "outputs": [],
   "source": [
    "import pandas as pd\n",
    "import numpy as np\n",
    "import matplotlib.pyplot as plt\n",
    "import seaborn as sns\n",
    "%matplotlib inline\n",
    "\n",
    "from collections import Counter\n",
    "\n",
    "from sklearn.ensemble import RandomForestClassifier,AdaBoostClassifier, GradientBoostingClassifier,ExtraTreesClassifier,VotingClassifier\n",
    "from sklearn.discriminant_analysis import LinearDiscriminantAnalysis\n",
    "# LDA 선형 판별 분석\n",
    "from sklearn.linear_model import LogisticRegression\n",
    "from sklearn.neighbors import KNeighborsClassifier\n",
    "from sklearn.tree import DecisionTreeClassifier\n",
    "from sklearn.neural_network import MLPClassifier # 다층 신경망\n",
    "from sklearn.svm import SVC\n",
    "from sklearn.model_selection import GridSearchCV, cross_val_score,StratifiedKFold,learning_curve\n",
    "\n",
    "sns.set(style='white', context='notebook',palette='deep')\n",
    "\n",
    "import warnings\n",
    "warnings.simplefilter(action='ignore', category=FutureWarning)"
   ]
  },
  {
   "cell_type": "markdown",
   "id": "3885c6e1",
   "metadata": {
    "papermill": {
     "duration": 0.007118,
     "end_time": "2024-11-26T12:36:26.227465",
     "exception": false,
     "start_time": "2024-11-26T12:36:26.220347",
     "status": "completed"
    },
    "tags": []
   },
   "source": [
    "# 2. Load and check data"
   ]
  },
  {
   "cell_type": "markdown",
   "id": "e9c8f0df",
   "metadata": {
    "papermill": {
     "duration": 0.007078,
     "end_time": "2024-11-26T12:36:26.241842",
     "exception": false,
     "start_time": "2024-11-26T12:36:26.234764",
     "status": "completed"
    },
    "tags": []
   },
   "source": [
    "## 2-1. Load data"
   ]
  },
  {
   "cell_type": "code",
   "execution_count": 2,
   "id": "a7239caf",
   "metadata": {
    "execution": {
     "iopub.execute_input": "2024-11-26T12:36:26.258633Z",
     "iopub.status.busy": "2024-11-26T12:36:26.258076Z",
     "iopub.status.idle": "2024-11-26T12:36:26.298670Z",
     "shell.execute_reply": "2024-11-26T12:36:26.297441Z"
    },
    "papermill": {
     "duration": 0.052198,
     "end_time": "2024-11-26T12:36:26.301391",
     "exception": false,
     "start_time": "2024-11-26T12:36:26.249193",
     "status": "completed"
    },
    "tags": []
   },
   "outputs": [],
   "source": [
    "train = pd.read_csv(\"../input/titanic/train.csv\")\n",
    "test = pd.read_csv(\"../input/titanic/test.csv\")\n",
    "IDtest = test[\"PassengerId\"]"
   ]
  },
  {
   "cell_type": "markdown",
   "id": "08236927",
   "metadata": {
    "papermill": {
     "duration": 0.00713,
     "end_time": "2024-11-26T12:36:26.315979",
     "exception": false,
     "start_time": "2024-11-26T12:36:26.308849",
     "status": "completed"
    },
    "tags": []
   },
   "source": [
    "## 2-2. Outlier detection"
   ]
  },
  {
   "cell_type": "code",
   "execution_count": 3,
   "id": "11411455",
   "metadata": {
    "execution": {
     "iopub.execute_input": "2024-11-26T12:36:26.332277Z",
     "iopub.status.busy": "2024-11-26T12:36:26.331859Z",
     "iopub.status.idle": "2024-11-26T12:36:26.357404Z",
     "shell.execute_reply": "2024-11-26T12:36:26.355914Z"
    },
    "papermill": {
     "duration": 0.037112,
     "end_time": "2024-11-26T12:36:26.360322",
     "exception": false,
     "start_time": "2024-11-26T12:36:26.323210",
     "status": "completed"
    },
    "tags": []
   },
   "outputs": [],
   "source": [
    "def detect_outliers(df,n,features):\n",
    "    outlier_indices  = []\n",
    "\n",
    "    for col in features:\n",
    "        Q1 = np.percentile(df[col],25)\n",
    "        Q3 = np.percentile(df[col],75)\n",
    "        IQR = Q3-Q1\n",
    "\n",
    "        outlier_step = 1.5 * IQR\n",
    "\n",
    "        outlier_list_col = df[(df[col]<Q1 - outlier_step) | (df[col]>Q3+outlier_step)].index\n",
    "        outlier_indices .extend(outlier_list_col)\n",
    "\n",
    "    outlier_indices = Counter(outlier_indices)\n",
    "    multiple_outliers = list( k for k,v in outlier_indices.items() if v>n )\n",
    "\n",
    "    return multiple_outliers\n",
    "\n",
    "Outliers_to_drop = detect_outliers(train,2,[\"Age\",\"SibSp\",'Parch',\"Fare\"])"
   ]
  },
  {
   "cell_type": "markdown",
   "id": "29b748a7",
   "metadata": {
    "papermill": {
     "duration": 0.007847,
     "end_time": "2024-11-26T12:36:26.376317",
     "exception": false,
     "start_time": "2024-11-26T12:36:26.368470",
     "status": "completed"
    },
    "tags": []
   },
   "source": [
    "Outlier는 예측에 영향을 미칠 수 있으므로 관리하기로 결정함.\n",
    "\n",
    "Age, SibSp, Parch, Fare에서 이상치를 감지하기로 결정하고 이상치가 두개 이상인 행을 이상치 행으로 결정함."
   ]
  },
  {
   "cell_type": "code",
   "execution_count": 4,
   "id": "f80df277",
   "metadata": {
    "execution": {
     "iopub.execute_input": "2024-11-26T12:36:26.393662Z",
     "iopub.status.busy": "2024-11-26T12:36:26.393253Z",
     "iopub.status.idle": "2024-11-26T12:36:26.416014Z",
     "shell.execute_reply": "2024-11-26T12:36:26.414749Z"
    },
    "papermill": {
     "duration": 0.034856,
     "end_time": "2024-11-26T12:36:26.419024",
     "exception": false,
     "start_time": "2024-11-26T12:36:26.384168",
     "status": "completed"
    },
    "tags": []
   },
   "outputs": [
    {
     "data": {
      "text/html": [
       "<div>\n",
       "<style scoped>\n",
       "    .dataframe tbody tr th:only-of-type {\n",
       "        vertical-align: middle;\n",
       "    }\n",
       "\n",
       "    .dataframe tbody tr th {\n",
       "        vertical-align: top;\n",
       "    }\n",
       "\n",
       "    .dataframe thead th {\n",
       "        text-align: right;\n",
       "    }\n",
       "</style>\n",
       "<table border=\"1\" class=\"dataframe\">\n",
       "  <thead>\n",
       "    <tr style=\"text-align: right;\">\n",
       "      <th></th>\n",
       "      <th>PassengerId</th>\n",
       "      <th>Survived</th>\n",
       "      <th>Pclass</th>\n",
       "      <th>Name</th>\n",
       "      <th>Sex</th>\n",
       "      <th>Age</th>\n",
       "      <th>SibSp</th>\n",
       "      <th>Parch</th>\n",
       "      <th>Ticket</th>\n",
       "      <th>Fare</th>\n",
       "      <th>Cabin</th>\n",
       "      <th>Embarked</th>\n",
       "    </tr>\n",
       "  </thead>\n",
       "  <tbody>\n",
       "    <tr>\n",
       "      <th>27</th>\n",
       "      <td>28</td>\n",
       "      <td>0</td>\n",
       "      <td>1</td>\n",
       "      <td>Fortune, Mr. Charles Alexander</td>\n",
       "      <td>male</td>\n",
       "      <td>19.0</td>\n",
       "      <td>3</td>\n",
       "      <td>2</td>\n",
       "      <td>19950</td>\n",
       "      <td>263.00</td>\n",
       "      <td>C23 C25 C27</td>\n",
       "      <td>S</td>\n",
       "    </tr>\n",
       "    <tr>\n",
       "      <th>88</th>\n",
       "      <td>89</td>\n",
       "      <td>1</td>\n",
       "      <td>1</td>\n",
       "      <td>Fortune, Miss. Mabel Helen</td>\n",
       "      <td>female</td>\n",
       "      <td>23.0</td>\n",
       "      <td>3</td>\n",
       "      <td>2</td>\n",
       "      <td>19950</td>\n",
       "      <td>263.00</td>\n",
       "      <td>C23 C25 C27</td>\n",
       "      <td>S</td>\n",
       "    </tr>\n",
       "    <tr>\n",
       "      <th>159</th>\n",
       "      <td>160</td>\n",
       "      <td>0</td>\n",
       "      <td>3</td>\n",
       "      <td>Sage, Master. Thomas Henry</td>\n",
       "      <td>male</td>\n",
       "      <td>NaN</td>\n",
       "      <td>8</td>\n",
       "      <td>2</td>\n",
       "      <td>CA. 2343</td>\n",
       "      <td>69.55</td>\n",
       "      <td>NaN</td>\n",
       "      <td>S</td>\n",
       "    </tr>\n",
       "    <tr>\n",
       "      <th>180</th>\n",
       "      <td>181</td>\n",
       "      <td>0</td>\n",
       "      <td>3</td>\n",
       "      <td>Sage, Miss. Constance Gladys</td>\n",
       "      <td>female</td>\n",
       "      <td>NaN</td>\n",
       "      <td>8</td>\n",
       "      <td>2</td>\n",
       "      <td>CA. 2343</td>\n",
       "      <td>69.55</td>\n",
       "      <td>NaN</td>\n",
       "      <td>S</td>\n",
       "    </tr>\n",
       "    <tr>\n",
       "      <th>201</th>\n",
       "      <td>202</td>\n",
       "      <td>0</td>\n",
       "      <td>3</td>\n",
       "      <td>Sage, Mr. Frederick</td>\n",
       "      <td>male</td>\n",
       "      <td>NaN</td>\n",
       "      <td>8</td>\n",
       "      <td>2</td>\n",
       "      <td>CA. 2343</td>\n",
       "      <td>69.55</td>\n",
       "      <td>NaN</td>\n",
       "      <td>S</td>\n",
       "    </tr>\n",
       "    <tr>\n",
       "      <th>324</th>\n",
       "      <td>325</td>\n",
       "      <td>0</td>\n",
       "      <td>3</td>\n",
       "      <td>Sage, Mr. George John Jr</td>\n",
       "      <td>male</td>\n",
       "      <td>NaN</td>\n",
       "      <td>8</td>\n",
       "      <td>2</td>\n",
       "      <td>CA. 2343</td>\n",
       "      <td>69.55</td>\n",
       "      <td>NaN</td>\n",
       "      <td>S</td>\n",
       "    </tr>\n",
       "    <tr>\n",
       "      <th>341</th>\n",
       "      <td>342</td>\n",
       "      <td>1</td>\n",
       "      <td>1</td>\n",
       "      <td>Fortune, Miss. Alice Elizabeth</td>\n",
       "      <td>female</td>\n",
       "      <td>24.0</td>\n",
       "      <td>3</td>\n",
       "      <td>2</td>\n",
       "      <td>19950</td>\n",
       "      <td>263.00</td>\n",
       "      <td>C23 C25 C27</td>\n",
       "      <td>S</td>\n",
       "    </tr>\n",
       "    <tr>\n",
       "      <th>792</th>\n",
       "      <td>793</td>\n",
       "      <td>0</td>\n",
       "      <td>3</td>\n",
       "      <td>Sage, Miss. Stella Anna</td>\n",
       "      <td>female</td>\n",
       "      <td>NaN</td>\n",
       "      <td>8</td>\n",
       "      <td>2</td>\n",
       "      <td>CA. 2343</td>\n",
       "      <td>69.55</td>\n",
       "      <td>NaN</td>\n",
       "      <td>S</td>\n",
       "    </tr>\n",
       "    <tr>\n",
       "      <th>846</th>\n",
       "      <td>847</td>\n",
       "      <td>0</td>\n",
       "      <td>3</td>\n",
       "      <td>Sage, Mr. Douglas Bullen</td>\n",
       "      <td>male</td>\n",
       "      <td>NaN</td>\n",
       "      <td>8</td>\n",
       "      <td>2</td>\n",
       "      <td>CA. 2343</td>\n",
       "      <td>69.55</td>\n",
       "      <td>NaN</td>\n",
       "      <td>S</td>\n",
       "    </tr>\n",
       "    <tr>\n",
       "      <th>863</th>\n",
       "      <td>864</td>\n",
       "      <td>0</td>\n",
       "      <td>3</td>\n",
       "      <td>Sage, Miss. Dorothy Edith \"Dolly\"</td>\n",
       "      <td>female</td>\n",
       "      <td>NaN</td>\n",
       "      <td>8</td>\n",
       "      <td>2</td>\n",
       "      <td>CA. 2343</td>\n",
       "      <td>69.55</td>\n",
       "      <td>NaN</td>\n",
       "      <td>S</td>\n",
       "    </tr>\n",
       "  </tbody>\n",
       "</table>\n",
       "</div>"
      ],
      "text/plain": [
       "     PassengerId  Survived  Pclass                               Name     Sex  \\\n",
       "27            28         0       1     Fortune, Mr. Charles Alexander    male   \n",
       "88            89         1       1         Fortune, Miss. Mabel Helen  female   \n",
       "159          160         0       3         Sage, Master. Thomas Henry    male   \n",
       "180          181         0       3       Sage, Miss. Constance Gladys  female   \n",
       "201          202         0       3                Sage, Mr. Frederick    male   \n",
       "324          325         0       3           Sage, Mr. George John Jr    male   \n",
       "341          342         1       1     Fortune, Miss. Alice Elizabeth  female   \n",
       "792          793         0       3            Sage, Miss. Stella Anna  female   \n",
       "846          847         0       3           Sage, Mr. Douglas Bullen    male   \n",
       "863          864         0       3  Sage, Miss. Dorothy Edith \"Dolly\"  female   \n",
       "\n",
       "      Age  SibSp  Parch    Ticket    Fare        Cabin Embarked  \n",
       "27   19.0      3      2     19950  263.00  C23 C25 C27        S  \n",
       "88   23.0      3      2     19950  263.00  C23 C25 C27        S  \n",
       "159   NaN      8      2  CA. 2343   69.55          NaN        S  \n",
       "180   NaN      8      2  CA. 2343   69.55          NaN        S  \n",
       "201   NaN      8      2  CA. 2343   69.55          NaN        S  \n",
       "324   NaN      8      2  CA. 2343   69.55          NaN        S  \n",
       "341  24.0      3      2     19950  263.00  C23 C25 C27        S  \n",
       "792   NaN      8      2  CA. 2343   69.55          NaN        S  \n",
       "846   NaN      8      2  CA. 2343   69.55          NaN        S  \n",
       "863   NaN      8      2  CA. 2343   69.55          NaN        S  "
      ]
     },
     "execution_count": 4,
     "metadata": {},
     "output_type": "execute_result"
    }
   ],
   "source": [
    "train.loc[Outliers_to_drop]"
   ]
  },
  {
   "cell_type": "markdown",
   "id": "1b740137",
   "metadata": {
    "papermill": {
     "duration": 0.007423,
     "end_time": "2024-11-26T12:36:26.434674",
     "exception": false,
     "start_time": "2024-11-26T12:36:26.427251",
     "status": "completed"
    },
    "tags": []
   },
   "source": [
    "10개의 outliers를 발견했음.\n",
    "- 28, 89, 342 승객은 높은 Ticket Fare 값을 가지고 있음\n",
    "- 다른 7명은 SibSp의 값이 높음."
   ]
  },
  {
   "cell_type": "code",
   "execution_count": 5,
   "id": "57af861e",
   "metadata": {
    "execution": {
     "iopub.execute_input": "2024-11-26T12:36:26.451613Z",
     "iopub.status.busy": "2024-11-26T12:36:26.451254Z",
     "iopub.status.idle": "2024-11-26T12:36:26.458199Z",
     "shell.execute_reply": "2024-11-26T12:36:26.457172Z"
    },
    "papermill": {
     "duration": 0.018252,
     "end_time": "2024-11-26T12:36:26.460553",
     "exception": false,
     "start_time": "2024-11-26T12:36:26.442301",
     "status": "completed"
    },
    "tags": []
   },
   "outputs": [],
   "source": [
    "# Drop outliers\n",
    "train = train.drop(Outliers_to_drop,axis = 0).reset_index(drop=True)"
   ]
  },
  {
   "cell_type": "markdown",
   "id": "72a7107e",
   "metadata": {
    "papermill": {
     "duration": 0.007592,
     "end_time": "2024-11-26T12:36:26.476263",
     "exception": false,
     "start_time": "2024-11-26T12:36:26.468671",
     "status": "completed"
    },
    "tags": []
   },
   "source": [
    "## 2-3. Joining train and test set"
   ]
  },
  {
   "cell_type": "code",
   "execution_count": 6,
   "id": "f2592963",
   "metadata": {
    "execution": {
     "iopub.execute_input": "2024-11-26T12:36:26.494256Z",
     "iopub.status.busy": "2024-11-26T12:36:26.493854Z",
     "iopub.status.idle": "2024-11-26T12:36:26.504278Z",
     "shell.execute_reply": "2024-11-26T12:36:26.503140Z"
    },
    "papermill": {
     "duration": 0.022709,
     "end_time": "2024-11-26T12:36:26.507084",
     "exception": false,
     "start_time": "2024-11-26T12:36:26.484375",
     "status": "completed"
    },
    "tags": []
   },
   "outputs": [],
   "source": [
    "train_len = len(train)\n",
    "dataset = pd.concat(objs = [train,test],axis =0).reset_index(drop=True)"
   ]
  },
  {
   "cell_type": "markdown",
   "id": "86c256e1",
   "metadata": {
    "papermill": {
     "duration": 0.008062,
     "end_time": "2024-11-26T12:36:26.524247",
     "exception": false,
     "start_time": "2024-11-26T12:36:26.516185",
     "status": "completed"
    },
    "tags": []
   },
   "source": [
    "훈련 데이터셋과 테스트 데이터셋을 join함 범주형 변환하는 동안 같은 수의 feature를 얻기 위해"
   ]
  },
  {
   "cell_type": "markdown",
   "id": "f110bcc1",
   "metadata": {
    "papermill": {
     "duration": 0.008615,
     "end_time": "2024-11-26T12:36:26.541142",
     "exception": false,
     "start_time": "2024-11-26T12:36:26.532527",
     "status": "completed"
    },
    "tags": []
   },
   "source": [
    "## 2-4. Check for null and missing values"
   ]
  },
  {
   "cell_type": "code",
   "execution_count": 7,
   "id": "28128838",
   "metadata": {
    "execution": {
     "iopub.execute_input": "2024-11-26T12:36:26.559793Z",
     "iopub.status.busy": "2024-11-26T12:36:26.559406Z",
     "iopub.status.idle": "2024-11-26T12:36:26.573318Z",
     "shell.execute_reply": "2024-11-26T12:36:26.571825Z"
    },
    "papermill": {
     "duration": 0.025971,
     "end_time": "2024-11-26T12:36:26.575840",
     "exception": false,
     "start_time": "2024-11-26T12:36:26.549869",
     "status": "completed"
    },
    "tags": []
   },
   "outputs": [
    {
     "data": {
      "text/plain": [
       "PassengerId       0\n",
       "Survived        418\n",
       "Pclass            0\n",
       "Name              0\n",
       "Sex               0\n",
       "Age             256\n",
       "SibSp             0\n",
       "Parch             0\n",
       "Ticket            0\n",
       "Fare              1\n",
       "Cabin          1007\n",
       "Embarked          2\n",
       "dtype: int64"
      ]
     },
     "execution_count": 7,
     "metadata": {},
     "output_type": "execute_result"
    }
   ],
   "source": [
    "# Fill empty and NaNs values with NaN\n",
    "dataset = dataset.fillna(np.nan)\n",
    "\n",
    "# check for null values\n",
    "dataset.isnull().sum()"
   ]
  },
  {
   "cell_type": "markdown",
   "id": "c102ed77",
   "metadata": {
    "papermill": {
     "duration": 0.007492,
     "end_time": "2024-11-26T12:36:26.591556",
     "exception": false,
     "start_time": "2024-11-26T12:36:26.584064",
     "status": "completed"
    },
    "tags": []
   },
   "source": [
    "Age와 Cabin feature는 결측값의 대부분을 차지함.\n",
    "\n",
    "Survived의 결측값은 테스트데이터셋에 해당됨."
   ]
  },
  {
   "cell_type": "code",
   "execution_count": 8,
   "id": "7e936a21",
   "metadata": {
    "execution": {
     "iopub.execute_input": "2024-11-26T12:36:26.608899Z",
     "iopub.status.busy": "2024-11-26T12:36:26.608533Z",
     "iopub.status.idle": "2024-11-26T12:36:26.642553Z",
     "shell.execute_reply": "2024-11-26T12:36:26.640947Z"
    },
    "papermill": {
     "duration": 0.045889,
     "end_time": "2024-11-26T12:36:26.645287",
     "exception": false,
     "start_time": "2024-11-26T12:36:26.599398",
     "status": "completed"
    },
    "tags": []
   },
   "outputs": [
    {
     "name": "stdout",
     "output_type": "stream",
     "text": [
      "<class 'pandas.core.frame.DataFrame'>\n",
      "RangeIndex: 881 entries, 0 to 880\n",
      "Data columns (total 12 columns):\n",
      " #   Column       Non-Null Count  Dtype  \n",
      "---  ------       --------------  -----  \n",
      " 0   PassengerId  881 non-null    int64  \n",
      " 1   Survived     881 non-null    int64  \n",
      " 2   Pclass       881 non-null    int64  \n",
      " 3   Name         881 non-null    object \n",
      " 4   Sex          881 non-null    object \n",
      " 5   Age          711 non-null    float64\n",
      " 6   SibSp        881 non-null    int64  \n",
      " 7   Parch        881 non-null    int64  \n",
      " 8   Ticket       881 non-null    object \n",
      " 9   Fare         881 non-null    float64\n",
      " 10  Cabin        201 non-null    object \n",
      " 11  Embarked     879 non-null    object \n",
      "dtypes: float64(2), int64(5), object(5)\n",
      "memory usage: 82.7+ KB\n"
     ]
    },
    {
     "data": {
      "text/plain": [
       "PassengerId      0\n",
       "Survived         0\n",
       "Pclass           0\n",
       "Name             0\n",
       "Sex              0\n",
       "Age            170\n",
       "SibSp            0\n",
       "Parch            0\n",
       "Ticket           0\n",
       "Fare             0\n",
       "Cabin          680\n",
       "Embarked         2\n",
       "dtype: int64"
      ]
     },
     "execution_count": 8,
     "metadata": {},
     "output_type": "execute_result"
    }
   ],
   "source": [
    "train.info()\n",
    "train.isnull().sum()"
   ]
  },
  {
   "cell_type": "code",
   "execution_count": 9,
   "id": "08dfda1a",
   "metadata": {
    "execution": {
     "iopub.execute_input": "2024-11-26T12:36:26.664533Z",
     "iopub.status.busy": "2024-11-26T12:36:26.664086Z",
     "iopub.status.idle": "2024-11-26T12:36:26.681175Z",
     "shell.execute_reply": "2024-11-26T12:36:26.679966Z"
    },
    "papermill": {
     "duration": 0.029696,
     "end_time": "2024-11-26T12:36:26.683506",
     "exception": false,
     "start_time": "2024-11-26T12:36:26.653810",
     "status": "completed"
    },
    "tags": []
   },
   "outputs": [
    {
     "data": {
      "text/html": [
       "<div>\n",
       "<style scoped>\n",
       "    .dataframe tbody tr th:only-of-type {\n",
       "        vertical-align: middle;\n",
       "    }\n",
       "\n",
       "    .dataframe tbody tr th {\n",
       "        vertical-align: top;\n",
       "    }\n",
       "\n",
       "    .dataframe thead th {\n",
       "        text-align: right;\n",
       "    }\n",
       "</style>\n",
       "<table border=\"1\" class=\"dataframe\">\n",
       "  <thead>\n",
       "    <tr style=\"text-align: right;\">\n",
       "      <th></th>\n",
       "      <th>PassengerId</th>\n",
       "      <th>Survived</th>\n",
       "      <th>Pclass</th>\n",
       "      <th>Name</th>\n",
       "      <th>Sex</th>\n",
       "      <th>Age</th>\n",
       "      <th>SibSp</th>\n",
       "      <th>Parch</th>\n",
       "      <th>Ticket</th>\n",
       "      <th>Fare</th>\n",
       "      <th>Cabin</th>\n",
       "      <th>Embarked</th>\n",
       "    </tr>\n",
       "  </thead>\n",
       "  <tbody>\n",
       "    <tr>\n",
       "      <th>0</th>\n",
       "      <td>1</td>\n",
       "      <td>0</td>\n",
       "      <td>3</td>\n",
       "      <td>Braund, Mr. Owen Harris</td>\n",
       "      <td>male</td>\n",
       "      <td>22.0</td>\n",
       "      <td>1</td>\n",
       "      <td>0</td>\n",
       "      <td>A/5 21171</td>\n",
       "      <td>7.2500</td>\n",
       "      <td>NaN</td>\n",
       "      <td>S</td>\n",
       "    </tr>\n",
       "    <tr>\n",
       "      <th>1</th>\n",
       "      <td>2</td>\n",
       "      <td>1</td>\n",
       "      <td>1</td>\n",
       "      <td>Cumings, Mrs. John Bradley (Florence Briggs Th...</td>\n",
       "      <td>female</td>\n",
       "      <td>38.0</td>\n",
       "      <td>1</td>\n",
       "      <td>0</td>\n",
       "      <td>PC 17599</td>\n",
       "      <td>71.2833</td>\n",
       "      <td>C85</td>\n",
       "      <td>C</td>\n",
       "    </tr>\n",
       "    <tr>\n",
       "      <th>2</th>\n",
       "      <td>3</td>\n",
       "      <td>1</td>\n",
       "      <td>3</td>\n",
       "      <td>Heikkinen, Miss. Laina</td>\n",
       "      <td>female</td>\n",
       "      <td>26.0</td>\n",
       "      <td>0</td>\n",
       "      <td>0</td>\n",
       "      <td>STON/O2. 3101282</td>\n",
       "      <td>7.9250</td>\n",
       "      <td>NaN</td>\n",
       "      <td>S</td>\n",
       "    </tr>\n",
       "    <tr>\n",
       "      <th>3</th>\n",
       "      <td>4</td>\n",
       "      <td>1</td>\n",
       "      <td>1</td>\n",
       "      <td>Futrelle, Mrs. Jacques Heath (Lily May Peel)</td>\n",
       "      <td>female</td>\n",
       "      <td>35.0</td>\n",
       "      <td>1</td>\n",
       "      <td>0</td>\n",
       "      <td>113803</td>\n",
       "      <td>53.1000</td>\n",
       "      <td>C123</td>\n",
       "      <td>S</td>\n",
       "    </tr>\n",
       "    <tr>\n",
       "      <th>4</th>\n",
       "      <td>5</td>\n",
       "      <td>0</td>\n",
       "      <td>3</td>\n",
       "      <td>Allen, Mr. William Henry</td>\n",
       "      <td>male</td>\n",
       "      <td>35.0</td>\n",
       "      <td>0</td>\n",
       "      <td>0</td>\n",
       "      <td>373450</td>\n",
       "      <td>8.0500</td>\n",
       "      <td>NaN</td>\n",
       "      <td>S</td>\n",
       "    </tr>\n",
       "  </tbody>\n",
       "</table>\n",
       "</div>"
      ],
      "text/plain": [
       "   PassengerId  Survived  Pclass  \\\n",
       "0            1         0       3   \n",
       "1            2         1       1   \n",
       "2            3         1       3   \n",
       "3            4         1       1   \n",
       "4            5         0       3   \n",
       "\n",
       "                                                Name     Sex   Age  SibSp  \\\n",
       "0                            Braund, Mr. Owen Harris    male  22.0      1   \n",
       "1  Cumings, Mrs. John Bradley (Florence Briggs Th...  female  38.0      1   \n",
       "2                             Heikkinen, Miss. Laina  female  26.0      0   \n",
       "3       Futrelle, Mrs. Jacques Heath (Lily May Peel)  female  35.0      1   \n",
       "4                           Allen, Mr. William Henry    male  35.0      0   \n",
       "\n",
       "   Parch            Ticket     Fare Cabin Embarked  \n",
       "0      0         A/5 21171   7.2500   NaN        S  \n",
       "1      0          PC 17599  71.2833   C85        C  \n",
       "2      0  STON/O2. 3101282   7.9250   NaN        S  \n",
       "3      0            113803  53.1000  C123        S  \n",
       "4      0            373450   8.0500   NaN        S  "
      ]
     },
     "execution_count": 9,
     "metadata": {},
     "output_type": "execute_result"
    }
   ],
   "source": [
    "train.head()"
   ]
  },
  {
   "cell_type": "code",
   "execution_count": 10,
   "id": "47973ec4",
   "metadata": {
    "execution": {
     "iopub.execute_input": "2024-11-26T12:36:26.702551Z",
     "iopub.status.busy": "2024-11-26T12:36:26.702188Z",
     "iopub.status.idle": "2024-11-26T12:36:26.710959Z",
     "shell.execute_reply": "2024-11-26T12:36:26.709773Z"
    },
    "papermill": {
     "duration": 0.021485,
     "end_time": "2024-11-26T12:36:26.713819",
     "exception": false,
     "start_time": "2024-11-26T12:36:26.692334",
     "status": "completed"
    },
    "tags": []
   },
   "outputs": [
    {
     "data": {
      "text/plain": [
       "PassengerId      int64\n",
       "Survived         int64\n",
       "Pclass           int64\n",
       "Name            object\n",
       "Sex             object\n",
       "Age            float64\n",
       "SibSp            int64\n",
       "Parch            int64\n",
       "Ticket          object\n",
       "Fare           float64\n",
       "Cabin           object\n",
       "Embarked        object\n",
       "dtype: object"
      ]
     },
     "execution_count": 10,
     "metadata": {},
     "output_type": "execute_result"
    }
   ],
   "source": [
    "train.dtypes"
   ]
  },
  {
   "cell_type": "code",
   "execution_count": 11,
   "id": "78557cac",
   "metadata": {
    "execution": {
     "iopub.execute_input": "2024-11-26T12:36:26.732321Z",
     "iopub.status.busy": "2024-11-26T12:36:26.731969Z",
     "iopub.status.idle": "2024-11-26T12:36:26.762941Z",
     "shell.execute_reply": "2024-11-26T12:36:26.761634Z"
    },
    "papermill": {
     "duration": 0.043095,
     "end_time": "2024-11-26T12:36:26.765561",
     "exception": false,
     "start_time": "2024-11-26T12:36:26.722466",
     "status": "completed"
    },
    "tags": []
   },
   "outputs": [
    {
     "data": {
      "text/html": [
       "<div>\n",
       "<style scoped>\n",
       "    .dataframe tbody tr th:only-of-type {\n",
       "        vertical-align: middle;\n",
       "    }\n",
       "\n",
       "    .dataframe tbody tr th {\n",
       "        vertical-align: top;\n",
       "    }\n",
       "\n",
       "    .dataframe thead th {\n",
       "        text-align: right;\n",
       "    }\n",
       "</style>\n",
       "<table border=\"1\" class=\"dataframe\">\n",
       "  <thead>\n",
       "    <tr style=\"text-align: right;\">\n",
       "      <th></th>\n",
       "      <th>PassengerId</th>\n",
       "      <th>Survived</th>\n",
       "      <th>Pclass</th>\n",
       "      <th>Age</th>\n",
       "      <th>SibSp</th>\n",
       "      <th>Parch</th>\n",
       "      <th>Fare</th>\n",
       "    </tr>\n",
       "  </thead>\n",
       "  <tbody>\n",
       "    <tr>\n",
       "      <th>count</th>\n",
       "      <td>881.000000</td>\n",
       "      <td>881.000000</td>\n",
       "      <td>881.000000</td>\n",
       "      <td>711.000000</td>\n",
       "      <td>881.000000</td>\n",
       "      <td>881.000000</td>\n",
       "      <td>881.000000</td>\n",
       "    </tr>\n",
       "    <tr>\n",
       "      <th>mean</th>\n",
       "      <td>446.713961</td>\n",
       "      <td>0.385925</td>\n",
       "      <td>2.307605</td>\n",
       "      <td>29.731603</td>\n",
       "      <td>0.455165</td>\n",
       "      <td>0.363224</td>\n",
       "      <td>31.121566</td>\n",
       "    </tr>\n",
       "    <tr>\n",
       "      <th>std</th>\n",
       "      <td>256.617021</td>\n",
       "      <td>0.487090</td>\n",
       "      <td>0.835055</td>\n",
       "      <td>14.547835</td>\n",
       "      <td>0.871571</td>\n",
       "      <td>0.791839</td>\n",
       "      <td>47.996249</td>\n",
       "    </tr>\n",
       "    <tr>\n",
       "      <th>min</th>\n",
       "      <td>1.000000</td>\n",
       "      <td>0.000000</td>\n",
       "      <td>1.000000</td>\n",
       "      <td>0.420000</td>\n",
       "      <td>0.000000</td>\n",
       "      <td>0.000000</td>\n",
       "      <td>0.000000</td>\n",
       "    </tr>\n",
       "    <tr>\n",
       "      <th>25%</th>\n",
       "      <td>226.000000</td>\n",
       "      <td>0.000000</td>\n",
       "      <td>2.000000</td>\n",
       "      <td>20.250000</td>\n",
       "      <td>0.000000</td>\n",
       "      <td>0.000000</td>\n",
       "      <td>7.895800</td>\n",
       "    </tr>\n",
       "    <tr>\n",
       "      <th>50%</th>\n",
       "      <td>448.000000</td>\n",
       "      <td>0.000000</td>\n",
       "      <td>3.000000</td>\n",
       "      <td>28.000000</td>\n",
       "      <td>0.000000</td>\n",
       "      <td>0.000000</td>\n",
       "      <td>14.454200</td>\n",
       "    </tr>\n",
       "    <tr>\n",
       "      <th>75%</th>\n",
       "      <td>668.000000</td>\n",
       "      <td>1.000000</td>\n",
       "      <td>3.000000</td>\n",
       "      <td>38.000000</td>\n",
       "      <td>1.000000</td>\n",
       "      <td>0.000000</td>\n",
       "      <td>30.500000</td>\n",
       "    </tr>\n",
       "    <tr>\n",
       "      <th>max</th>\n",
       "      <td>891.000000</td>\n",
       "      <td>1.000000</td>\n",
       "      <td>3.000000</td>\n",
       "      <td>80.000000</td>\n",
       "      <td>5.000000</td>\n",
       "      <td>6.000000</td>\n",
       "      <td>512.329200</td>\n",
       "    </tr>\n",
       "  </tbody>\n",
       "</table>\n",
       "</div>"
      ],
      "text/plain": [
       "       PassengerId    Survived      Pclass         Age       SibSp  \\\n",
       "count   881.000000  881.000000  881.000000  711.000000  881.000000   \n",
       "mean    446.713961    0.385925    2.307605   29.731603    0.455165   \n",
       "std     256.617021    0.487090    0.835055   14.547835    0.871571   \n",
       "min       1.000000    0.000000    1.000000    0.420000    0.000000   \n",
       "25%     226.000000    0.000000    2.000000   20.250000    0.000000   \n",
       "50%     448.000000    0.000000    3.000000   28.000000    0.000000   \n",
       "75%     668.000000    1.000000    3.000000   38.000000    1.000000   \n",
       "max     891.000000    1.000000    3.000000   80.000000    5.000000   \n",
       "\n",
       "            Parch        Fare  \n",
       "count  881.000000  881.000000  \n",
       "mean     0.363224   31.121566  \n",
       "std      0.791839   47.996249  \n",
       "min      0.000000    0.000000  \n",
       "25%      0.000000    7.895800  \n",
       "50%      0.000000   14.454200  \n",
       "75%      0.000000   30.500000  \n",
       "max      6.000000  512.329200  "
      ]
     },
     "execution_count": 11,
     "metadata": {},
     "output_type": "execute_result"
    }
   ],
   "source": [
    "train.describe()"
   ]
  },
  {
   "cell_type": "markdown",
   "id": "1d2d36ef",
   "metadata": {
    "papermill": {
     "duration": 0.008104,
     "end_time": "2024-11-26T12:36:26.782368",
     "exception": false,
     "start_time": "2024-11-26T12:36:26.774264",
     "status": "completed"
    },
    "tags": []
   },
   "source": [
    "# 3. Feature analysis"
   ]
  },
  {
   "cell_type": "markdown",
   "id": "852cf6e7",
   "metadata": {
    "papermill": {
     "duration": 0.008256,
     "end_time": "2024-11-26T12:36:26.799125",
     "exception": false,
     "start_time": "2024-11-26T12:36:26.790869",
     "status": "completed"
    },
    "tags": []
   },
   "source": [
    "## 3-1. Numerical values"
   ]
  },
  {
   "cell_type": "code",
   "execution_count": 12,
   "id": "ed4d37ac",
   "metadata": {
    "execution": {
     "iopub.execute_input": "2024-11-26T12:36:26.819055Z",
     "iopub.status.busy": "2024-11-26T12:36:26.818172Z",
     "iopub.status.idle": "2024-11-26T12:36:27.254376Z",
     "shell.execute_reply": "2024-11-26T12:36:27.253165Z"
    },
    "papermill": {
     "duration": 0.449042,
     "end_time": "2024-11-26T12:36:27.256709",
     "exception": false,
     "start_time": "2024-11-26T12:36:26.807667",
     "status": "completed"
    },
    "tags": []
   },
   "outputs": [
    {
     "data": {
      "image/png": "[encoded data removed]",
      "text/plain": [
       "<Figure size 640x480 with 2 Axes>"
      ]
     },
     "metadata": {},
     "output_type": "display_data"
    }
   ],
   "source": [
    "g= sns.heatmap(train[['Survived','SibSp','Parch','Age','Fare']].corr(),annot=True, fmt = \".2f\",cmap=\"coolwarm\")"
   ]
  },
  {
   "cell_type": "markdown",
   "id": "b5672a8d",
   "metadata": {
    "papermill": {
     "duration": 0.009166,
     "end_time": "2024-11-26T12:36:27.275553",
     "exception": false,
     "start_time": "2024-11-26T12:36:27.266387",
     "status": "completed"
    },
    "tags": []
   },
   "source": [
    "Fare만 Survived와 유의미한 상관관계가 있는 것으로 보임.\n",
    "\n",
    "다른 feature이 유용하지 않다는 의미는 아님. 이러한 feature의 하위 모집단은 Survived와 상관관계가 있을 수 있음. 이를 결정하기 위해서는 feature를 자세히 살펴봐야함."
   ]
  },
  {
   "cell_type": "markdown",
   "id": "21f61815",
   "metadata": {
    "papermill": {
     "duration": 0.009778,
     "end_time": "2024-11-26T12:36:27.294893",
     "exception": false,
     "start_time": "2024-11-26T12:36:27.285115",
     "status": "completed"
    },
    "tags": []
   },
   "source": [
    "### 3-1-1. SibSp"
   ]
  },
  {
   "cell_type": "code",
   "execution_count": 13,
   "id": "19a395a1",
   "metadata": {
    "execution": {
     "iopub.execute_input": "2024-11-26T12:36:27.315520Z",
     "iopub.status.busy": "2024-11-26T12:36:27.315116Z",
     "iopub.status.idle": "2024-11-26T12:36:27.946904Z",
     "shell.execute_reply": "2024-11-26T12:36:27.945973Z"
    },
    "papermill": {
     "duration": 0.645293,
     "end_time": "2024-11-26T12:36:27.949732",
     "exception": false,
     "start_time": "2024-11-26T12:36:27.304439",
     "status": "completed"
    },
    "tags": []
   },
   "outputs": [
    {
     "data": {
      "image/png": "[encoded data removed]",
      "text/plain": [
       "<Figure size 600x600 with 1 Axes>"
      ]
     },
     "metadata": {},
     "output_type": "display_data"
    }
   ],
   "source": [
    "g = sns.catplot(x=\"SibSp\",y=\"Survived\",data=train,kind=\"bar\",height=6,palette=\"muted\")\n",
    "g.despine(left=True) # 위쪽 축과 오른쪽 축을 숨김.\n",
    "g = g.set_ylabels(\"survival probability\")"
   ]
  },
  {
   "cell_type": "markdown",
   "id": "ab0b478a",
   "metadata": {
    "papermill": {
     "duration": 0.018596,
     "end_time": "2024-11-26T12:36:27.982379",
     "exception": false,
     "start_time": "2024-11-26T12:36:27.963783",
     "status": "completed"
    },
    "tags": []
   },
   "source": [
    "- 형제, 배우자가 많은 승객은 생존 가능성이 적은 것으로 보임.\n",
    "- 한명의 승객(0 SibSp) 또는 다른 두명의 승객 (SibSp 1 or 2)는 생존할 확률이 높음."
   ]
  },
  {
   "cell_type": "markdown",
   "id": "e1a66b91",
   "metadata": {
    "papermill": {
     "duration": 0.017006,
     "end_time": "2024-11-26T12:36:28.015861",
     "exception": false,
     "start_time": "2024-11-26T12:36:27.998855",
     "status": "completed"
    },
    "tags": []
   },
   "source": [
    "### 3-1-2. Parch"
   ]
  },
  {
   "cell_type": "code",
   "execution_count": 14,
   "id": "df6503a9",
   "metadata": {
    "execution": {
     "iopub.execute_input": "2024-11-26T12:36:28.052396Z",
     "iopub.status.busy": "2024-11-26T12:36:28.052008Z",
     "iopub.status.idle": "2024-11-26T12:36:28.620388Z",
     "shell.execute_reply": "2024-11-26T12:36:28.619330Z"
    },
    "papermill": {
     "duration": 0.585883,
     "end_time": "2024-11-26T12:36:28.622550",
     "exception": false,
     "start_time": "2024-11-26T12:36:28.036667",
     "status": "completed"
    },
    "tags": []
   },
   "outputs": [
    {
     "data": {
      "image/png": "[encoded data removed]",
      "text/plain": [
       "<Figure size 600x600 with 1 Axes>"
      ]
     },
     "metadata": {},
     "output_type": "display_data"
    }
   ],
   "source": [
    "g = sns.catplot(x=\"Parch\", y = \"Survived\", data = train, kind= \"bar\", height = 6, palette= \"muted\")\n",
    "g.despine(left=True)\n",
    "g = g.set_ylabels(\"survival probability\")"
   ]
  },
  {
   "cell_type": "markdown",
   "id": "80bdc671",
   "metadata": {
    "papermill": {
     "duration": 0.009868,
     "end_time": "2024-11-26T12:36:28.642390",
     "exception": false,
     "start_time": "2024-11-26T12:36:28.632522",
     "status": "completed"
    },
    "tags": []
   },
   "source": [
    "- 소규모 가족은 생존확률이 더 높음. 독신(Parch 0), 중간(Parch 3,4), 대가족(Parch 5,6)\n",
    "- 부모/자녀가 3명인 승객의 생존에는 표준편차가 매우 크기 때문에 주의 해야함."
   ]
  },
  {
   "cell_type": "markdown",
   "id": "fa401a7e",
   "metadata": {
    "papermill": {
     "duration": 0.010015,
     "end_time": "2024-11-26T12:36:28.662522",
     "exception": false,
     "start_time": "2024-11-26T12:36:28.652507",
     "status": "completed"
    },
    "tags": []
   },
   "source": [
    "### 3-1-3. Age"
   ]
  },
  {
   "cell_type": "code",
   "execution_count": 15,
   "id": "f3ac57a3",
   "metadata": {
    "execution": {
     "iopub.execute_input": "2024-11-26T12:36:28.683808Z",
     "iopub.status.busy": "2024-11-26T12:36:28.683435Z",
     "iopub.status.idle": "2024-11-26T12:36:29.752217Z",
     "shell.execute_reply": "2024-11-26T12:36:29.751157Z"
    },
    "papermill": {
     "duration": 1.081992,
     "end_time": "2024-11-26T12:36:29.754286",
     "exception": false,
     "start_time": "2024-11-26T12:36:28.672294",
     "status": "completed"
    },
    "tags": []
   },
   "outputs": [
    {
     "data": {
      "text/plain": [
       "<seaborn.axisgrid.FacetGrid at 0x79b3ce82a500>"
      ]
     },
     "execution_count": 15,
     "metadata": {},
     "output_type": "execute_result"
    },
    {
     "data": {
      "image/png": "[encoded data removed]",
      "text/plain": [
       "<Figure size 1000x500 with 2 Axes>"
      ]
     },
     "metadata": {},
     "output_type": "display_data"
    }
   ],
   "source": [
    "# Explore Age vs Survived\n",
    "sns.displot(data = train, x =\"Age\", col = \"Survived\",kde = True)"
   ]
  },
  {
   "cell_type": "markdown",
   "id": "8f08253d",
   "metadata": {
    "papermill": {
     "duration": 0.010542,
     "end_time": "2024-11-26T12:36:29.775682",
     "exception": false,
     "start_time": "2024-11-26T12:36:29.765140",
     "status": "completed"
    },
    "tags": []
   },
   "source": [
    "- 생존한 집단과 생존하지 않은 집단의 연령 분포가 같지 않은 것을 확인할 수 있음.\n",
    "- 실제로 젊은 승객에 해당하는 정점이 생존한 것으로 나타남.\n",
    "- 또한 60-80세 사이의 승객이 생존한 경우가 적다는 것도 알 수 있음.\n",
    "- 따라서 연령이 생존과 상관관계가 없더라도 생존 가능성이 어느 정도 높은 승객의 연령 범주가 있다는 것을 알 수 있음\n",
    "\n",
    "- 아주 어린 승객은 생존할 수 있는 기회가 더 많은 것으로 보임."
   ]
  },
  {
   "cell_type": "code",
   "execution_count": 16,
   "id": "03cd5a2f",
   "metadata": {
    "execution": {
     "iopub.execute_input": "2024-11-26T12:36:29.799082Z",
     "iopub.status.busy": "2024-11-26T12:36:29.798660Z",
     "iopub.status.idle": "2024-11-26T12:36:30.175190Z",
     "shell.execute_reply": "2024-11-26T12:36:30.174050Z"
    },
    "papermill": {
     "duration": 0.390994,
     "end_time": "2024-11-26T12:36:30.177480",
     "exception": false,
     "start_time": "2024-11-26T12:36:29.786486",
     "status": "completed"
    },
    "tags": []
   },
   "outputs": [
    {
     "data": {
      "image/png": "[encoded data removed]",
      "text/plain": [
       "<Figure size 640x480 with 1 Axes>"
      ]
     },
     "metadata": {},
     "output_type": "display_data"
    }
   ],
   "source": [
    "g = sns.kdeplot(train[\"Age\"][(train[\"Survived\"]==0) & (train[\"Age\"].notnull())],\n",
    "               color = \"Red\", shade = True)\n",
    "g = sns.kdeplot(train[\"Age\"][(train[\"Survived\"]==1) & (train[\"Age\"].notnull())],\n",
    "               color = \"Blue\", shade = True)\n",
    "g.set_xlabel(\"Age\")\n",
    "g.set_ylabel(\"Frequency\")\n",
    "g = g.legend([\"Not SUrvived\", \"Survived\"])"
   ]
  },
  {
   "cell_type": "markdown",
   "id": "c27258a0",
   "metadata": {
    "papermill": {
     "duration": 0.01203,
     "end_time": "2024-11-26T12:36:30.202209",
     "exception": false,
     "start_time": "2024-11-26T12:36:30.190179",
     "status": "completed"
    },
    "tags": []
   },
   "source": [
    "### 3-1-4. Fare"
   ]
  },
  {
   "cell_type": "code",
   "execution_count": 17,
   "id": "86e9ee20",
   "metadata": {
    "execution": {
     "iopub.execute_input": "2024-11-26T12:36:30.228806Z",
     "iopub.status.busy": "2024-11-26T12:36:30.228375Z",
     "iopub.status.idle": "2024-11-26T12:36:30.237527Z",
     "shell.execute_reply": "2024-11-26T12:36:30.236119Z"
    },
    "papermill": {
     "duration": 0.025823,
     "end_time": "2024-11-26T12:36:30.240015",
     "exception": false,
     "start_time": "2024-11-26T12:36:30.214192",
     "status": "completed"
    },
    "tags": []
   },
   "outputs": [
    {
     "data": {
      "text/plain": [
       "1"
      ]
     },
     "execution_count": 17,
     "metadata": {},
     "output_type": "execute_result"
    }
   ],
   "source": [
    "dataset[\"Fare\"].isnull().sum()"
   ]
  },
  {
   "cell_type": "code",
   "execution_count": 18,
   "id": "23e3c89a",
   "metadata": {
    "execution": {
     "iopub.execute_input": "2024-11-26T12:36:30.269042Z",
     "iopub.status.busy": "2024-11-26T12:36:30.268099Z",
     "iopub.status.idle": "2024-11-26T12:36:30.276480Z",
     "shell.execute_reply": "2024-11-26T12:36:30.275429Z"
    },
    "papermill": {
     "duration": 0.025669,
     "end_time": "2024-11-26T12:36:30.279147",
     "exception": false,
     "start_time": "2024-11-26T12:36:30.253478",
     "status": "completed"
    },
    "tags": []
   },
   "outputs": [],
   "source": [
    "# Fill Fare missing values with the median value\n",
    "\n",
    "dataset[\"Fare\"] = dataset[\"Fare\"].fillna(dataset[\"Fare\"].median())"
   ]
  },
  {
   "cell_type": "code",
   "execution_count": 19,
   "id": "c5e0ecd3",
   "metadata": {
    "execution": {
     "iopub.execute_input": "2024-11-26T12:36:30.306470Z",
     "iopub.status.busy": "2024-11-26T12:36:30.306042Z",
     "iopub.status.idle": "2024-11-26T12:36:30.311204Z",
     "shell.execute_reply": "2024-11-26T12:36:30.310030Z"
    },
    "papermill": {
     "duration": 0.021991,
     "end_time": "2024-11-26T12:36:30.313560",
     "exception": false,
     "start_time": "2024-11-26T12:36:30.291569",
     "status": "completed"
    },
    "tags": []
   },
   "outputs": [],
   "source": [
    "# g = sns.displot(dataset[\"Fare\"], color=\"m\", label=\"Skewness : %.2f\"%(dataset[\"Fare\"].skew()))\n",
    "# g = g.legend(loc=\"best\")"
   ]
  },
  {
   "cell_type": "markdown",
   "id": "c90a67e0",
   "metadata": {
    "papermill": {
     "duration": 0.012586,
     "end_time": "2024-11-26T12:36:30.339135",
     "exception": false,
     "start_time": "2024-11-26T12:36:30.326549",
     "status": "completed"
    },
    "tags": []
   },
   "source": [
    "- Fare의 분포는 매우 왜곡되어있음. 이로 인해 규모가 축소되더라도 모데레서 가중치가 매우 높을 수 있음.\n",
    "- 로그 함수로 변환하여 왜곡을 줄이는 것이 좋음."
   ]
  },
  {
   "cell_type": "code",
   "execution_count": null,
   "id": "74e77ddf",
   "metadata": {
    "papermill": {
     "duration": 0.012706,
     "end_time": "2024-11-26T12:36:30.364364",
     "exception": false,
     "start_time": "2024-11-26T12:36:30.351658",
     "status": "completed"
    },
    "tags": []
   },
   "outputs": [],
   "source": []
  },
  {
   "cell_type": "markdown",
   "id": "134e8aa3",
   "metadata": {
    "papermill": {
     "duration": 0.012144,
     "end_time": "2024-11-26T12:36:30.389466",
     "exception": false,
     "start_time": "2024-11-26T12:36:30.377322",
     "status": "completed"
    },
    "tags": []
   },
   "source": [
    "## 3-2. Categorical values"
   ]
  },
  {
   "cell_type": "markdown",
   "id": "c5777b0f",
   "metadata": {
    "papermill": {
     "duration": 0.012005,
     "end_time": "2024-11-26T12:36:30.414090",
     "exception": false,
     "start_time": "2024-11-26T12:36:30.402085",
     "status": "completed"
    },
    "tags": []
   },
   "source": [
    "### 3-2-1. Sex"
   ]
  },
  {
   "cell_type": "code",
   "execution_count": null,
   "id": "eb1fc15e",
   "metadata": {
    "papermill": {
     "duration": 0.012329,
     "end_time": "2024-11-26T12:36:30.438820",
     "exception": false,
     "start_time": "2024-11-26T12:36:30.426491",
     "status": "completed"
    },
    "tags": []
   },
   "outputs": [],
   "source": []
  },
  {
   "cell_type": "code",
   "execution_count": null,
   "id": "2e3c523a",
   "metadata": {
    "papermill": {
     "duration": 0.012216,
     "end_time": "2024-11-26T12:36:30.463537",
     "exception": false,
     "start_time": "2024-11-26T12:36:30.451321",
     "status": "completed"
    },
    "tags": []
   },
   "outputs": [],
   "source": []
  },
  {
   "cell_type": "code",
   "execution_count": null,
   "id": "e5d8d465",
   "metadata": {
    "papermill": {
     "duration": 0.01289,
     "end_time": "2024-11-26T12:36:30.489102",
     "exception": false,
     "start_time": "2024-11-26T12:36:30.476212",
     "status": "completed"
    },
    "tags": []
   },
   "outputs": [],
   "source": []
  },
  {
   "cell_type": "code",
   "execution_count": null,
   "id": "df97496e",
   "metadata": {
    "papermill": {
     "duration": 0.012127,
     "end_time": "2024-11-26T12:36:30.514122",
     "exception": false,
     "start_time": "2024-11-26T12:36:30.501995",
     "status": "completed"
    },
    "tags": []
   },
   "outputs": [],
   "source": []
  }
 ],
 "metadata": {
  "kaggle": {
   "accelerator": "none",
   "dataSources": [
    {
     "databundleVersionId": 26502,
     "sourceId": 3136,
     "sourceType": "competition"
    }
   ],
   "dockerImageVersionId": 30786,
   "isGpuEnabled": false,
   "isInternetEnabled": true,
   "language": "python",
   "sourceType": "notebook"
  },
  "kernelspec": {
   "display_name": "Python 3",
   "language": "python",
   "name": "python3"
  },
  "language_info": {
   "codemirror_mode": {
    "name": "ipython",
    "version": 3
   },
   "file_extension": ".py",
   "mimetype": "text/x-python",
   "name": "python",
   "nbconvert_exporter": "python",
   "pygments_lexer": "ipython3",
   "version": "3.10.14"
  },
  "papermill": {
   "default_parameters": {},
   "duration": 11.823712,
   "end_time": "2024-11-26T12:36:31.552281",
   "environment_variables": {},
   "exception": null,
   "input_path": "__notebook__.ipynb",
   "output_path": "__notebook__.ipynb",
   "parameters": {},
   "start_time": "2024-11-26T12:36:19.728569",
   "version": "2.6.0"
  }
 },
 "nbformat": 4,
 "nbformat_minor": 5
}
