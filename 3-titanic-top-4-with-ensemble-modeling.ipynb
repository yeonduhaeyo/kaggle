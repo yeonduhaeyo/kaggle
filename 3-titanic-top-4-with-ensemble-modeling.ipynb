{
 "cells": [
  {
   "cell_type": "markdown",
   "id": "3fa42e4a",
   "metadata": {
    "papermill": {
     "duration": 0.018583,
     "end_time": "2024-11-28T08:55:26.941084",
     "exception": false,
     "start_time": "2024-11-28T08:55:26.922501",
     "status": "completed"
    },
    "tags": []
   },
   "source": [
    "- 1 Introduction\n",
    "- 2 Load and check data\n",
    "    - 2.1 load data\n",
    "    - 2.2 Outlier detection\n",
    "    - 2.3 joining train and test set\n",
    "    - 2.4 check for null and missing values\n",
    "- 3 Feature analysis\n",
    "    - 3.1 Numerical values\n",
    "    - 3.2 Categorical values\n",
    "- 4 Filling missing Values\n",
    "    - 4.1 Age\n",
    "- 5 Feature engineering\n",
    "    - 5.1 Name/Title\n",
    "    - 5.2 Family Size\n",
    "    - 5.3 Cabin\n",
    "    - 5.4 Ticket\n",
    "- 6 Modeling\n",
    "    - 6.1 Simple modeling\n",
    "        - 6.1.1 Cross validate models\n",
    "        - 6.1.2 Hyperparamater tunning for best models\n",
    "        - 6.1.3 Plot learning curves\n",
    "        - 6.1.4 Feature importance of the tree based classifiers\n",
    "    -  6.2 Ensemble modeling\n",
    "        - 6.2.1 Combining models\n",
    "    -6.3 Prediction\n",
    "        - 6.3.1 Predict and Submit results"
   ]
  },
  {
   "cell_type": "markdown",
   "id": "66cd508e",
   "metadata": {
    "_cell_guid": "b1076dfc-b9ad-4769-8c92-a6c4dae69d19",
    "_uuid": "8f2839f25d086af736a60e9eeb907d3b93b6e0e5",
    "papermill": {
     "duration": 0.015218,
     "end_time": "2024-11-28T08:55:26.972063",
     "exception": false,
     "start_time": "2024-11-28T08:55:26.956845",
     "status": "completed"
    },
    "tags": []
   },
   "source": [
    "# 1. Introduction"
   ]
  },
  {
   "cell_type": "code",
   "execution_count": 1,
   "id": "fc19a9e5",
   "metadata": {
    "execution": {
     "iopub.execute_input": "2024-11-28T08:55:27.005348Z",
     "iopub.status.busy": "2024-11-28T08:55:27.004835Z",
     "iopub.status.idle": "2024-11-28T08:55:30.469535Z",
     "shell.execute_reply": "2024-11-28T08:55:30.468332Z"
    },
    "papermill": {
     "duration": 3.484934,
     "end_time": "2024-11-28T08:55:30.472158",
     "exception": false,
     "start_time": "2024-11-28T08:55:26.987224",
     "status": "completed"
    },
    "tags": []
   },
   "outputs": [],
   "source": [
    "import pandas as pd\n",
    "import numpy as np\n",
    "import matplotlib.pyplot as plt\n",
    "import seaborn as sns\n",
    "%matplotlib inline\n",
    "\n",
    "from collections import Counter\n",
    "\n",
    "from sklearn.ensemble import RandomForestClassifier,AdaBoostClassifier, GradientBoostingClassifier,ExtraTreesClassifier,VotingClassifier\n",
    "from sklearn.discriminant_analysis import LinearDiscriminantAnalysis\n",
    "# LDA 선형 판별 분석\n",
    "from sklearn.linear_model import LogisticRegression\n",
    "from sklearn.neighbors import KNeighborsClassifier\n",
    "from sklearn.tree import DecisionTreeClassifier\n",
    "from sklearn.neural_network import MLPClassifier # 다층 신경망\n",
    "from sklearn.svm import SVC\n",
    "from sklearn.model_selection import GridSearchCV, cross_val_score,StratifiedKFold,learning_curve\n",
    "\n",
    "sns.set(style='white', context='notebook',palette='deep')\n",
    "\n",
    "import warnings\n",
    "warnings.simplefilter(action='ignore', category=FutureWarning)"
   ]
  },
  {
   "cell_type": "markdown",
   "id": "5234a695",
   "metadata": {
    "papermill": {
     "duration": 0.015473,
     "end_time": "2024-11-28T08:55:30.504433",
     "exception": false,
     "start_time": "2024-11-28T08:55:30.488960",
     "status": "completed"
    },
    "tags": []
   },
   "source": [
    "# 2. Load and check data"
   ]
  },
  {
   "cell_type": "markdown",
   "id": "eef8dc5c",
   "metadata": {
    "papermill": {
     "duration": 0.015074,
     "end_time": "2024-11-28T08:55:30.534776",
     "exception": false,
     "start_time": "2024-11-28T08:55:30.519702",
     "status": "completed"
    },
    "tags": []
   },
   "source": [
    "## 2-1. Load data"
   ]
  },
  {
   "cell_type": "code",
   "execution_count": 2,
   "id": "3c1d5448",
   "metadata": {
    "execution": {
     "iopub.execute_input": "2024-11-28T08:55:30.568905Z",
     "iopub.status.busy": "2024-11-28T08:55:30.568362Z",
     "iopub.status.idle": "2024-11-28T08:55:30.605080Z",
     "shell.execute_reply": "2024-11-28T08:55:30.604004Z"
    },
    "papermill": {
     "duration": 0.056925,
     "end_time": "2024-11-28T08:55:30.607825",
     "exception": false,
     "start_time": "2024-11-28T08:55:30.550900",
     "status": "completed"
    },
    "tags": []
   },
   "outputs": [],
   "source": [
    "train = pd.read_csv(\"../input/titanic/train.csv\")\n",
    "test = pd.read_csv(\"../input/titanic/test.csv\")\n",
    "IDtest = test[\"PassengerId\"]"
   ]
  },
  {
   "cell_type": "markdown",
   "id": "9f8f24eb",
   "metadata": {
    "papermill": {
     "duration": 0.015738,
     "end_time": "2024-11-28T08:55:30.640785",
     "exception": false,
     "start_time": "2024-11-28T08:55:30.625047",
     "status": "completed"
    },
    "tags": []
   },
   "source": [
    "## 2-2. Outlier detection"
   ]
  },
  {
   "cell_type": "code",
   "execution_count": 3,
   "id": "54e357d7",
   "metadata": {
    "execution": {
     "iopub.execute_input": "2024-11-28T08:55:30.674602Z",
     "iopub.status.busy": "2024-11-28T08:55:30.674147Z",
     "iopub.status.idle": "2024-11-28T08:55:30.698452Z",
     "shell.execute_reply": "2024-11-28T08:55:30.697294Z"
    },
    "papermill": {
     "duration": 0.045029,
     "end_time": "2024-11-28T08:55:30.701168",
     "exception": false,
     "start_time": "2024-11-28T08:55:30.656139",
     "status": "completed"
    },
    "tags": []
   },
   "outputs": [],
   "source": [
    "def detect_outliers(df,n,features):\n",
    "    outlier_indices  = []\n",
    "\n",
    "    for col in features:\n",
    "        Q1 = np.percentile(df[col],25)\n",
    "        Q3 = np.percentile(df[col],75)\n",
    "        IQR = Q3-Q1\n",
    "\n",
    "        outlier_step = 1.5 * IQR\n",
    "\n",
    "        outlier_list_col = df[(df[col]<Q1 - outlier_step) | (df[col]>Q3+outlier_step)].index\n",
    "        outlier_indices .extend(outlier_list_col)\n",
    "\n",
    "    outlier_indices = Counter(outlier_indices)\n",
    "    multiple_outliers = list( k for k,v in outlier_indices.items() if v>n )\n",
    "\n",
    "    return multiple_outliers\n",
    "\n",
    "Outliers_to_drop = detect_outliers(train,2,[\"Age\",\"SibSp\",'Parch',\"Fare\"])"
   ]
  },
  {
   "cell_type": "markdown",
   "id": "12cb28f9",
   "metadata": {
    "papermill": {
     "duration": 0.01506,
     "end_time": "2024-11-28T08:55:30.731436",
     "exception": false,
     "start_time": "2024-11-28T08:55:30.716376",
     "status": "completed"
    },
    "tags": []
   },
   "source": [
    "Outlier는 예측에 영향을 미칠 수 있으므로 관리하기로 결정함.\n",
    "\n",
    "Age, SibSp, Parch, Fare에서 이상치를 감지하기로 결정하고 이상치가 두개 이상인 행을 이상치 행으로 결정함."
   ]
  },
  {
   "cell_type": "code",
   "execution_count": 4,
   "id": "1504ae68",
   "metadata": {
    "execution": {
     "iopub.execute_input": "2024-11-28T08:55:30.765447Z",
     "iopub.status.busy": "2024-11-28T08:55:30.765048Z",
     "iopub.status.idle": "2024-11-28T08:55:30.789156Z",
     "shell.execute_reply": "2024-11-28T08:55:30.787667Z"
    },
    "papermill": {
     "duration": 0.043919,
     "end_time": "2024-11-28T08:55:30.791644",
     "exception": false,
     "start_time": "2024-11-28T08:55:30.747725",
     "status": "completed"
    },
    "tags": []
   },
   "outputs": [
    {
     "data": {
      "text/html": [
       "<div>\n",
       "<style scoped>\n",
       "    .dataframe tbody tr th:only-of-type {\n",
       "        vertical-align: middle;\n",
       "    }\n",
       "\n",
       "    .dataframe tbody tr th {\n",
       "        vertical-align: top;\n",
       "    }\n",
       "\n",
       "    .dataframe thead th {\n",
       "        text-align: right;\n",
       "    }\n",
       "</style>\n",
       "<table border=\"1\" class=\"dataframe\">\n",
       "  <thead>\n",
       "    <tr style=\"text-align: right;\">\n",
       "      <th></th>\n",
       "      <th>PassengerId</th>\n",
       "      <th>Survived</th>\n",
       "      <th>Pclass</th>\n",
       "      <th>Name</th>\n",
       "      <th>Sex</th>\n",
       "      <th>Age</th>\n",
       "      <th>SibSp</th>\n",
       "      <th>Parch</th>\n",
       "      <th>Ticket</th>\n",
       "      <th>Fare</th>\n",
       "      <th>Cabin</th>\n",
       "      <th>Embarked</th>\n",
       "    </tr>\n",
       "  </thead>\n",
       "  <tbody>\n",
       "    <tr>\n",
       "      <th>27</th>\n",
       "      <td>28</td>\n",
       "      <td>0</td>\n",
       "      <td>1</td>\n",
       "      <td>Fortune, Mr. Charles Alexander</td>\n",
       "      <td>male</td>\n",
       "      <td>19.0</td>\n",
       "      <td>3</td>\n",
       "      <td>2</td>\n",
       "      <td>19950</td>\n",
       "      <td>263.00</td>\n",
       "      <td>C23 C25 C27</td>\n",
       "      <td>S</td>\n",
       "    </tr>\n",
       "    <tr>\n",
       "      <th>88</th>\n",
       "      <td>89</td>\n",
       "      <td>1</td>\n",
       "      <td>1</td>\n",
       "      <td>Fortune, Miss. Mabel Helen</td>\n",
       "      <td>female</td>\n",
       "      <td>23.0</td>\n",
       "      <td>3</td>\n",
       "      <td>2</td>\n",
       "      <td>19950</td>\n",
       "      <td>263.00</td>\n",
       "      <td>C23 C25 C27</td>\n",
       "      <td>S</td>\n",
       "    </tr>\n",
       "    <tr>\n",
       "      <th>159</th>\n",
       "      <td>160</td>\n",
       "      <td>0</td>\n",
       "      <td>3</td>\n",
       "      <td>Sage, Master. Thomas Henry</td>\n",
       "      <td>male</td>\n",
       "      <td>NaN</td>\n",
       "      <td>8</td>\n",
       "      <td>2</td>\n",
       "      <td>CA. 2343</td>\n",
       "      <td>69.55</td>\n",
       "      <td>NaN</td>\n",
       "      <td>S</td>\n",
       "    </tr>\n",
       "    <tr>\n",
       "      <th>180</th>\n",
       "      <td>181</td>\n",
       "      <td>0</td>\n",
       "      <td>3</td>\n",
       "      <td>Sage, Miss. Constance Gladys</td>\n",
       "      <td>female</td>\n",
       "      <td>NaN</td>\n",
       "      <td>8</td>\n",
       "      <td>2</td>\n",
       "      <td>CA. 2343</td>\n",
       "      <td>69.55</td>\n",
       "      <td>NaN</td>\n",
       "      <td>S</td>\n",
       "    </tr>\n",
       "    <tr>\n",
       "      <th>201</th>\n",
       "      <td>202</td>\n",
       "      <td>0</td>\n",
       "      <td>3</td>\n",
       "      <td>Sage, Mr. Frederick</td>\n",
       "      <td>male</td>\n",
       "      <td>NaN</td>\n",
       "      <td>8</td>\n",
       "      <td>2</td>\n",
       "      <td>CA. 2343</td>\n",
       "      <td>69.55</td>\n",
       "      <td>NaN</td>\n",
       "      <td>S</td>\n",
       "    </tr>\n",
       "    <tr>\n",
       "      <th>324</th>\n",
       "      <td>325</td>\n",
       "      <td>0</td>\n",
       "      <td>3</td>\n",
       "      <td>Sage, Mr. George John Jr</td>\n",
       "      <td>male</td>\n",
       "      <td>NaN</td>\n",
       "      <td>8</td>\n",
       "      <td>2</td>\n",
       "      <td>CA. 2343</td>\n",
       "      <td>69.55</td>\n",
       "      <td>NaN</td>\n",
       "      <td>S</td>\n",
       "    </tr>\n",
       "    <tr>\n",
       "      <th>341</th>\n",
       "      <td>342</td>\n",
       "      <td>1</td>\n",
       "      <td>1</td>\n",
       "      <td>Fortune, Miss. Alice Elizabeth</td>\n",
       "      <td>female</td>\n",
       "      <td>24.0</td>\n",
       "      <td>3</td>\n",
       "      <td>2</td>\n",
       "      <td>19950</td>\n",
       "      <td>263.00</td>\n",
       "      <td>C23 C25 C27</td>\n",
       "      <td>S</td>\n",
       "    </tr>\n",
       "    <tr>\n",
       "      <th>792</th>\n",
       "      <td>793</td>\n",
       "      <td>0</td>\n",
       "      <td>3</td>\n",
       "      <td>Sage, Miss. Stella Anna</td>\n",
       "      <td>female</td>\n",
       "      <td>NaN</td>\n",
       "      <td>8</td>\n",
       "      <td>2</td>\n",
       "      <td>CA. 2343</td>\n",
       "      <td>69.55</td>\n",
       "      <td>NaN</td>\n",
       "      <td>S</td>\n",
       "    </tr>\n",
       "    <tr>\n",
       "      <th>846</th>\n",
       "      <td>847</td>\n",
       "      <td>0</td>\n",
       "      <td>3</td>\n",
       "      <td>Sage, Mr. Douglas Bullen</td>\n",
       "      <td>male</td>\n",
       "      <td>NaN</td>\n",
       "      <td>8</td>\n",
       "      <td>2</td>\n",
       "      <td>CA. 2343</td>\n",
       "      <td>69.55</td>\n",
       "      <td>NaN</td>\n",
       "      <td>S</td>\n",
       "    </tr>\n",
       "    <tr>\n",
       "      <th>863</th>\n",
       "      <td>864</td>\n",
       "      <td>0</td>\n",
       "      <td>3</td>\n",
       "      <td>Sage, Miss. Dorothy Edith \"Dolly\"</td>\n",
       "      <td>female</td>\n",
       "      <td>NaN</td>\n",
       "      <td>8</td>\n",
       "      <td>2</td>\n",
       "      <td>CA. 2343</td>\n",
       "      <td>69.55</td>\n",
       "      <td>NaN</td>\n",
       "      <td>S</td>\n",
       "    </tr>\n",
       "  </tbody>\n",
       "</table>\n",
       "</div>"
      ],
      "text/plain": [
       "     PassengerId  Survived  Pclass                               Name     Sex  \\\n",
       "27            28         0       1     Fortune, Mr. Charles Alexander    male   \n",
       "88            89         1       1         Fortune, Miss. Mabel Helen  female   \n",
       "159          160         0       3         Sage, Master. Thomas Henry    male   \n",
       "180          181         0       3       Sage, Miss. Constance Gladys  female   \n",
       "201          202         0       3                Sage, Mr. Frederick    male   \n",
       "324          325         0       3           Sage, Mr. George John Jr    male   \n",
       "341          342         1       1     Fortune, Miss. Alice Elizabeth  female   \n",
       "792          793         0       3            Sage, Miss. Stella Anna  female   \n",
       "846          847         0       3           Sage, Mr. Douglas Bullen    male   \n",
       "863          864         0       3  Sage, Miss. Dorothy Edith \"Dolly\"  female   \n",
       "\n",
       "      Age  SibSp  Parch    Ticket    Fare        Cabin Embarked  \n",
       "27   19.0      3      2     19950  263.00  C23 C25 C27        S  \n",
       "88   23.0      3      2     19950  263.00  C23 C25 C27        S  \n",
       "159   NaN      8      2  CA. 2343   69.55          NaN        S  \n",
       "180   NaN      8      2  CA. 2343   69.55          NaN        S  \n",
       "201   NaN      8      2  CA. 2343   69.55          NaN        S  \n",
       "324   NaN      8      2  CA. 2343   69.55          NaN        S  \n",
       "341  24.0      3      2     19950  263.00  C23 C25 C27        S  \n",
       "792   NaN      8      2  CA. 2343   69.55          NaN        S  \n",
       "846   NaN      8      2  CA. 2343   69.55          NaN        S  \n",
       "863   NaN      8      2  CA. 2343   69.55          NaN        S  "
      ]
     },
     "execution_count": 4,
     "metadata": {},
     "output_type": "execute_result"
    }
   ],
   "source": [
    "train.loc[Outliers_to_drop]"
   ]
  },
  {
   "cell_type": "markdown",
   "id": "dfcdba1f",
   "metadata": {
    "papermill": {
     "duration": 0.016385,
     "end_time": "2024-11-28T08:55:30.823982",
     "exception": false,
     "start_time": "2024-11-28T08:55:30.807597",
     "status": "completed"
    },
    "tags": []
   },
   "source": [
    "10개의 outliers를 발견했음.\n",
    "- 28, 89, 342 승객은 높은 Ticket Fare 값을 가지고 있음\n",
    "- 다른 7명은 SibSp의 값이 높음."
   ]
  },
  {
   "cell_type": "code",
   "execution_count": 5,
   "id": "6c51026a",
   "metadata": {
    "execution": {
     "iopub.execute_input": "2024-11-28T08:55:30.859296Z",
     "iopub.status.busy": "2024-11-28T08:55:30.858641Z",
     "iopub.status.idle": "2024-11-28T08:55:30.867361Z",
     "shell.execute_reply": "2024-11-28T08:55:30.866128Z"
    },
    "papermill": {
     "duration": 0.029822,
     "end_time": "2024-11-28T08:55:30.869943",
     "exception": false,
     "start_time": "2024-11-28T08:55:30.840121",
     "status": "completed"
    },
    "tags": []
   },
   "outputs": [],
   "source": [
    "# Drop outliers\n",
    "train = train.drop(Outliers_to_drop,axis = 0).reset_index(drop=True)"
   ]
  },
  {
   "cell_type": "markdown",
   "id": "457a4279",
   "metadata": {
    "papermill": {
     "duration": 0.016326,
     "end_time": "2024-11-28T08:55:30.904723",
     "exception": false,
     "start_time": "2024-11-28T08:55:30.888397",
     "status": "completed"
    },
    "tags": []
   },
   "source": [
    "## 2-3. Joining train and test set"
   ]
  },
  {
   "cell_type": "code",
   "execution_count": 6,
   "id": "5d6c764b",
   "metadata": {
    "execution": {
     "iopub.execute_input": "2024-11-28T08:55:30.937745Z",
     "iopub.status.busy": "2024-11-28T08:55:30.937309Z",
     "iopub.status.idle": "2024-11-28T08:55:30.947763Z",
     "shell.execute_reply": "2024-11-28T08:55:30.946572Z"
    },
    "papermill": {
     "duration": 0.029869,
     "end_time": "2024-11-28T08:55:30.950490",
     "exception": false,
     "start_time": "2024-11-28T08:55:30.920621",
     "status": "completed"
    },
    "tags": []
   },
   "outputs": [],
   "source": [
    "train_len = len(train)\n",
    "dataset = pd.concat(objs = [train,test],axis =0).reset_index(drop=True)"
   ]
  },
  {
   "cell_type": "markdown",
   "id": "478c7bff",
   "metadata": {
    "papermill": {
     "duration": 0.015608,
     "end_time": "2024-11-28T08:55:30.982059",
     "exception": false,
     "start_time": "2024-11-28T08:55:30.966451",
     "status": "completed"
    },
    "tags": []
   },
   "source": [
    "훈련 데이터셋과 테스트 데이터셋을 join함 범주형 변환하는 동안 같은 수의 feature를 얻기 위해"
   ]
  },
  {
   "cell_type": "markdown",
   "id": "7fa1b5cd",
   "metadata": {
    "papermill": {
     "duration": 0.016299,
     "end_time": "2024-11-28T08:55:31.014458",
     "exception": false,
     "start_time": "2024-11-28T08:55:30.998159",
     "status": "completed"
    },
    "tags": []
   },
   "source": [
    "## 2-4. Check for null and missing values"
   ]
  },
  {
   "cell_type": "code",
   "execution_count": 7,
   "id": "1d27c0d3",
   "metadata": {
    "execution": {
     "iopub.execute_input": "2024-11-28T08:55:31.049956Z",
     "iopub.status.busy": "2024-11-28T08:55:31.049553Z",
     "iopub.status.idle": "2024-11-28T08:55:31.063239Z",
     "shell.execute_reply": "2024-11-28T08:55:31.062035Z"
    },
    "papermill": {
     "duration": 0.034243,
     "end_time": "2024-11-28T08:55:31.065735",
     "exception": false,
     "start_time": "2024-11-28T08:55:31.031492",
     "status": "completed"
    },
    "tags": []
   },
   "outputs": [
    {
     "data": {
      "text/plain": [
       "PassengerId       0\n",
       "Survived        418\n",
       "Pclass            0\n",
       "Name              0\n",
       "Sex               0\n",
       "Age             256\n",
       "SibSp             0\n",
       "Parch             0\n",
       "Ticket            0\n",
       "Fare              1\n",
       "Cabin          1007\n",
       "Embarked          2\n",
       "dtype: int64"
      ]
     },
     "execution_count": 7,
     "metadata": {},
     "output_type": "execute_result"
    }
   ],
   "source": [
    "# Fill empty and NaNs values with NaN\n",
    "dataset = dataset.fillna(np.nan)\n",
    "\n",
    "# check for null values\n",
    "dataset.isnull().sum()"
   ]
  },
  {
   "cell_type": "markdown",
   "id": "1cb7d98e",
   "metadata": {
    "papermill": {
     "duration": 0.01772,
     "end_time": "2024-11-28T08:55:31.099444",
     "exception": false,
     "start_time": "2024-11-28T08:55:31.081724",
     "status": "completed"
    },
    "tags": []
   },
   "source": [
    "Age와 Cabin feature는 결측값의 대부분을 차지함.\n",
    "\n",
    "Survived의 결측값은 테스트데이터셋에 해당됨."
   ]
  },
  {
   "cell_type": "code",
   "execution_count": 8,
   "id": "12d9586c",
   "metadata": {
    "execution": {
     "iopub.execute_input": "2024-11-28T08:55:31.138416Z",
     "iopub.status.busy": "2024-11-28T08:55:31.137362Z",
     "iopub.status.idle": "2024-11-28T08:55:31.168720Z",
     "shell.execute_reply": "2024-11-28T08:55:31.167439Z"
    },
    "papermill": {
     "duration": 0.052998,
     "end_time": "2024-11-28T08:55:31.171598",
     "exception": false,
     "start_time": "2024-11-28T08:55:31.118600",
     "status": "completed"
    },
    "tags": []
   },
   "outputs": [
    {
     "name": "stdout",
     "output_type": "stream",
     "text": [
      "<class 'pandas.core.frame.DataFrame'>\n",
      "RangeIndex: 881 entries, 0 to 880\n",
      "Data columns (total 12 columns):\n",
      " #   Column       Non-Null Count  Dtype  \n",
      "---  ------       --------------  -----  \n",
      " 0   PassengerId  881 non-null    int64  \n",
      " 1   Survived     881 non-null    int64  \n",
      " 2   Pclass       881 non-null    int64  \n",
      " 3   Name         881 non-null    object \n",
      " 4   Sex          881 non-null    object \n",
      " 5   Age          711 non-null    float64\n",
      " 6   SibSp        881 non-null    int64  \n",
      " 7   Parch        881 non-null    int64  \n",
      " 8   Ticket       881 non-null    object \n",
      " 9   Fare         881 non-null    float64\n",
      " 10  Cabin        201 non-null    object \n",
      " 11  Embarked     879 non-null    object \n",
      "dtypes: float64(2), int64(5), object(5)\n",
      "memory usage: 82.7+ KB\n"
     ]
    },
    {
     "data": {
      "text/plain": [
       "PassengerId      0\n",
       "Survived         0\n",
       "Pclass           0\n",
       "Name             0\n",
       "Sex              0\n",
       "Age            170\n",
       "SibSp            0\n",
       "Parch            0\n",
       "Ticket           0\n",
       "Fare             0\n",
       "Cabin          680\n",
       "Embarked         2\n",
       "dtype: int64"
      ]
     },
     "execution_count": 8,
     "metadata": {},
     "output_type": "execute_result"
    }
   ],
   "source": [
    "train.info()\n",
    "train.isnull().sum()"
   ]
  },
  {
   "cell_type": "code",
   "execution_count": 9,
   "id": "2c73c83d",
   "metadata": {
    "execution": {
     "iopub.execute_input": "2024-11-28T08:55:31.208079Z",
     "iopub.status.busy": "2024-11-28T08:55:31.207662Z",
     "iopub.status.idle": "2024-11-28T08:55:31.224050Z",
     "shell.execute_reply": "2024-11-28T08:55:31.222859Z"
    },
    "papermill": {
     "duration": 0.037197,
     "end_time": "2024-11-28T08:55:31.226643",
     "exception": false,
     "start_time": "2024-11-28T08:55:31.189446",
     "status": "completed"
    },
    "tags": []
   },
   "outputs": [
    {
     "data": {
      "text/html": [
       "<div>\n",
       "<style scoped>\n",
       "    .dataframe tbody tr th:only-of-type {\n",
       "        vertical-align: middle;\n",
       "    }\n",
       "\n",
       "    .dataframe tbody tr th {\n",
       "        vertical-align: top;\n",
       "    }\n",
       "\n",
       "    .dataframe thead th {\n",
       "        text-align: right;\n",
       "    }\n",
       "</style>\n",
       "<table border=\"1\" class=\"dataframe\">\n",
       "  <thead>\n",
       "    <tr style=\"text-align: right;\">\n",
       "      <th></th>\n",
       "      <th>PassengerId</th>\n",
       "      <th>Survived</th>\n",
       "      <th>Pclass</th>\n",
       "      <th>Name</th>\n",
       "      <th>Sex</th>\n",
       "      <th>Age</th>\n",
       "      <th>SibSp</th>\n",
       "      <th>Parch</th>\n",
       "      <th>Ticket</th>\n",
       "      <th>Fare</th>\n",
       "      <th>Cabin</th>\n",
       "      <th>Embarked</th>\n",
       "    </tr>\n",
       "  </thead>\n",
       "  <tbody>\n",
       "    <tr>\n",
       "      <th>0</th>\n",
       "      <td>1</td>\n",
       "      <td>0</td>\n",
       "      <td>3</td>\n",
       "      <td>Braund, Mr. Owen Harris</td>\n",
       "      <td>male</td>\n",
       "      <td>22.0</td>\n",
       "      <td>1</td>\n",
       "      <td>0</td>\n",
       "      <td>A/5 21171</td>\n",
       "      <td>7.2500</td>\n",
       "      <td>NaN</td>\n",
       "      <td>S</td>\n",
       "    </tr>\n",
       "    <tr>\n",
       "      <th>1</th>\n",
       "      <td>2</td>\n",
       "      <td>1</td>\n",
       "      <td>1</td>\n",
       "      <td>Cumings, Mrs. John Bradley (Florence Briggs Th...</td>\n",
       "      <td>female</td>\n",
       "      <td>38.0</td>\n",
       "      <td>1</td>\n",
       "      <td>0</td>\n",
       "      <td>PC 17599</td>\n",
       "      <td>71.2833</td>\n",
       "      <td>C85</td>\n",
       "      <td>C</td>\n",
       "    </tr>\n",
       "    <tr>\n",
       "      <th>2</th>\n",
       "      <td>3</td>\n",
       "      <td>1</td>\n",
       "      <td>3</td>\n",
       "      <td>Heikkinen, Miss. Laina</td>\n",
       "      <td>female</td>\n",
       "      <td>26.0</td>\n",
       "      <td>0</td>\n",
       "      <td>0</td>\n",
       "      <td>STON/O2. 3101282</td>\n",
       "      <td>7.9250</td>\n",
       "      <td>NaN</td>\n",
       "      <td>S</td>\n",
       "    </tr>\n",
       "    <tr>\n",
       "      <th>3</th>\n",
       "      <td>4</td>\n",
       "      <td>1</td>\n",
       "      <td>1</td>\n",
       "      <td>Futrelle, Mrs. Jacques Heath (Lily May Peel)</td>\n",
       "      <td>female</td>\n",
       "      <td>35.0</td>\n",
       "      <td>1</td>\n",
       "      <td>0</td>\n",
       "      <td>113803</td>\n",
       "      <td>53.1000</td>\n",
       "      <td>C123</td>\n",
       "      <td>S</td>\n",
       "    </tr>\n",
       "    <tr>\n",
       "      <th>4</th>\n",
       "      <td>5</td>\n",
       "      <td>0</td>\n",
       "      <td>3</td>\n",
       "      <td>Allen, Mr. William Henry</td>\n",
       "      <td>male</td>\n",
       "      <td>35.0</td>\n",
       "      <td>0</td>\n",
       "      <td>0</td>\n",
       "      <td>373450</td>\n",
       "      <td>8.0500</td>\n",
       "      <td>NaN</td>\n",
       "      <td>S</td>\n",
       "    </tr>\n",
       "  </tbody>\n",
       "</table>\n",
       "</div>"
      ],
      "text/plain": [
       "   PassengerId  Survived  Pclass  \\\n",
       "0            1         0       3   \n",
       "1            2         1       1   \n",
       "2            3         1       3   \n",
       "3            4         1       1   \n",
       "4            5         0       3   \n",
       "\n",
       "                                                Name     Sex   Age  SibSp  \\\n",
       "0                            Braund, Mr. Owen Harris    male  22.0      1   \n",
       "1  Cumings, Mrs. John Bradley (Florence Briggs Th...  female  38.0      1   \n",
       "2                             Heikkinen, Miss. Laina  female  26.0      0   \n",
       "3       Futrelle, Mrs. Jacques Heath (Lily May Peel)  female  35.0      1   \n",
       "4                           Allen, Mr. William Henry    male  35.0      0   \n",
       "\n",
       "   Parch            Ticket     Fare Cabin Embarked  \n",
       "0      0         A/5 21171   7.2500   NaN        S  \n",
       "1      0          PC 17599  71.2833   C85        C  \n",
       "2      0  STON/O2. 3101282   7.9250   NaN        S  \n",
       "3      0            113803  53.1000  C123        S  \n",
       "4      0            373450   8.0500   NaN        S  "
      ]
     },
     "execution_count": 9,
     "metadata": {},
     "output_type": "execute_result"
    }
   ],
   "source": [
    "train.head()"
   ]
  },
  {
   "cell_type": "code",
   "execution_count": 10,
   "id": "0577a16e",
   "metadata": {
    "execution": {
     "iopub.execute_input": "2024-11-28T08:55:31.262076Z",
     "iopub.status.busy": "2024-11-28T08:55:31.261675Z",
     "iopub.status.idle": "2024-11-28T08:55:31.271072Z",
     "shell.execute_reply": "2024-11-28T08:55:31.269625Z"
    },
    "papermill": {
     "duration": 0.031192,
     "end_time": "2024-11-28T08:55:31.274398",
     "exception": false,
     "start_time": "2024-11-28T08:55:31.243206",
     "status": "completed"
    },
    "tags": []
   },
   "outputs": [
    {
     "data": {
      "text/plain": [
       "PassengerId      int64\n",
       "Survived         int64\n",
       "Pclass           int64\n",
       "Name            object\n",
       "Sex             object\n",
       "Age            float64\n",
       "SibSp            int64\n",
       "Parch            int64\n",
       "Ticket          object\n",
       "Fare           float64\n",
       "Cabin           object\n",
       "Embarked        object\n",
       "dtype: object"
      ]
     },
     "execution_count": 10,
     "metadata": {},
     "output_type": "execute_result"
    }
   ],
   "source": [
    "train.dtypes"
   ]
  },
  {
   "cell_type": "code",
   "execution_count": 11,
   "id": "5ee104a3",
   "metadata": {
    "execution": {
     "iopub.execute_input": "2024-11-28T08:55:31.313907Z",
     "iopub.status.busy": "2024-11-28T08:55:31.313445Z",
     "iopub.status.idle": "2024-11-28T08:55:31.344218Z",
     "shell.execute_reply": "2024-11-28T08:55:31.342995Z"
    },
    "papermill": {
     "duration": 0.053347,
     "end_time": "2024-11-28T08:55:31.346769",
     "exception": false,
     "start_time": "2024-11-28T08:55:31.293422",
     "status": "completed"
    },
    "tags": []
   },
   "outputs": [
    {
     "data": {
      "text/html": [
       "<div>\n",
       "<style scoped>\n",
       "    .dataframe tbody tr th:only-of-type {\n",
       "        vertical-align: middle;\n",
       "    }\n",
       "\n",
       "    .dataframe tbody tr th {\n",
       "        vertical-align: top;\n",
       "    }\n",
       "\n",
       "    .dataframe thead th {\n",
       "        text-align: right;\n",
       "    }\n",
       "</style>\n",
       "<table border=\"1\" class=\"dataframe\">\n",
       "  <thead>\n",
       "    <tr style=\"text-align: right;\">\n",
       "      <th></th>\n",
       "      <th>PassengerId</th>\n",
       "      <th>Survived</th>\n",
       "      <th>Pclass</th>\n",
       "      <th>Age</th>\n",
       "      <th>SibSp</th>\n",
       "      <th>Parch</th>\n",
       "      <th>Fare</th>\n",
       "    </tr>\n",
       "  </thead>\n",
       "  <tbody>\n",
       "    <tr>\n",
       "      <th>count</th>\n",
       "      <td>881.000000</td>\n",
       "      <td>881.000000</td>\n",
       "      <td>881.000000</td>\n",
       "      <td>711.000000</td>\n",
       "      <td>881.000000</td>\n",
       "      <td>881.000000</td>\n",
       "      <td>881.000000</td>\n",
       "    </tr>\n",
       "    <tr>\n",
       "      <th>mean</th>\n",
       "      <td>446.713961</td>\n",
       "      <td>0.385925</td>\n",
       "      <td>2.307605</td>\n",
       "      <td>29.731603</td>\n",
       "      <td>0.455165</td>\n",
       "      <td>0.363224</td>\n",
       "      <td>31.121566</td>\n",
       "    </tr>\n",
       "    <tr>\n",
       "      <th>std</th>\n",
       "      <td>256.617021</td>\n",
       "      <td>0.487090</td>\n",
       "      <td>0.835055</td>\n",
       "      <td>14.547835</td>\n",
       "      <td>0.871571</td>\n",
       "      <td>0.791839</td>\n",
       "      <td>47.996249</td>\n",
       "    </tr>\n",
       "    <tr>\n",
       "      <th>min</th>\n",
       "      <td>1.000000</td>\n",
       "      <td>0.000000</td>\n",
       "      <td>1.000000</td>\n",
       "      <td>0.420000</td>\n",
       "      <td>0.000000</td>\n",
       "      <td>0.000000</td>\n",
       "      <td>0.000000</td>\n",
       "    </tr>\n",
       "    <tr>\n",
       "      <th>25%</th>\n",
       "      <td>226.000000</td>\n",
       "      <td>0.000000</td>\n",
       "      <td>2.000000</td>\n",
       "      <td>20.250000</td>\n",
       "      <td>0.000000</td>\n",
       "      <td>0.000000</td>\n",
       "      <td>7.895800</td>\n",
       "    </tr>\n",
       "    <tr>\n",
       "      <th>50%</th>\n",
       "      <td>448.000000</td>\n",
       "      <td>0.000000</td>\n",
       "      <td>3.000000</td>\n",
       "      <td>28.000000</td>\n",
       "      <td>0.000000</td>\n",
       "      <td>0.000000</td>\n",
       "      <td>14.454200</td>\n",
       "    </tr>\n",
       "    <tr>\n",
       "      <th>75%</th>\n",
       "      <td>668.000000</td>\n",
       "      <td>1.000000</td>\n",
       "      <td>3.000000</td>\n",
       "      <td>38.000000</td>\n",
       "      <td>1.000000</td>\n",
       "      <td>0.000000</td>\n",
       "      <td>30.500000</td>\n",
       "    </tr>\n",
       "    <tr>\n",
       "      <th>max</th>\n",
       "      <td>891.000000</td>\n",
       "      <td>1.000000</td>\n",
       "      <td>3.000000</td>\n",
       "      <td>80.000000</td>\n",
       "      <td>5.000000</td>\n",
       "      <td>6.000000</td>\n",
       "      <td>512.329200</td>\n",
       "    </tr>\n",
       "  </tbody>\n",
       "</table>\n",
       "</div>"
      ],
      "text/plain": [
       "       PassengerId    Survived      Pclass         Age       SibSp  \\\n",
       "count   881.000000  881.000000  881.000000  711.000000  881.000000   \n",
       "mean    446.713961    0.385925    2.307605   29.731603    0.455165   \n",
       "std     256.617021    0.487090    0.835055   14.547835    0.871571   \n",
       "min       1.000000    0.000000    1.000000    0.420000    0.000000   \n",
       "25%     226.000000    0.000000    2.000000   20.250000    0.000000   \n",
       "50%     448.000000    0.000000    3.000000   28.000000    0.000000   \n",
       "75%     668.000000    1.000000    3.000000   38.000000    1.000000   \n",
       "max     891.000000    1.000000    3.000000   80.000000    5.000000   \n",
       "\n",
       "            Parch        Fare  \n",
       "count  881.000000  881.000000  \n",
       "mean     0.363224   31.121566  \n",
       "std      0.791839   47.996249  \n",
       "min      0.000000    0.000000  \n",
       "25%      0.000000    7.895800  \n",
       "50%      0.000000   14.454200  \n",
       "75%      0.000000   30.500000  \n",
       "max      6.000000  512.329200  "
      ]
     },
     "execution_count": 11,
     "metadata": {},
     "output_type": "execute_result"
    }
   ],
   "source": [
    "train.describe()"
   ]
  },
  {
   "cell_type": "markdown",
   "id": "c9432e15",
   "metadata": {
    "papermill": {
     "duration": 0.01826,
     "end_time": "2024-11-28T08:55:31.384687",
     "exception": false,
     "start_time": "2024-11-28T08:55:31.366427",
     "status": "completed"
    },
    "tags": []
   },
   "source": [
    "# 3. Feature analysis"
   ]
  },
  {
   "cell_type": "markdown",
   "id": "3c9ce683",
   "metadata": {
    "papermill": {
     "duration": 0.01749,
     "end_time": "2024-11-28T08:55:31.419338",
     "exception": false,
     "start_time": "2024-11-28T08:55:31.401848",
     "status": "completed"
    },
    "tags": []
   },
   "source": [
    "## 3-1. Numerical values"
   ]
  },
  {
   "cell_type": "code",
   "execution_count": 12,
   "id": "9f48f32d",
   "metadata": {
    "execution": {
     "iopub.execute_input": "2024-11-28T08:55:31.454655Z",
     "iopub.status.busy": "2024-11-28T08:55:31.454195Z",
     "iopub.status.idle": "2024-11-28T08:55:31.910601Z",
     "shell.execute_reply": "2024-11-28T08:55:31.909271Z"
    },
    "papermill": {
     "duration": 0.476841,
     "end_time": "2024-11-28T08:55:31.913049",
     "exception": false,
     "start_time": "2024-11-28T08:55:31.436208",
     "status": "completed"
    },
    "tags": []
   },
   "outputs": [
    {
     "data": {
      "image/png": "[encoded data removed]",
      "text/plain": [
       "<Figure size 640x480 with 2 Axes>"
      ]
     },
     "metadata": {},
     "output_type": "display_data"
    }
   ],
   "source": [
    "g= sns.heatmap(train[['Survived','SibSp','Parch','Age','Fare']].corr(),annot=True, fmt = \".2f\",cmap=\"coolwarm\")"
   ]
  },
  {
   "cell_type": "markdown",
   "id": "4751a61a",
   "metadata": {
    "papermill": {
     "duration": 0.018604,
     "end_time": "2024-11-28T08:55:31.951829",
     "exception": false,
     "start_time": "2024-11-28T08:55:31.933225",
     "status": "completed"
    },
    "tags": []
   },
   "source": [
    "Fare만 Survived와 유의미한 상관관계가 있는 것으로 보임.\n",
    "\n",
    "다른 feature이 유용하지 않다는 의미는 아님. 이러한 feature의 하위 모집단은 Survived와 상관관계가 있을 수 있음. 이를 결정하기 위해서는 feature를 자세히 살펴봐야함."
   ]
  },
  {
   "cell_type": "markdown",
   "id": "4904a1ed",
   "metadata": {
    "papermill": {
     "duration": 0.01731,
     "end_time": "2024-11-28T08:55:31.986786",
     "exception": false,
     "start_time": "2024-11-28T08:55:31.969476",
     "status": "completed"
    },
    "tags": []
   },
   "source": [
    "### 3-1-1. SibSp"
   ]
  },
  {
   "cell_type": "code",
   "execution_count": 13,
   "id": "5990b5f3",
   "metadata": {
    "execution": {
     "iopub.execute_input": "2024-11-28T08:55:32.024574Z",
     "iopub.status.busy": "2024-11-28T08:55:32.024165Z",
     "iopub.status.idle": "2024-11-28T08:55:32.762035Z",
     "shell.execute_reply": "2024-11-28T08:55:32.760359Z"
    },
    "papermill": {
     "duration": 0.760188,
     "end_time": "2024-11-28T08:55:32.764490",
     "exception": false,
     "start_time": "2024-11-28T08:55:32.004302",
     "status": "completed"
    },
    "tags": []
   },
   "outputs": [
    {
     "data": {
      "image/png": "[encoded data removed]",
      "text/plain": [
       "<Figure size 600x600 with 1 Axes>"
      ]
     },
     "metadata": {},
     "output_type": "display_data"
    }
   ],
   "source": [
    "g = sns.catplot(x=\"SibSp\",y=\"Survived\",data=train,kind=\"bar\",height=6,palette=\"muted\")\n",
    "g.despine(left=True) # 위쪽 축과 오른쪽 축을 숨김.\n",
    "g = g.set_ylabels(\"survival probability\")"
   ]
  },
  {
   "cell_type": "markdown",
   "id": "5d4787ea",
   "metadata": {
    "papermill": {
     "duration": 0.018532,
     "end_time": "2024-11-28T08:55:32.801369",
     "exception": false,
     "start_time": "2024-11-28T08:55:32.782837",
     "status": "completed"
    },
    "tags": []
   },
   "source": [
    "- 형제, 배우자가 많은 승객은 생존 가능성이 적은 것으로 보임.\n",
    "- 한명의 승객(0 SibSp) 또는 다른 두명의 승객 (SibSp 1 or 2)는 생존할 확률이 높음."
   ]
  },
  {
   "cell_type": "markdown",
   "id": "2978e2d3",
   "metadata": {
    "papermill": {
     "duration": 0.018172,
     "end_time": "2024-11-28T08:55:32.838109",
     "exception": false,
     "start_time": "2024-11-28T08:55:32.819937",
     "status": "completed"
    },
    "tags": []
   },
   "source": [
    "### 3-1-2. Parch"
   ]
  },
  {
   "cell_type": "code",
   "execution_count": 14,
   "id": "4f08f352",
   "metadata": {
    "execution": {
     "iopub.execute_input": "2024-11-28T08:55:32.876348Z",
     "iopub.status.busy": "2024-11-28T08:55:32.875917Z",
     "iopub.status.idle": "2024-11-28T08:55:33.524283Z",
     "shell.execute_reply": "2024-11-28T08:55:33.523099Z"
    },
    "papermill": {
     "duration": 0.670295,
     "end_time": "2024-11-28T08:55:33.526741",
     "exception": false,
     "start_time": "2024-11-28T08:55:32.856446",
     "status": "completed"
    },
    "tags": []
   },
   "outputs": [
    {
     "data": {
      "image/png": "[encoded data removed]",
      "text/plain": [
       "<Figure size 600x600 with 1 Axes>"
      ]
     },
     "metadata": {},
     "output_type": "display_data"
    }
   ],
   "source": [
    "g = sns.catplot(x=\"Parch\", y = \"Survived\", data = train, kind= \"bar\", height = 6, palette= \"muted\")\n",
    "g.despine(left=True)\n",
    "g = g.set_ylabels(\"survival probability\")"
   ]
  },
  {
   "cell_type": "markdown",
   "id": "16d6c8db",
   "metadata": {
    "papermill": {
     "duration": 0.018219,
     "end_time": "2024-11-28T08:55:33.563179",
     "exception": false,
     "start_time": "2024-11-28T08:55:33.544960",
     "status": "completed"
    },
    "tags": []
   },
   "source": [
    "- 소규모 가족은 생존확률이 더 높음. 독신(Parch 0), 중간(Parch 3,4), 대가족(Parch 5,6)\n",
    "- 부모/자녀가 3명인 승객의 생존에는 표준편차가 매우 크기 때문에 주의 해야함."
   ]
  },
  {
   "cell_type": "markdown",
   "id": "38848c7a",
   "metadata": {
    "papermill": {
     "duration": 0.018535,
     "end_time": "2024-11-28T08:55:33.600104",
     "exception": false,
     "start_time": "2024-11-28T08:55:33.581569",
     "status": "completed"
    },
    "tags": []
   },
   "source": [
    "### 3-1-3. Age"
   ]
  },
  {
   "cell_type": "code",
   "execution_count": 15,
   "id": "00ca5567",
   "metadata": {
    "execution": {
     "iopub.execute_input": "2024-11-28T08:55:33.640209Z",
     "iopub.status.busy": "2024-11-28T08:55:33.639833Z",
     "iopub.status.idle": "2024-11-28T08:55:34.764158Z",
     "shell.execute_reply": "2024-11-28T08:55:34.762928Z"
    },
    "papermill": {
     "duration": 1.147978,
     "end_time": "2024-11-28T08:55:34.766540",
     "exception": false,
     "start_time": "2024-11-28T08:55:33.618562",
     "status": "completed"
    },
    "tags": []
   },
   "outputs": [
    {
     "data": {
      "text/plain": [
       "<seaborn.axisgrid.FacetGrid at 0x7f7e5b50fc10>"
      ]
     },
     "execution_count": 15,
     "metadata": {},
     "output_type": "execute_result"
    },
    {
     "data": {
      "image/png": "[encoded data removed]",
      "text/plain": [
       "<Figure size 1000x500 with 2 Axes>"
      ]
     },
     "metadata": {},
     "output_type": "display_data"
    }
   ],
   "source": [
    "# Explore Age vs Survived\n",
    "sns.displot(data = train, x =\"Age\", col = \"Survived\",kde = True)"
   ]
  },
  {
   "cell_type": "markdown",
   "id": "5c64da4b",
   "metadata": {
    "papermill": {
     "duration": 0.02093,
     "end_time": "2024-11-28T08:55:34.806556",
     "exception": false,
     "start_time": "2024-11-28T08:55:34.785626",
     "status": "completed"
    },
    "tags": []
   },
   "source": [
    "- 생존한 집단과 생존하지 않은 집단의 연령 분포가 같지 않은 것을 확인할 수 있음.\n",
    "- 실제로 젊은 승객에 해당하는 정점이 생존한 것으로 나타남.\n",
    "- 또한 60-80세 사이의 승객이 생존한 경우가 적다는 것도 알 수 있음.\n",
    "- 따라서 연령이 생존과 상관관계가 없더라도 생존 가능성이 어느 정도 높은 승객의 연령 범주가 있다는 것을 알 수 있음\n",
    "\n",
    "- 아주 어린 승객은 생존할 수 있는 기회가 더 많은 것으로 보임."
   ]
  },
  {
   "cell_type": "code",
   "execution_count": 16,
   "id": "5dd96bc6",
   "metadata": {
    "execution": {
     "iopub.execute_input": "2024-11-28T08:55:34.848194Z",
     "iopub.status.busy": "2024-11-28T08:55:34.847739Z",
     "iopub.status.idle": "2024-11-28T08:55:35.254315Z",
     "shell.execute_reply": "2024-11-28T08:55:35.252932Z"
    },
    "papermill": {
     "duration": 0.430429,
     "end_time": "2024-11-28T08:55:35.256882",
     "exception": false,
     "start_time": "2024-11-28T08:55:34.826453",
     "status": "completed"
    },
    "tags": []
   },
   "outputs": [
    {
     "data": {
      "image/png": "[encoded data removed]",
      "text/plain": [
       "<Figure size 640x480 with 1 Axes>"
      ]
     },
     "metadata": {},
     "output_type": "display_data"
    }
   ],
   "source": [
    "g = sns.kdeplot(train[\"Age\"][(train[\"Survived\"]==0) & (train[\"Age\"].notnull())],\n",
    "               color = \"Red\", shade = True)\n",
    "g = sns.kdeplot(train[\"Age\"][(train[\"Survived\"]==1) & (train[\"Age\"].notnull())],\n",
    "               color = \"Blue\", shade = True)\n",
    "g.set_xlabel(\"Age\")\n",
    "g.set_ylabel(\"Frequency\")\n",
    "g = g.legend([\"Not SUrvived\", \"Survived\"])"
   ]
  },
  {
   "cell_type": "markdown",
   "id": "5633cd0a",
   "metadata": {
    "papermill": {
     "duration": 0.020844,
     "end_time": "2024-11-28T08:55:35.297348",
     "exception": false,
     "start_time": "2024-11-28T08:55:35.276504",
     "status": "completed"
    },
    "tags": []
   },
   "source": [
    "### 3-1-4. Fare"
   ]
  },
  {
   "cell_type": "code",
   "execution_count": 17,
   "id": "6fc67c63",
   "metadata": {
    "execution": {
     "iopub.execute_input": "2024-11-28T08:55:35.342108Z",
     "iopub.status.busy": "2024-11-28T08:55:35.341720Z",
     "iopub.status.idle": "2024-11-28T08:55:35.349642Z",
     "shell.execute_reply": "2024-11-28T08:55:35.348564Z"
    },
    "papermill": {
     "duration": 0.033282,
     "end_time": "2024-11-28T08:55:35.352290",
     "exception": false,
     "start_time": "2024-11-28T08:55:35.319008",
     "status": "completed"
    },
    "tags": []
   },
   "outputs": [
    {
     "data": {
      "text/plain": [
       "1"
      ]
     },
     "execution_count": 17,
     "metadata": {},
     "output_type": "execute_result"
    }
   ],
   "source": [
    "dataset[\"Fare\"].isnull().sum()"
   ]
  },
  {
   "cell_type": "code",
   "execution_count": 18,
   "id": "8b49363d",
   "metadata": {
    "execution": {
     "iopub.execute_input": "2024-11-28T08:55:35.395664Z",
     "iopub.status.busy": "2024-11-28T08:55:35.395235Z",
     "iopub.status.idle": "2024-11-28T08:55:35.403129Z",
     "shell.execute_reply": "2024-11-28T08:55:35.401863Z"
    },
    "papermill": {
     "duration": 0.032437,
     "end_time": "2024-11-28T08:55:35.405818",
     "exception": false,
     "start_time": "2024-11-28T08:55:35.373381",
     "status": "completed"
    },
    "tags": []
   },
   "outputs": [],
   "source": [
    "# Fill Fare missing values with the median value\n",
    "\n",
    "dataset[\"Fare\"] = dataset[\"Fare\"].fillna(dataset[\"Fare\"].median())"
   ]
  },
  {
   "cell_type": "code",
   "execution_count": 19,
   "id": "d7773e99",
   "metadata": {
    "execution": {
     "iopub.execute_input": "2024-11-28T08:55:35.447691Z",
     "iopub.status.busy": "2024-11-28T08:55:35.447276Z",
     "iopub.status.idle": "2024-11-28T08:55:36.301469Z",
     "shell.execute_reply": "2024-11-28T08:55:36.300260Z"
    },
    "papermill": {
     "duration": 0.877712,
     "end_time": "2024-11-28T08:55:36.303941",
     "exception": false,
     "start_time": "2024-11-28T08:55:35.426229",
     "status": "completed"
    },
    "tags": []
   },
   "outputs": [
    {
     "data": {
      "text/plain": [
       "<seaborn.axisgrid.FacetGrid at 0x7f7e58fedd20>"
      ]
     },
     "execution_count": 19,
     "metadata": {},
     "output_type": "execute_result"
    },
    {
     "data": {
      "image/png": "[encoded data removed]",
      "text/plain": [
       "<Figure size 500x500 with 1 Axes>"
      ]
     },
     "metadata": {},
     "output_type": "display_data"
    }
   ],
   "source": [
    "sns.displot(dataset[\"Fare\"], color=\"m\", label=\"Skewness : %.2f\"%(dataset[\"Fare\"].skew()))"
   ]
  },
  {
   "cell_type": "markdown",
   "id": "3c56be52",
   "metadata": {
    "papermill": {
     "duration": 0.021767,
     "end_time": "2024-11-28T08:55:36.346455",
     "exception": false,
     "start_time": "2024-11-28T08:55:36.324688",
     "status": "completed"
    },
    "tags": []
   },
   "source": [
    "- Fare의 분포는 매우 왜곡되어있음. 이로 인해 규모가 축소되더라도 모델에서 가중치가 매우 높을 수 있음.\n",
    "- 로그 함수로 변환하여 왜곡을 줄이는 것이 좋음."
   ]
  },
  {
   "cell_type": "code",
   "execution_count": 20,
   "id": "766c3e4f",
   "metadata": {
    "execution": {
     "iopub.execute_input": "2024-11-28T08:55:36.390990Z",
     "iopub.status.busy": "2024-11-28T08:55:36.390592Z",
     "iopub.status.idle": "2024-11-28T08:55:36.398789Z",
     "shell.execute_reply": "2024-11-28T08:55:36.397612Z"
    },
    "papermill": {
     "duration": 0.034733,
     "end_time": "2024-11-28T08:55:36.401160",
     "exception": false,
     "start_time": "2024-11-28T08:55:36.366427",
     "status": "completed"
    },
    "tags": []
   },
   "outputs": [],
   "source": [
    "# Apply log to Fare to reduce skewness distribution\n",
    "\n",
    "dataset[\"Fare\"] = dataset[\"Fare\"].map(lambda i :np.log(i) if i >0 else 0)"
   ]
  },
  {
   "cell_type": "code",
   "execution_count": 21,
   "id": "600eea6c",
   "metadata": {
    "execution": {
     "iopub.execute_input": "2024-11-28T08:55:36.445781Z",
     "iopub.status.busy": "2024-11-28T08:55:36.445359Z",
     "iopub.status.idle": "2024-11-28T08:55:36.972282Z",
     "shell.execute_reply": "2024-11-28T08:55:36.971169Z"
    },
    "papermill": {
     "duration": 0.552511,
     "end_time": "2024-11-28T08:55:36.974928",
     "exception": false,
     "start_time": "2024-11-28T08:55:36.422417",
     "status": "completed"
    },
    "tags": []
   },
   "outputs": [
    {
     "data": {
      "text/plain": [
       "<seaborn.axisgrid.FacetGrid at 0x7f7e5b271ff0>"
      ]
     },
     "execution_count": 21,
     "metadata": {},
     "output_type": "execute_result"
    },
    {
     "data": {
      "image/png": "[encoded data removed]",
      "text/plain": [
       "<Figure size 500x500 with 1 Axes>"
      ]
     },
     "metadata": {},
     "output_type": "display_data"
    }
   ],
   "source": [
    "sns.displot(dataset[\"Fare\"], color=\"m\", label=\"Skewness : %.2f\"%(dataset[\"Fare\"].skew()))"
   ]
  },
  {
   "cell_type": "markdown",
   "id": "57aa2eff",
   "metadata": {
    "papermill": {
     "duration": 0.021211,
     "end_time": "2024-11-28T08:55:37.018319",
     "exception": false,
     "start_time": "2024-11-28T08:55:36.997108",
     "status": "completed"
    },
    "tags": []
   },
   "source": [
    "- 왜도가 확실히 감소한 것을 볼 수 있음."
   ]
  },
  {
   "cell_type": "markdown",
   "id": "2a4a020b",
   "metadata": {
    "papermill": {
     "duration": 0.020302,
     "end_time": "2024-11-28T08:55:37.059132",
     "exception": false,
     "start_time": "2024-11-28T08:55:37.038830",
     "status": "completed"
    },
    "tags": []
   },
   "source": [
    "## 3-2. Categorical values"
   ]
  },
  {
   "cell_type": "markdown",
   "id": "01adb6d4",
   "metadata": {
    "papermill": {
     "duration": 0.079177,
     "end_time": "2024-11-28T08:55:37.159321",
     "exception": false,
     "start_time": "2024-11-28T08:55:37.080144",
     "status": "completed"
    },
    "tags": []
   },
   "source": [
    "### 3-2-1. Sex"
   ]
  },
  {
   "cell_type": "code",
   "execution_count": 22,
   "id": "fb3bbb57",
   "metadata": {
    "execution": {
     "iopub.execute_input": "2024-11-28T08:55:37.202544Z",
     "iopub.status.busy": "2024-11-28T08:55:37.202132Z",
     "iopub.status.idle": "2024-11-28T08:55:37.449260Z",
     "shell.execute_reply": "2024-11-28T08:55:37.447866Z"
    },
    "papermill": {
     "duration": 0.272228,
     "end_time": "2024-11-28T08:55:37.452029",
     "exception": false,
     "start_time": "2024-11-28T08:55:37.179801",
     "status": "completed"
    },
    "tags": []
   },
   "outputs": [
    {
     "data": {
      "image/png": "[encoded data removed]",
      "text/plain": [
       "<Figure size 640x480 with 1 Axes>"
      ]
     },
     "metadata": {},
     "output_type": "display_data"
    }
   ],
   "source": [
    "g = sns.barplot(x=\"Sex\",y=\"Survived\",data=train)\n",
    "g = g.set_ylabel(\"Survival Probability\")"
   ]
  },
  {
   "cell_type": "code",
   "execution_count": 23,
   "id": "ca14fbf8",
   "metadata": {
    "execution": {
     "iopub.execute_input": "2024-11-28T08:55:37.496492Z",
     "iopub.status.busy": "2024-11-28T08:55:37.496089Z",
     "iopub.status.idle": "2024-11-28T08:55:37.513092Z",
     "shell.execute_reply": "2024-11-28T08:55:37.512067Z"
    },
    "papermill": {
     "duration": 0.042078,
     "end_time": "2024-11-28T08:55:37.515177",
     "exception": false,
     "start_time": "2024-11-28T08:55:37.473099",
     "status": "completed"
    },
    "tags": []
   },
   "outputs": [
    {
     "data": {
      "text/html": [
       "<div>\n",
       "<style scoped>\n",
       "    .dataframe tbody tr th:only-of-type {\n",
       "        vertical-align: middle;\n",
       "    }\n",
       "\n",
       "    .dataframe tbody tr th {\n",
       "        vertical-align: top;\n",
       "    }\n",
       "\n",
       "    .dataframe thead th {\n",
       "        text-align: right;\n",
       "    }\n",
       "</style>\n",
       "<table border=\"1\" class=\"dataframe\">\n",
       "  <thead>\n",
       "    <tr style=\"text-align: right;\">\n",
       "      <th></th>\n",
       "      <th>Survived</th>\n",
       "    </tr>\n",
       "    <tr>\n",
       "      <th>Sex</th>\n",
       "      <th></th>\n",
       "    </tr>\n",
       "  </thead>\n",
       "  <tbody>\n",
       "    <tr>\n",
       "      <th>female</th>\n",
       "      <td>0.747573</td>\n",
       "    </tr>\n",
       "    <tr>\n",
       "      <th>male</th>\n",
       "      <td>0.190559</td>\n",
       "    </tr>\n",
       "  </tbody>\n",
       "</table>\n",
       "</div>"
      ],
      "text/plain": [
       "        Survived\n",
       "Sex             \n",
       "female  0.747573\n",
       "male    0.190559"
      ]
     },
     "execution_count": 23,
     "metadata": {},
     "output_type": "execute_result"
    }
   ],
   "source": [
    "train[[\"Sex\",\"Survived\"]].groupby('Sex').mean()"
   ]
  },
  {
   "cell_type": "markdown",
   "id": "82bdee22",
   "metadata": {
    "papermill": {
     "duration": 0.023135,
     "end_time": "2024-11-28T08:55:37.559390",
     "exception": false,
     "start_time": "2024-11-28T08:55:37.536255",
     "status": "completed"
    },
    "tags": []
   },
   "source": [
    "- 남성보다 여성이 훨씬 더 생존확률이 높은 것을 확인 할 수 있음."
   ]
  },
  {
   "cell_type": "markdown",
   "id": "e6322788",
   "metadata": {
    "papermill": {
     "duration": 0.02161,
     "end_time": "2024-11-28T08:55:37.604019",
     "exception": false,
     "start_time": "2024-11-28T08:55:37.582409",
     "status": "completed"
    },
    "tags": []
   },
   "source": [
    "### 3-2-2. Pclass"
   ]
  },
  {
   "cell_type": "code",
   "execution_count": 24,
   "id": "9d28f5b3",
   "metadata": {
    "execution": {
     "iopub.execute_input": "2024-11-28T08:55:37.649813Z",
     "iopub.status.busy": "2024-11-28T08:55:37.649396Z",
     "iopub.status.idle": "2024-11-28T08:55:38.050831Z",
     "shell.execute_reply": "2024-11-28T08:55:38.049322Z"
    },
    "papermill": {
     "duration": 0.428084,
     "end_time": "2024-11-28T08:55:38.053288",
     "exception": false,
     "start_time": "2024-11-28T08:55:37.625204",
     "status": "completed"
    },
    "tags": []
   },
   "outputs": [
    {
     "data": {
      "image/png": "[encoded data removed]",
      "text/plain": [
       "<Figure size 600x600 with 1 Axes>"
      ]
     },
     "metadata": {},
     "output_type": "display_data"
    }
   ],
   "source": [
    "g = sns.catplot(x=\"Pclass\",y=\"Survived\",data = train,kind=\"bar\",height=6,palette = \"muted\")\n",
    "g.despine(left=True)\n",
    "g = g.set_ylabels(\"Survival probability\")"
   ]
  },
  {
   "cell_type": "code",
   "execution_count": 25,
   "id": "92078e18",
   "metadata": {
    "execution": {
     "iopub.execute_input": "2024-11-28T08:55:38.098881Z",
     "iopub.status.busy": "2024-11-28T08:55:38.098447Z",
     "iopub.status.idle": "2024-11-28T08:55:38.645206Z",
     "shell.execute_reply": "2024-11-28T08:55:38.644026Z"
    },
    "papermill": {
     "duration": 0.572858,
     "end_time": "2024-11-28T08:55:38.647638",
     "exception": false,
     "start_time": "2024-11-28T08:55:38.074780",
     "status": "completed"
    },
    "tags": []
   },
   "outputs": [
    {
     "data": {
      "image/png": "[encoded data removed]",
      "text/plain": [
       "<Figure size 707.875x600 with 1 Axes>"
      ]
     },
     "metadata": {},
     "output_type": "display_data"
    }
   ],
   "source": [
    "g = sns.catplot(x=\"Pclass\",y=\"Survived\",hue=\"Sex\",data=train,height=6,kind=\"bar\",palette=\"muted\")\n",
    "g.despine(left=True)\n",
    "g = g.set_ylabels(\"Survival probability\")"
   ]
  },
  {
   "cell_type": "markdown",
   "id": "ae865196",
   "metadata": {
    "papermill": {
     "duration": 0.021752,
     "end_time": "2024-11-28T08:55:38.691735",
     "exception": false,
     "start_time": "2024-11-28T08:55:38.669983",
     "status": "completed"
    },
    "tags": []
   },
   "source": [
    "- 1등석 탑승객의 생존확률이 다른 칸보다 높음.\n",
    "- 여성과 남성 모두 해당됨."
   ]
  },
  {
   "cell_type": "markdown",
   "id": "783d4dcf",
   "metadata": {
    "papermill": {
     "duration": 0.0217,
     "end_time": "2024-11-28T08:55:38.735075",
     "exception": false,
     "start_time": "2024-11-28T08:55:38.713375",
     "status": "completed"
    },
    "tags": []
   },
   "source": [
    "### 3-2-3. Embarked"
   ]
  },
  {
   "cell_type": "code",
   "execution_count": 26,
   "id": "a7441ba9",
   "metadata": {
    "execution": {
     "iopub.execute_input": "2024-11-28T08:55:38.782279Z",
     "iopub.status.busy": "2024-11-28T08:55:38.781893Z",
     "iopub.status.idle": "2024-11-28T08:55:38.789219Z",
     "shell.execute_reply": "2024-11-28T08:55:38.788121Z"
    },
    "papermill": {
     "duration": 0.034553,
     "end_time": "2024-11-28T08:55:38.791321",
     "exception": false,
     "start_time": "2024-11-28T08:55:38.756768",
     "status": "completed"
    },
    "tags": []
   },
   "outputs": [
    {
     "data": {
      "text/plain": [
       "2"
      ]
     },
     "execution_count": 26,
     "metadata": {},
     "output_type": "execute_result"
    }
   ],
   "source": [
    "dataset[\"Embarked\"].isnull().sum()"
   ]
  },
  {
   "cell_type": "code",
   "execution_count": 27,
   "id": "ffd2c353",
   "metadata": {
    "execution": {
     "iopub.execute_input": "2024-11-28T08:55:38.837548Z",
     "iopub.status.busy": "2024-11-28T08:55:38.837116Z",
     "iopub.status.idle": "2024-11-28T08:55:38.844853Z",
     "shell.execute_reply": "2024-11-28T08:55:38.843663Z"
    },
    "papermill": {
     "duration": 0.034231,
     "end_time": "2024-11-28T08:55:38.848076",
     "exception": false,
     "start_time": "2024-11-28T08:55:38.813845",
     "status": "completed"
    },
    "tags": []
   },
   "outputs": [],
   "source": [
    "### Fill Embarked nan values of dataset set with 'S' most frequent value\n",
    "dataset['Embarked'] = dataset['Embarked'].fillna('S')"
   ]
  },
  {
   "cell_type": "markdown",
   "id": "370b1a90",
   "metadata": {
    "papermill": {
     "duration": 0.022641,
     "end_time": "2024-11-28T08:55:38.894236",
     "exception": false,
     "start_time": "2024-11-28T08:55:38.871595",
     "status": "completed"
    },
    "tags": []
   },
   "source": [
    "2개의 결측값을 제일 최빈값인 S의 값으로 채워줌"
   ]
  },
  {
   "cell_type": "code",
   "execution_count": 28,
   "id": "d276d177",
   "metadata": {
    "execution": {
     "iopub.execute_input": "2024-11-28T08:55:38.940565Z",
     "iopub.status.busy": "2024-11-28T08:55:38.939493Z",
     "iopub.status.idle": "2024-11-28T08:55:39.453001Z",
     "shell.execute_reply": "2024-11-28T08:55:39.451641Z"
    },
    "papermill": {
     "duration": 0.539117,
     "end_time": "2024-11-28T08:55:39.455453",
     "exception": false,
     "start_time": "2024-11-28T08:55:38.916336",
     "status": "completed"
    },
    "tags": []
   },
   "outputs": [
    {
     "data": {
      "image/png": "[encoded data removed]",
      "text/plain": [
       "<Figure size 600x600 with 1 Axes>"
      ]
     },
     "metadata": {},
     "output_type": "display_data"
    }
   ],
   "source": [
    "# Explore Embarked vs Survived\n",
    "\n",
    "g = sns.catplot(x=\"Embarked\",y=\"Survived\",data = train, height=6,kind=\"bar\",palette=\"muted\")\n",
    "g.despine(left=True)\n",
    "g = g.set_ylabels(\"Survival probability\")"
   ]
  },
  {
   "cell_type": "markdown",
   "id": "89a7b07c",
   "metadata": {
    "papermill": {
     "duration": 0.022693,
     "end_time": "2024-11-28T08:55:39.500567",
     "exception": false,
     "start_time": "2024-11-28T08:55:39.477874",
     "status": "completed"
    },
    "tags": []
   },
   "source": [
    "- C에서 탑승한 승객의 생존률이 높게 나타남.\n",
    "- C에서 1등석 승객이 많이 탑승한 것으로 추측됨."
   ]
  },
  {
   "cell_type": "code",
   "execution_count": 29,
   "id": "64f2f678",
   "metadata": {
    "execution": {
     "iopub.execute_input": "2024-11-28T08:55:39.547424Z",
     "iopub.status.busy": "2024-11-28T08:55:39.547043Z",
     "iopub.status.idle": "2024-11-28T08:55:40.631945Z",
     "shell.execute_reply": "2024-11-28T08:55:40.630645Z"
    },
    "papermill": {
     "duration": 1.111456,
     "end_time": "2024-11-28T08:55:40.634328",
     "exception": false,
     "start_time": "2024-11-28T08:55:39.522872",
     "status": "completed"
    },
    "tags": []
   },
   "outputs": [
    {
     "data": {
      "image/png": "[encoded data removed]",
      "text/plain": [
       "<Figure size 1800x600 with 3 Axes>"
      ]
     },
     "metadata": {},
     "output_type": "display_data"
    }
   ],
   "source": [
    "# Explore Pclass vs Embarked\n",
    "g = sns.catplot(x=\"Pclass\",col=\"Embarked\",data=train,height=6,\n",
    "               kind = \"count\",palette=\"muted\")\n",
    "g.despine(left=True)\n",
    "g = g.set_ylabels(\"Count\")"
   ]
  },
  {
   "cell_type": "markdown",
   "id": "6821d29d",
   "metadata": {
    "papermill": {
     "duration": 0.02341,
     "end_time": "2024-11-28T08:55:40.681492",
     "exception": false,
     "start_time": "2024-11-28T08:55:40.658082",
     "status": "completed"
    },
    "tags": []
   },
   "source": [
    "- 3등석의 탑승객은 대부분 S와 Q 항구에서 탑승한것을 볼 수 있음\n",
    "- C항구에서 1등석 승객의 탑승 비율이 높아서 생존확률이 높은 것으로 보임."
   ]
  },
  {
   "cell_type": "markdown",
   "id": "23831fdb",
   "metadata": {
    "papermill": {
     "duration": 0.02498,
     "end_time": "2024-11-28T08:55:40.729829",
     "exception": false,
     "start_time": "2024-11-28T08:55:40.704849",
     "status": "completed"
    },
    "tags": []
   },
   "source": [
    "# 4. Filling missing values"
   ]
  },
  {
   "cell_type": "markdown",
   "id": "859999d7",
   "metadata": {
    "papermill": {
     "duration": 0.022879,
     "end_time": "2024-11-28T08:55:40.775484",
     "exception": false,
     "start_time": "2024-11-28T08:55:40.752605",
     "status": "completed"
    },
    "tags": []
   },
   "source": [
    "## 4-1. Age"
   ]
  },
  {
   "cell_type": "code",
   "execution_count": 30,
   "id": "6bf9c708",
   "metadata": {
    "execution": {
     "iopub.execute_input": "2024-11-28T08:55:40.824130Z",
     "iopub.status.busy": "2024-11-28T08:55:40.823721Z",
     "iopub.status.idle": "2024-11-28T08:55:40.832013Z",
     "shell.execute_reply": "2024-11-28T08:55:40.830870Z"
    },
    "papermill": {
     "duration": 0.035668,
     "end_time": "2024-11-28T08:55:40.834432",
     "exception": false,
     "start_time": "2024-11-28T08:55:40.798764",
     "status": "completed"
    },
    "tags": []
   },
   "outputs": [
    {
     "data": {
      "text/plain": [
       "256"
      ]
     },
     "execution_count": 30,
     "metadata": {},
     "output_type": "execute_result"
    }
   ],
   "source": [
    "dataset['Age'].isnull().sum()"
   ]
  },
  {
   "cell_type": "markdown",
   "id": "26ea051a",
   "metadata": {
    "papermill": {
     "duration": 0.024315,
     "end_time": "2024-11-28T08:55:40.883722",
     "exception": false,
     "start_time": "2024-11-28T08:55:40.859407",
     "status": "completed"
    },
    "tags": []
   },
   "source": [
    "- Age 열은 256개의 결측값을 가지고 있음.\n",
    "- 나이에 따라 생존확률이 높은 모집단이 있으므로 연령층을 유지하고 결측값을 채우는 것이 바람직할것으로 보임.\n",
    "- Age와 상관관계가 큰 특성을 관찰할 필요가 있음(Sex, Parch, Pclass and SibSP)"
   ]
  },
  {
   "cell_type": "code",
   "execution_count": 31,
   "id": "01dc9685",
   "metadata": {
    "execution": {
     "iopub.execute_input": "2024-11-28T08:55:40.933103Z",
     "iopub.status.busy": "2024-11-28T08:55:40.932687Z",
     "iopub.status.idle": "2024-11-28T08:55:43.225782Z",
     "shell.execute_reply": "2024-11-28T08:55:43.224091Z"
    },
    "papermill": {
     "duration": 2.32092,
     "end_time": "2024-11-28T08:55:43.228532",
     "exception": false,
     "start_time": "2024-11-28T08:55:40.907612",
     "status": "completed"
    },
    "tags": []
   },
   "outputs": [
    {
     "data": {
      "image/png": "[encoded data removed]",
      "text/plain": [
       "<Figure size 500x500 with 1 Axes>"
      ]
     },
     "metadata": {},
     "output_type": "display_data"
    },
    {
     "data": {
      "image/png": "[encoded data removed]",
      "text/plain": [
       "<Figure size 564.75x500 with 1 Axes>"
      ]
     },
     "metadata": {},
     "output_type": "display_data"
    },
    {
     "data": {
      "image/png": "[encoded data removed]",
      "text/plain": [
       "<Figure size 500x500 with 1 Axes>"
      ]
     },
     "metadata": {},
     "output_type": "display_data"
    },
    {
     "data": {
      "image/png": "[encoded data removed]",
      "text/plain": [
       "<Figure size 500x500 with 1 Axes>"
      ]
     },
     "metadata": {},
     "output_type": "display_data"
    }
   ],
   "source": [
    "# Explore Age vs Sex, Parch, Pclass and SibSP\n",
    "\n",
    "g = sns.catplot(y=\"Age\",x=\"Sex\",data = dataset,kind=\"box\")\n",
    "g = sns.catplot(y=\"Age\",x=\"Sex\",hue = \"Pclass\",data=dataset,kind=\"box\")\n",
    "g = sns.catplot(y=\"Age\",x=\"Parch\",data = dataset,kind=\"box\")\n",
    "g = sns.catplot(y=\"Age\",x=\"SibSp\",data=dataset,kind=\"box\")"
   ]
  },
  {
   "cell_type": "markdown",
   "id": "7e563ee3",
   "metadata": {
    "papermill": {
     "duration": 0.026072,
     "end_time": "2024-11-28T08:55:43.279825",
     "exception": false,
     "start_time": "2024-11-28T08:55:43.253753",
     "status": "completed"
    },
    "tags": []
   },
   "source": [
    "- 연령분포는 여성과 남성에서 비슷하게 나타나므로 성별은 나이를 추측하기 중요한 특성이 아님\n",
    "- 1등석 탑승자의 평균연령이 2등석, 3등석 탑승객의 나이보다 많은 것으로 보임\n",
    "- 부모/자식의 수가 많을수록 평균연령이 높아지는 추세이고, 형제 자매가 많을 수록 평균연령이 낮아지는 추세임."
   ]
  },
  {
   "cell_type": "code",
   "execution_count": 32,
   "id": "91a10046",
   "metadata": {
    "execution": {
     "iopub.execute_input": "2024-11-28T08:55:43.336322Z",
     "iopub.status.busy": "2024-11-28T08:55:43.335900Z",
     "iopub.status.idle": "2024-11-28T08:55:43.343611Z",
     "shell.execute_reply": "2024-11-28T08:55:43.342139Z"
    },
    "papermill": {
     "duration": 0.040034,
     "end_time": "2024-11-28T08:55:43.346084",
     "exception": false,
     "start_time": "2024-11-28T08:55:43.306050",
     "status": "completed"
    },
    "tags": []
   },
   "outputs": [],
   "source": [
    "# convert Sex into categorical value 0 for male 1 for female\n",
    "\n",
    "dataset[\"Sex\"] = dataset[\"Sex\"].map({\"male\":0,\"female\":1})"
   ]
  },
  {
   "cell_type": "code",
   "execution_count": 33,
   "id": "fbb49d7e",
   "metadata": {
    "execution": {
     "iopub.execute_input": "2024-11-28T08:55:43.401445Z",
     "iopub.status.busy": "2024-11-28T08:55:43.401033Z",
     "iopub.status.idle": "2024-11-28T08:55:43.807226Z",
     "shell.execute_reply": "2024-11-28T08:55:43.805752Z"
    },
    "papermill": {
     "duration": 0.437758,
     "end_time": "2024-11-28T08:55:43.810284",
     "exception": false,
     "start_time": "2024-11-28T08:55:43.372526",
     "status": "completed"
    },
    "tags": []
   },
   "outputs": [
    {
     "data": {
      "image/png": "[encoded data removed]",
      "text/plain": [
       "<Figure size 640x480 with 2 Axes>"
      ]
     },
     "metadata": {},
     "output_type": "display_data"
    }
   ],
   "source": [
    "g = sns.heatmap(dataset[[\"Age\",\"Sex\",\"SibSp\",\"Parch\",\"Pclass\"]].corr(),cmap=\"BrBG\",annot=True)"
   ]
  },
  {
   "cell_type": "markdown",
   "id": "f5fe897a",
   "metadata": {
    "papermill": {
     "duration": 0.031883,
     "end_time": "2024-11-28T08:55:43.868722",
     "exception": false,
     "start_time": "2024-11-28T08:55:43.836839",
     "status": "completed"
    },
    "tags": []
   },
   "source": [
    "- 연령은 성별과 상관관계가 없지만, Pclass, Parch, SibSp와 음의 상관관계를 띄고 있음.\n",
    "- Parch에 따른 연령에서 연령은 증가하는 추세를 보이지만 음의 상관관계를 가지고 있음.\n",
    "- 누락된 연령 값을 대체하기 위해 SibSP, Parch, Pclass의 값을 사용하기로 함.\n",
    "- Pclass, Parch, SibSp에 따라 유사한 행을 평균연령으로 채울 예정."
   ]
  },
  {
   "cell_type": "code",
   "execution_count": 34,
   "id": "d35b2af5",
   "metadata": {
    "execution": {
     "iopub.execute_input": "2024-11-28T08:55:43.929604Z",
     "iopub.status.busy": "2024-11-28T08:55:43.929118Z",
     "iopub.status.idle": "2024-11-28T08:55:44.437569Z",
     "shell.execute_reply": "2024-11-28T08:55:44.436467Z"
    },
    "papermill": {
     "duration": 0.54251,
     "end_time": "2024-11-28T08:55:44.441178",
     "exception": false,
     "start_time": "2024-11-28T08:55:43.898668",
     "status": "completed"
    },
    "tags": []
   },
   "outputs": [
    {
     "name": "stderr",
     "output_type": "stream",
     "text": [
      "/tmp/ipykernel_17/1519918780.py:14: SettingWithCopyWarning: \n",
      "A value is trying to be set on a copy of a slice from a DataFrame\n",
      "\n",
      "See the caveats in the documentation: https://pandas.pydata.org/pandas-docs/stable/user_guide/indexing.html#returning-a-view-versus-a-copy\n",
      "  dataset['Age'].iloc[i] = age_pred\n",
      "/tmp/ipykernel_17/1519918780.py:14: SettingWithCopyWarning: \n",
      "A value is trying to be set on a copy of a slice from a DataFrame\n",
      "\n",
      "See the caveats in the documentation: https://pandas.pydata.org/pandas-docs/stable/user_guide/indexing.html#returning-a-view-versus-a-copy\n",
      "  dataset['Age'].iloc[i] = age_pred\n",
      "/tmp/ipykernel_17/1519918780.py:14: SettingWithCopyWarning: \n",
      "A value is trying to be set on a copy of a slice from a DataFrame\n",
      "\n",
      "See the caveats in the documentation: https://pandas.pydata.org/pandas-docs/stable/user_guide/indexing.html#returning-a-view-versus-a-copy\n",
      "  dataset['Age'].iloc[i] = age_pred\n",
      "/tmp/ipykernel_17/1519918780.py:14: SettingWithCopyWarning: \n",
      "A value is trying to be set on a copy of a slice from a DataFrame\n",
      "\n",
      "See the caveats in the documentation: https://pandas.pydata.org/pandas-docs/stable/user_guide/indexing.html#returning-a-view-versus-a-copy\n",
      "  dataset['Age'].iloc[i] = age_pred\n",
      "/tmp/ipykernel_17/1519918780.py:14: SettingWithCopyWarning: \n",
      "A value is trying to be set on a copy of a slice from a DataFrame\n",
      "\n",
      "See the caveats in the documentation: https://pandas.pydata.org/pandas-docs/stable/user_guide/indexing.html#returning-a-view-versus-a-copy\n",
      "  dataset['Age'].iloc[i] = age_pred\n",
      "/tmp/ipykernel_17/1519918780.py:14: SettingWithCopyWarning: \n",
      "A value is trying to be set on a copy of a slice from a DataFrame\n",
      "\n",
      "See the caveats in the documentation: https://pandas.pydata.org/pandas-docs/stable/user_guide/indexing.html#returning-a-view-versus-a-copy\n",
      "  dataset['Age'].iloc[i] = age_pred\n",
      "/tmp/ipykernel_17/1519918780.py:14: SettingWithCopyWarning: \n",
      "A value is trying to be set on a copy of a slice from a DataFrame\n",
      "\n",
      "See the caveats in the documentation: https://pandas.pydata.org/pandas-docs/stable/user_guide/indexing.html#returning-a-view-versus-a-copy\n",
      "  dataset['Age'].iloc[i] = age_pred\n",
      "/tmp/ipykernel_17/1519918780.py:14: SettingWithCopyWarning: \n",
      "A value is trying to be set on a copy of a slice from a DataFrame\n",
      "\n",
      "See the caveats in the documentation: https://pandas.pydata.org/pandas-docs/stable/user_guide/indexing.html#returning-a-view-versus-a-copy\n",
      "  dataset['Age'].iloc[i] = age_pred\n",
      "/tmp/ipykernel_17/1519918780.py:14: SettingWithCopyWarning: \n",
      "A value is trying to be set on a copy of a slice from a DataFrame\n",
      "\n",
      "See the caveats in the documentation: https://pandas.pydata.org/pandas-docs/stable/user_guide/indexing.html#returning-a-view-versus-a-copy\n",
      "  dataset['Age'].iloc[i] = age_pred\n",
      "/tmp/ipykernel_17/1519918780.py:14: SettingWithCopyWarning: \n",
      "A value is trying to be set on a copy of a slice from a DataFrame\n",
      "\n",
      "See the caveats in the documentation: https://pandas.pydata.org/pandas-docs/stable/user_guide/indexing.html#returning-a-view-versus-a-copy\n",
      "  dataset['Age'].iloc[i] = age_pred\n",
      "/tmp/ipykernel_17/1519918780.py:14: SettingWithCopyWarning: \n",
      "A value is trying to be set on a copy of a slice from a DataFrame\n",
      "\n",
      "See the caveats in the documentation: https://pandas.pydata.org/pandas-docs/stable/user_guide/indexing.html#returning-a-view-versus-a-copy\n",
      "  dataset['Age'].iloc[i] = age_pred\n",
      "/tmp/ipykernel_17/1519918780.py:14: SettingWithCopyWarning: \n",
      "A value is trying to be set on a copy of a slice from a DataFrame\n",
      "\n",
      "See the caveats in the documentation: https://pandas.pydata.org/pandas-docs/stable/user_guide/indexing.html#returning-a-view-versus-a-copy\n",
      "  dataset['Age'].iloc[i] = age_pred\n",
      "/tmp/ipykernel_17/1519918780.py:14: SettingWithCopyWarning: \n",
      "A value is trying to be set on a copy of a slice from a DataFrame\n",
      "\n",
      "See the caveats in the documentation: https://pandas.pydata.org/pandas-docs/stable/user_guide/indexing.html#returning-a-view-versus-a-copy\n",
      "  dataset['Age'].iloc[i] = age_pred\n",
      "/tmp/ipykernel_17/1519918780.py:14: SettingWithCopyWarning: \n",
      "A value is trying to be set on a copy of a slice from a DataFrame\n",
      "\n",
      "See the caveats in the documentation: https://pandas.pydata.org/pandas-docs/stable/user_guide/indexing.html#returning-a-view-versus-a-copy\n",
      "  dataset['Age'].iloc[i] = age_pred\n",
      "/tmp/ipykernel_17/1519918780.py:14: SettingWithCopyWarning: \n",
      "A value is trying to be set on a copy of a slice from a DataFrame\n",
      "\n",
      "See the caveats in the documentation: https://pandas.pydata.org/pandas-docs/stable/user_guide/indexing.html#returning-a-view-versus-a-copy\n",
      "  dataset['Age'].iloc[i] = age_pred\n",
      "/tmp/ipykernel_17/1519918780.py:14: SettingWithCopyWarning: \n",
      "A value is trying to be set on a copy of a slice from a DataFrame\n",
      "\n",
      "See the caveats in the documentation: https://pandas.pydata.org/pandas-docs/stable/user_guide/indexing.html#returning-a-view-versus-a-copy\n",
      "  dataset['Age'].iloc[i] = age_pred\n",
      "/tmp/ipykernel_17/1519918780.py:14: SettingWithCopyWarning: \n",
      "A value is trying to be set on a copy of a slice from a DataFrame\n",
      "\n",
      "See the caveats in the documentation: https://pandas.pydata.org/pandas-docs/stable/user_guide/indexing.html#returning-a-view-versus-a-copy\n",
      "  dataset['Age'].iloc[i] = age_pred\n",
      "/tmp/ipykernel_17/1519918780.py:14: SettingWithCopyWarning: \n",
      "A value is trying to be set on a copy of a slice from a DataFrame\n",
      "\n",
      "See the caveats in the documentation: https://pandas.pydata.org/pandas-docs/stable/user_guide/indexing.html#returning-a-view-versus-a-copy\n",
      "  dataset['Age'].iloc[i] = age_pred\n",
      "/tmp/ipykernel_17/1519918780.py:14: SettingWithCopyWarning: \n",
      "A value is trying to be set on a copy of a slice from a DataFrame\n",
      "\n",
      "See the caveats in the documentation: https://pandas.pydata.org/pandas-docs/stable/user_guide/indexing.html#returning-a-view-versus-a-copy\n",
      "  dataset['Age'].iloc[i] = age_pred\n",
      "/tmp/ipykernel_17/1519918780.py:14: SettingWithCopyWarning: \n",
      "A value is trying to be set on a copy of a slice from a DataFrame\n",
      "\n",
      "See the caveats in the documentation: https://pandas.pydata.org/pandas-docs/stable/user_guide/indexing.html#returning-a-view-versus-a-copy\n",
      "  dataset['Age'].iloc[i] = age_pred\n",
      "/tmp/ipykernel_17/1519918780.py:14: SettingWithCopyWarning: \n",
      "A value is trying to be set on a copy of a slice from a DataFrame\n",
      "\n",
      "See the caveats in the documentation: https://pandas.pydata.org/pandas-docs/stable/user_guide/indexing.html#returning-a-view-versus-a-copy\n",
      "  dataset['Age'].iloc[i] = age_pred\n",
      "/tmp/ipykernel_17/1519918780.py:14: SettingWithCopyWarning: \n",
      "A value is trying to be set on a copy of a slice from a DataFrame\n",
      "\n",
      "See the caveats in the documentation: https://pandas.pydata.org/pandas-docs/stable/user_guide/indexing.html#returning-a-view-versus-a-copy\n",
      "  dataset['Age'].iloc[i] = age_pred\n",
      "/tmp/ipykernel_17/1519918780.py:14: SettingWithCopyWarning: \n",
      "A value is trying to be set on a copy of a slice from a DataFrame\n",
      "\n",
      "See the caveats in the documentation: https://pandas.pydata.org/pandas-docs/stable/user_guide/indexing.html#returning-a-view-versus-a-copy\n",
      "  dataset['Age'].iloc[i] = age_pred\n",
      "/tmp/ipykernel_17/1519918780.py:14: SettingWithCopyWarning: \n",
      "A value is trying to be set on a copy of a slice from a DataFrame\n",
      "\n",
      "See the caveats in the documentation: https://pandas.pydata.org/pandas-docs/stable/user_guide/indexing.html#returning-a-view-versus-a-copy\n",
      "  dataset['Age'].iloc[i] = age_pred\n",
      "/tmp/ipykernel_17/1519918780.py:14: SettingWithCopyWarning: \n",
      "A value is trying to be set on a copy of a slice from a DataFrame\n",
      "\n",
      "See the caveats in the documentation: https://pandas.pydata.org/pandas-docs/stable/user_guide/indexing.html#returning-a-view-versus-a-copy\n",
      "  dataset['Age'].iloc[i] = age_pred\n",
      "/tmp/ipykernel_17/1519918780.py:14: SettingWithCopyWarning: \n",
      "A value is trying to be set on a copy of a slice from a DataFrame\n",
      "\n",
      "See the caveats in the documentation: https://pandas.pydata.org/pandas-docs/stable/user_guide/indexing.html#returning-a-view-versus-a-copy\n",
      "  dataset['Age'].iloc[i] = age_pred\n",
      "/tmp/ipykernel_17/1519918780.py:14: SettingWithCopyWarning: \n",
      "A value is trying to be set on a copy of a slice from a DataFrame\n",
      "\n",
      "See the caveats in the documentation: https://pandas.pydata.org/pandas-docs/stable/user_guide/indexing.html#returning-a-view-versus-a-copy\n",
      "  dataset['Age'].iloc[i] = age_pred\n",
      "/tmp/ipykernel_17/1519918780.py:14: SettingWithCopyWarning: \n",
      "A value is trying to be set on a copy of a slice from a DataFrame\n",
      "\n",
      "See the caveats in the documentation: https://pandas.pydata.org/pandas-docs/stable/user_guide/indexing.html#returning-a-view-versus-a-copy\n",
      "  dataset['Age'].iloc[i] = age_pred\n",
      "/tmp/ipykernel_17/1519918780.py:14: SettingWithCopyWarning: \n",
      "A value is trying to be set on a copy of a slice from a DataFrame\n",
      "\n",
      "See the caveats in the documentation: https://pandas.pydata.org/pandas-docs/stable/user_guide/indexing.html#returning-a-view-versus-a-copy\n",
      "  dataset['Age'].iloc[i] = age_pred\n",
      "/tmp/ipykernel_17/1519918780.py:14: SettingWithCopyWarning: \n",
      "A value is trying to be set on a copy of a slice from a DataFrame\n",
      "\n",
      "See the caveats in the documentation: https://pandas.pydata.org/pandas-docs/stable/user_guide/indexing.html#returning-a-view-versus-a-copy\n",
      "  dataset['Age'].iloc[i] = age_pred\n",
      "/tmp/ipykernel_17/1519918780.py:14: SettingWithCopyWarning: \n",
      "A value is trying to be set on a copy of a slice from a DataFrame\n",
      "\n",
      "See the caveats in the documentation: https://pandas.pydata.org/pandas-docs/stable/user_guide/indexing.html#returning-a-view-versus-a-copy\n",
      "  dataset['Age'].iloc[i] = age_pred\n",
      "/tmp/ipykernel_17/1519918780.py:14: SettingWithCopyWarning: \n",
      "A value is trying to be set on a copy of a slice from a DataFrame\n",
      "\n",
      "See the caveats in the documentation: https://pandas.pydata.org/pandas-docs/stable/user_guide/indexing.html#returning-a-view-versus-a-copy\n",
      "  dataset['Age'].iloc[i] = age_pred\n",
      "/tmp/ipykernel_17/1519918780.py:14: SettingWithCopyWarning: \n",
      "A value is trying to be set on a copy of a slice from a DataFrame\n",
      "\n",
      "See the caveats in the documentation: https://pandas.pydata.org/pandas-docs/stable/user_guide/indexing.html#returning-a-view-versus-a-copy\n",
      "  dataset['Age'].iloc[i] = age_pred\n",
      "/tmp/ipykernel_17/1519918780.py:14: SettingWithCopyWarning: \n",
      "A value is trying to be set on a copy of a slice from a DataFrame\n",
      "\n",
      "See the caveats in the documentation: https://pandas.pydata.org/pandas-docs/stable/user_guide/indexing.html#returning-a-view-versus-a-copy\n",
      "  dataset['Age'].iloc[i] = age_pred\n",
      "/tmp/ipykernel_17/1519918780.py:14: SettingWithCopyWarning: \n",
      "A value is trying to be set on a copy of a slice from a DataFrame\n",
      "\n",
      "See the caveats in the documentation: https://pandas.pydata.org/pandas-docs/stable/user_guide/indexing.html#returning-a-view-versus-a-copy\n",
      "  dataset['Age'].iloc[i] = age_pred\n",
      "/tmp/ipykernel_17/1519918780.py:14: SettingWithCopyWarning: \n",
      "A value is trying to be set on a copy of a slice from a DataFrame\n",
      "\n",
      "See the caveats in the documentation: https://pandas.pydata.org/pandas-docs/stable/user_guide/indexing.html#returning-a-view-versus-a-copy\n",
      "  dataset['Age'].iloc[i] = age_pred\n",
      "/tmp/ipykernel_17/1519918780.py:14: SettingWithCopyWarning: \n",
      "A value is trying to be set on a copy of a slice from a DataFrame\n",
      "\n",
      "See the caveats in the documentation: https://pandas.pydata.org/pandas-docs/stable/user_guide/indexing.html#returning-a-view-versus-a-copy\n",
      "  dataset['Age'].iloc[i] = age_pred\n",
      "/tmp/ipykernel_17/1519918780.py:14: SettingWithCopyWarning: \n",
      "A value is trying to be set on a copy of a slice from a DataFrame\n",
      "\n",
      "See the caveats in the documentation: https://pandas.pydata.org/pandas-docs/stable/user_guide/indexing.html#returning-a-view-versus-a-copy\n",
      "  dataset['Age'].iloc[i] = age_pred\n",
      "/tmp/ipykernel_17/1519918780.py:14: SettingWithCopyWarning: \n",
      "A value is trying to be set on a copy of a slice from a DataFrame\n",
      "\n",
      "See the caveats in the documentation: https://pandas.pydata.org/pandas-docs/stable/user_guide/indexing.html#returning-a-view-versus-a-copy\n",
      "  dataset['Age'].iloc[i] = age_pred\n",
      "/tmp/ipykernel_17/1519918780.py:14: SettingWithCopyWarning: \n",
      "A value is trying to be set on a copy of a slice from a DataFrame\n",
      "\n",
      "See the caveats in the documentation: https://pandas.pydata.org/pandas-docs/stable/user_guide/indexing.html#returning-a-view-versus-a-copy\n",
      "  dataset['Age'].iloc[i] = age_pred\n",
      "/tmp/ipykernel_17/1519918780.py:14: SettingWithCopyWarning: \n",
      "A value is trying to be set on a copy of a slice from a DataFrame\n",
      "\n",
      "See the caveats in the documentation: https://pandas.pydata.org/pandas-docs/stable/user_guide/indexing.html#returning-a-view-versus-a-copy\n",
      "  dataset['Age'].iloc[i] = age_pred\n",
      "/tmp/ipykernel_17/1519918780.py:14: SettingWithCopyWarning: \n",
      "A value is trying to be set on a copy of a slice from a DataFrame\n",
      "\n",
      "See the caveats in the documentation: https://pandas.pydata.org/pandas-docs/stable/user_guide/indexing.html#returning-a-view-versus-a-copy\n",
      "  dataset['Age'].iloc[i] = age_pred\n",
      "/tmp/ipykernel_17/1519918780.py:14: SettingWithCopyWarning: \n",
      "A value is trying to be set on a copy of a slice from a DataFrame\n",
      "\n",
      "See the caveats in the documentation: https://pandas.pydata.org/pandas-docs/stable/user_guide/indexing.html#returning-a-view-versus-a-copy\n",
      "  dataset['Age'].iloc[i] = age_pred\n",
      "/tmp/ipykernel_17/1519918780.py:14: SettingWithCopyWarning: \n",
      "A value is trying to be set on a copy of a slice from a DataFrame\n",
      "\n",
      "See the caveats in the documentation: https://pandas.pydata.org/pandas-docs/stable/user_guide/indexing.html#returning-a-view-versus-a-copy\n",
      "  dataset['Age'].iloc[i] = age_pred\n",
      "/tmp/ipykernel_17/1519918780.py:14: SettingWithCopyWarning: \n",
      "A value is trying to be set on a copy of a slice from a DataFrame\n",
      "\n",
      "See the caveats in the documentation: https://pandas.pydata.org/pandas-docs/stable/user_guide/indexing.html#returning-a-view-versus-a-copy\n",
      "  dataset['Age'].iloc[i] = age_pred\n",
      "/tmp/ipykernel_17/1519918780.py:14: SettingWithCopyWarning: \n",
      "A value is trying to be set on a copy of a slice from a DataFrame\n",
      "\n",
      "See the caveats in the documentation: https://pandas.pydata.org/pandas-docs/stable/user_guide/indexing.html#returning-a-view-versus-a-copy\n",
      "  dataset['Age'].iloc[i] = age_pred\n",
      "/tmp/ipykernel_17/1519918780.py:14: SettingWithCopyWarning: \n",
      "A value is trying to be set on a copy of a slice from a DataFrame\n",
      "\n",
      "See the caveats in the documentation: https://pandas.pydata.org/pandas-docs/stable/user_guide/indexing.html#returning-a-view-versus-a-copy\n",
      "  dataset['Age'].iloc[i] = age_pred\n",
      "/tmp/ipykernel_17/1519918780.py:14: SettingWithCopyWarning: \n",
      "A value is trying to be set on a copy of a slice from a DataFrame\n",
      "\n",
      "See the caveats in the documentation: https://pandas.pydata.org/pandas-docs/stable/user_guide/indexing.html#returning-a-view-versus-a-copy\n",
      "  dataset['Age'].iloc[i] = age_pred\n",
      "/tmp/ipykernel_17/1519918780.py:14: SettingWithCopyWarning: \n",
      "A value is trying to be set on a copy of a slice from a DataFrame\n",
      "\n",
      "See the caveats in the documentation: https://pandas.pydata.org/pandas-docs/stable/user_guide/indexing.html#returning-a-view-versus-a-copy\n",
      "  dataset['Age'].iloc[i] = age_pred\n",
      "/tmp/ipykernel_17/1519918780.py:14: SettingWithCopyWarning: \n",
      "A value is trying to be set on a copy of a slice from a DataFrame\n",
      "\n",
      "See the caveats in the documentation: https://pandas.pydata.org/pandas-docs/stable/user_guide/indexing.html#returning-a-view-versus-a-copy\n",
      "  dataset['Age'].iloc[i] = age_pred\n",
      "/tmp/ipykernel_17/1519918780.py:14: SettingWithCopyWarning: \n",
      "A value is trying to be set on a copy of a slice from a DataFrame\n",
      "\n",
      "See the caveats in the documentation: https://pandas.pydata.org/pandas-docs/stable/user_guide/indexing.html#returning-a-view-versus-a-copy\n",
      "  dataset['Age'].iloc[i] = age_pred\n",
      "/tmp/ipykernel_17/1519918780.py:14: SettingWithCopyWarning: \n",
      "A value is trying to be set on a copy of a slice from a DataFrame\n",
      "\n",
      "See the caveats in the documentation: https://pandas.pydata.org/pandas-docs/stable/user_guide/indexing.html#returning-a-view-versus-a-copy\n",
      "  dataset['Age'].iloc[i] = age_pred\n",
      "/tmp/ipykernel_17/1519918780.py:14: SettingWithCopyWarning: \n",
      "A value is trying to be set on a copy of a slice from a DataFrame\n",
      "\n",
      "See the caveats in the documentation: https://pandas.pydata.org/pandas-docs/stable/user_guide/indexing.html#returning-a-view-versus-a-copy\n",
      "  dataset['Age'].iloc[i] = age_pred\n",
      "/tmp/ipykernel_17/1519918780.py:14: SettingWithCopyWarning: \n",
      "A value is trying to be set on a copy of a slice from a DataFrame\n",
      "\n",
      "See the caveats in the documentation: https://pandas.pydata.org/pandas-docs/stable/user_guide/indexing.html#returning-a-view-versus-a-copy\n",
      "  dataset['Age'].iloc[i] = age_pred\n",
      "/tmp/ipykernel_17/1519918780.py:14: SettingWithCopyWarning: \n",
      "A value is trying to be set on a copy of a slice from a DataFrame\n",
      "\n",
      "See the caveats in the documentation: https://pandas.pydata.org/pandas-docs/stable/user_guide/indexing.html#returning-a-view-versus-a-copy\n",
      "  dataset['Age'].iloc[i] = age_pred\n",
      "/tmp/ipykernel_17/1519918780.py:14: SettingWithCopyWarning: \n",
      "A value is trying to be set on a copy of a slice from a DataFrame\n",
      "\n",
      "See the caveats in the documentation: https://pandas.pydata.org/pandas-docs/stable/user_guide/indexing.html#returning-a-view-versus-a-copy\n",
      "  dataset['Age'].iloc[i] = age_pred\n",
      "/tmp/ipykernel_17/1519918780.py:14: SettingWithCopyWarning: \n",
      "A value is trying to be set on a copy of a slice from a DataFrame\n",
      "\n",
      "See the caveats in the documentation: https://pandas.pydata.org/pandas-docs/stable/user_guide/indexing.html#returning-a-view-versus-a-copy\n",
      "  dataset['Age'].iloc[i] = age_pred\n",
      "/tmp/ipykernel_17/1519918780.py:14: SettingWithCopyWarning: \n",
      "A value is trying to be set on a copy of a slice from a DataFrame\n",
      "\n",
      "See the caveats in the documentation: https://pandas.pydata.org/pandas-docs/stable/user_guide/indexing.html#returning-a-view-versus-a-copy\n",
      "  dataset['Age'].iloc[i] = age_pred\n",
      "/tmp/ipykernel_17/1519918780.py:14: SettingWithCopyWarning: \n",
      "A value is trying to be set on a copy of a slice from a DataFrame\n",
      "\n",
      "See the caveats in the documentation: https://pandas.pydata.org/pandas-docs/stable/user_guide/indexing.html#returning-a-view-versus-a-copy\n",
      "  dataset['Age'].iloc[i] = age_pred\n",
      "/tmp/ipykernel_17/1519918780.py:14: SettingWithCopyWarning: \n",
      "A value is trying to be set on a copy of a slice from a DataFrame\n",
      "\n",
      "See the caveats in the documentation: https://pandas.pydata.org/pandas-docs/stable/user_guide/indexing.html#returning-a-view-versus-a-copy\n",
      "  dataset['Age'].iloc[i] = age_pred\n",
      "/tmp/ipykernel_17/1519918780.py:14: SettingWithCopyWarning: \n",
      "A value is trying to be set on a copy of a slice from a DataFrame\n",
      "\n",
      "See the caveats in the documentation: https://pandas.pydata.org/pandas-docs/stable/user_guide/indexing.html#returning-a-view-versus-a-copy\n",
      "  dataset['Age'].iloc[i] = age_pred\n",
      "/tmp/ipykernel_17/1519918780.py:14: SettingWithCopyWarning: \n",
      "A value is trying to be set on a copy of a slice from a DataFrame\n",
      "\n",
      "See the caveats in the documentation: https://pandas.pydata.org/pandas-docs/stable/user_guide/indexing.html#returning-a-view-versus-a-copy\n",
      "  dataset['Age'].iloc[i] = age_pred\n",
      "/tmp/ipykernel_17/1519918780.py:14: SettingWithCopyWarning: \n",
      "A value is trying to be set on a copy of a slice from a DataFrame\n",
      "\n",
      "See the caveats in the documentation: https://pandas.pydata.org/pandas-docs/stable/user_guide/indexing.html#returning-a-view-versus-a-copy\n",
      "  dataset['Age'].iloc[i] = age_pred\n",
      "/tmp/ipykernel_17/1519918780.py:14: SettingWithCopyWarning: \n",
      "A value is trying to be set on a copy of a slice from a DataFrame\n",
      "\n",
      "See the caveats in the documentation: https://pandas.pydata.org/pandas-docs/stable/user_guide/indexing.html#returning-a-view-versus-a-copy\n",
      "  dataset['Age'].iloc[i] = age_pred\n",
      "/tmp/ipykernel_17/1519918780.py:14: SettingWithCopyWarning: \n",
      "A value is trying to be set on a copy of a slice from a DataFrame\n",
      "\n",
      "See the caveats in the documentation: https://pandas.pydata.org/pandas-docs/stable/user_guide/indexing.html#returning-a-view-versus-a-copy\n",
      "  dataset['Age'].iloc[i] = age_pred\n",
      "/tmp/ipykernel_17/1519918780.py:14: SettingWithCopyWarning: \n",
      "A value is trying to be set on a copy of a slice from a DataFrame\n",
      "\n",
      "See the caveats in the documentation: https://pandas.pydata.org/pandas-docs/stable/user_guide/indexing.html#returning-a-view-versus-a-copy\n",
      "  dataset['Age'].iloc[i] = age_pred\n",
      "/tmp/ipykernel_17/1519918780.py:14: SettingWithCopyWarning: \n",
      "A value is trying to be set on a copy of a slice from a DataFrame\n",
      "\n",
      "See the caveats in the documentation: https://pandas.pydata.org/pandas-docs/stable/user_guide/indexing.html#returning-a-view-versus-a-copy\n",
      "  dataset['Age'].iloc[i] = age_pred\n",
      "/tmp/ipykernel_17/1519918780.py:14: SettingWithCopyWarning: \n",
      "A value is trying to be set on a copy of a slice from a DataFrame\n",
      "\n",
      "See the caveats in the documentation: https://pandas.pydata.org/pandas-docs/stable/user_guide/indexing.html#returning-a-view-versus-a-copy\n",
      "  dataset['Age'].iloc[i] = age_pred\n",
      "/tmp/ipykernel_17/1519918780.py:14: SettingWithCopyWarning: \n",
      "A value is trying to be set on a copy of a slice from a DataFrame\n",
      "\n",
      "See the caveats in the documentation: https://pandas.pydata.org/pandas-docs/stable/user_guide/indexing.html#returning-a-view-versus-a-copy\n",
      "  dataset['Age'].iloc[i] = age_pred\n",
      "/tmp/ipykernel_17/1519918780.py:14: SettingWithCopyWarning: \n",
      "A value is trying to be set on a copy of a slice from a DataFrame\n",
      "\n",
      "See the caveats in the documentation: https://pandas.pydata.org/pandas-docs/stable/user_guide/indexing.html#returning-a-view-versus-a-copy\n",
      "  dataset['Age'].iloc[i] = age_pred\n",
      "/tmp/ipykernel_17/1519918780.py:14: SettingWithCopyWarning: \n",
      "A value is trying to be set on a copy of a slice from a DataFrame\n",
      "\n",
      "See the caveats in the documentation: https://pandas.pydata.org/pandas-docs/stable/user_guide/indexing.html#returning-a-view-versus-a-copy\n",
      "  dataset['Age'].iloc[i] = age_pred\n",
      "/tmp/ipykernel_17/1519918780.py:14: SettingWithCopyWarning: \n",
      "A value is trying to be set on a copy of a slice from a DataFrame\n",
      "\n",
      "See the caveats in the documentation: https://pandas.pydata.org/pandas-docs/stable/user_guide/indexing.html#returning-a-view-versus-a-copy\n",
      "  dataset['Age'].iloc[i] = age_pred\n",
      "/tmp/ipykernel_17/1519918780.py:14: SettingWithCopyWarning: \n",
      "A value is trying to be set on a copy of a slice from a DataFrame\n",
      "\n",
      "See the caveats in the documentation: https://pandas.pydata.org/pandas-docs/stable/user_guide/indexing.html#returning-a-view-versus-a-copy\n",
      "  dataset['Age'].iloc[i] = age_pred\n",
      "/tmp/ipykernel_17/1519918780.py:14: SettingWithCopyWarning: \n",
      "A value is trying to be set on a copy of a slice from a DataFrame\n",
      "\n",
      "See the caveats in the documentation: https://pandas.pydata.org/pandas-docs/stable/user_guide/indexing.html#returning-a-view-versus-a-copy\n",
      "  dataset['Age'].iloc[i] = age_pred\n",
      "/tmp/ipykernel_17/1519918780.py:14: SettingWithCopyWarning: \n",
      "A value is trying to be set on a copy of a slice from a DataFrame\n",
      "\n",
      "See the caveats in the documentation: https://pandas.pydata.org/pandas-docs/stable/user_guide/indexing.html#returning-a-view-versus-a-copy\n",
      "  dataset['Age'].iloc[i] = age_pred\n",
      "/tmp/ipykernel_17/1519918780.py:14: SettingWithCopyWarning: \n",
      "A value is trying to be set on a copy of a slice from a DataFrame\n",
      "\n",
      "See the caveats in the documentation: https://pandas.pydata.org/pandas-docs/stable/user_guide/indexing.html#returning-a-view-versus-a-copy\n",
      "  dataset['Age'].iloc[i] = age_pred\n",
      "/tmp/ipykernel_17/1519918780.py:14: SettingWithCopyWarning: \n",
      "A value is trying to be set on a copy of a slice from a DataFrame\n",
      "\n",
      "See the caveats in the documentation: https://pandas.pydata.org/pandas-docs/stable/user_guide/indexing.html#returning-a-view-versus-a-copy\n",
      "  dataset['Age'].iloc[i] = age_pred\n",
      "/tmp/ipykernel_17/1519918780.py:14: SettingWithCopyWarning: \n",
      "A value is trying to be set on a copy of a slice from a DataFrame\n",
      "\n",
      "See the caveats in the documentation: https://pandas.pydata.org/pandas-docs/stable/user_guide/indexing.html#returning-a-view-versus-a-copy\n",
      "  dataset['Age'].iloc[i] = age_pred\n",
      "/tmp/ipykernel_17/1519918780.py:14: SettingWithCopyWarning: \n",
      "A value is trying to be set on a copy of a slice from a DataFrame\n",
      "\n",
      "See the caveats in the documentation: https://pandas.pydata.org/pandas-docs/stable/user_guide/indexing.html#returning-a-view-versus-a-copy\n",
      "  dataset['Age'].iloc[i] = age_pred\n",
      "/tmp/ipykernel_17/1519918780.py:14: SettingWithCopyWarning: \n",
      "A value is trying to be set on a copy of a slice from a DataFrame\n",
      "\n",
      "See the caveats in the documentation: https://pandas.pydata.org/pandas-docs/stable/user_guide/indexing.html#returning-a-view-versus-a-copy\n",
      "  dataset['Age'].iloc[i] = age_pred\n",
      "/tmp/ipykernel_17/1519918780.py:14: SettingWithCopyWarning: \n",
      "A value is trying to be set on a copy of a slice from a DataFrame\n",
      "\n",
      "See the caveats in the documentation: https://pandas.pydata.org/pandas-docs/stable/user_guide/indexing.html#returning-a-view-versus-a-copy\n",
      "  dataset['Age'].iloc[i] = age_pred\n",
      "/tmp/ipykernel_17/1519918780.py:14: SettingWithCopyWarning: \n",
      "A value is trying to be set on a copy of a slice from a DataFrame\n",
      "\n",
      "See the caveats in the documentation: https://pandas.pydata.org/pandas-docs/stable/user_guide/indexing.html#returning-a-view-versus-a-copy\n",
      "  dataset['Age'].iloc[i] = age_pred\n",
      "/tmp/ipykernel_17/1519918780.py:14: SettingWithCopyWarning: \n",
      "A value is trying to be set on a copy of a slice from a DataFrame\n",
      "\n",
      "See the caveats in the documentation: https://pandas.pydata.org/pandas-docs/stable/user_guide/indexing.html#returning-a-view-versus-a-copy\n",
      "  dataset['Age'].iloc[i] = age_pred\n",
      "/tmp/ipykernel_17/1519918780.py:14: SettingWithCopyWarning: \n",
      "A value is trying to be set on a copy of a slice from a DataFrame\n",
      "\n",
      "See the caveats in the documentation: https://pandas.pydata.org/pandas-docs/stable/user_guide/indexing.html#returning-a-view-versus-a-copy\n",
      "  dataset['Age'].iloc[i] = age_pred\n",
      "/tmp/ipykernel_17/1519918780.py:14: SettingWithCopyWarning: \n",
      "A value is trying to be set on a copy of a slice from a DataFrame\n",
      "\n",
      "See the caveats in the documentation: https://pandas.pydata.org/pandas-docs/stable/user_guide/indexing.html#returning-a-view-versus-a-copy\n",
      "  dataset['Age'].iloc[i] = age_pred\n",
      "/tmp/ipykernel_17/1519918780.py:14: SettingWithCopyWarning: \n",
      "A value is trying to be set on a copy of a slice from a DataFrame\n",
      "\n",
      "See the caveats in the documentation: https://pandas.pydata.org/pandas-docs/stable/user_guide/indexing.html#returning-a-view-versus-a-copy\n",
      "  dataset['Age'].iloc[i] = age_pred\n",
      "/tmp/ipykernel_17/1519918780.py:14: SettingWithCopyWarning: \n",
      "A value is trying to be set on a copy of a slice from a DataFrame\n",
      "\n",
      "See the caveats in the documentation: https://pandas.pydata.org/pandas-docs/stable/user_guide/indexing.html#returning-a-view-versus-a-copy\n",
      "  dataset['Age'].iloc[i] = age_pred\n",
      "/tmp/ipykernel_17/1519918780.py:14: SettingWithCopyWarning: \n",
      "A value is trying to be set on a copy of a slice from a DataFrame\n",
      "\n",
      "See the caveats in the documentation: https://pandas.pydata.org/pandas-docs/stable/user_guide/indexing.html#returning-a-view-versus-a-copy\n",
      "  dataset['Age'].iloc[i] = age_pred\n",
      "/tmp/ipykernel_17/1519918780.py:14: SettingWithCopyWarning: \n",
      "A value is trying to be set on a copy of a slice from a DataFrame\n",
      "\n",
      "See the caveats in the documentation: https://pandas.pydata.org/pandas-docs/stable/user_guide/indexing.html#returning-a-view-versus-a-copy\n",
      "  dataset['Age'].iloc[i] = age_pred\n",
      "/tmp/ipykernel_17/1519918780.py:14: SettingWithCopyWarning: \n",
      "A value is trying to be set on a copy of a slice from a DataFrame\n",
      "\n",
      "See the caveats in the documentation: https://pandas.pydata.org/pandas-docs/stable/user_guide/indexing.html#returning-a-view-versus-a-copy\n",
      "  dataset['Age'].iloc[i] = age_pred\n",
      "/tmp/ipykernel_17/1519918780.py:14: SettingWithCopyWarning: \n",
      "A value is trying to be set on a copy of a slice from a DataFrame\n",
      "\n",
      "See the caveats in the documentation: https://pandas.pydata.org/pandas-docs/stable/user_guide/indexing.html#returning-a-view-versus-a-copy\n",
      "  dataset['Age'].iloc[i] = age_pred\n",
      "/tmp/ipykernel_17/1519918780.py:14: SettingWithCopyWarning: \n",
      "A value is trying to be set on a copy of a slice from a DataFrame\n",
      "\n",
      "See the caveats in the documentation: https://pandas.pydata.org/pandas-docs/stable/user_guide/indexing.html#returning-a-view-versus-a-copy\n",
      "  dataset['Age'].iloc[i] = age_pred\n",
      "/tmp/ipykernel_17/1519918780.py:14: SettingWithCopyWarning: \n",
      "A value is trying to be set on a copy of a slice from a DataFrame\n",
      "\n",
      "See the caveats in the documentation: https://pandas.pydata.org/pandas-docs/stable/user_guide/indexing.html#returning-a-view-versus-a-copy\n",
      "  dataset['Age'].iloc[i] = age_pred\n",
      "/tmp/ipykernel_17/1519918780.py:14: SettingWithCopyWarning: \n",
      "A value is trying to be set on a copy of a slice from a DataFrame\n",
      "\n",
      "See the caveats in the documentation: https://pandas.pydata.org/pandas-docs/stable/user_guide/indexing.html#returning-a-view-versus-a-copy\n",
      "  dataset['Age'].iloc[i] = age_pred\n",
      "/tmp/ipykernel_17/1519918780.py:14: SettingWithCopyWarning: \n",
      "A value is trying to be set on a copy of a slice from a DataFrame\n",
      "\n",
      "See the caveats in the documentation: https://pandas.pydata.org/pandas-docs/stable/user_guide/indexing.html#returning-a-view-versus-a-copy\n",
      "  dataset['Age'].iloc[i] = age_pred\n",
      "/tmp/ipykernel_17/1519918780.py:14: SettingWithCopyWarning: \n",
      "A value is trying to be set on a copy of a slice from a DataFrame\n",
      "\n",
      "See the caveats in the documentation: https://pandas.pydata.org/pandas-docs/stable/user_guide/indexing.html#returning-a-view-versus-a-copy\n",
      "  dataset['Age'].iloc[i] = age_pred\n",
      "/tmp/ipykernel_17/1519918780.py:14: SettingWithCopyWarning: \n",
      "A value is trying to be set on a copy of a slice from a DataFrame\n",
      "\n",
      "See the caveats in the documentation: https://pandas.pydata.org/pandas-docs/stable/user_guide/indexing.html#returning-a-view-versus-a-copy\n",
      "  dataset['Age'].iloc[i] = age_pred\n",
      "/tmp/ipykernel_17/1519918780.py:14: SettingWithCopyWarning: \n",
      "A value is trying to be set on a copy of a slice from a DataFrame\n",
      "\n",
      "See the caveats in the documentation: https://pandas.pydata.org/pandas-docs/stable/user_guide/indexing.html#returning-a-view-versus-a-copy\n",
      "  dataset['Age'].iloc[i] = age_pred\n",
      "/tmp/ipykernel_17/1519918780.py:14: SettingWithCopyWarning: \n",
      "A value is trying to be set on a copy of a slice from a DataFrame\n",
      "\n",
      "See the caveats in the documentation: https://pandas.pydata.org/pandas-docs/stable/user_guide/indexing.html#returning-a-view-versus-a-copy\n",
      "  dataset['Age'].iloc[i] = age_pred\n",
      "/tmp/ipykernel_17/1519918780.py:14: SettingWithCopyWarning: \n",
      "A value is trying to be set on a copy of a slice from a DataFrame\n",
      "\n",
      "See the caveats in the documentation: https://pandas.pydata.org/pandas-docs/stable/user_guide/indexing.html#returning-a-view-versus-a-copy\n",
      "  dataset['Age'].iloc[i] = age_pred\n",
      "/tmp/ipykernel_17/1519918780.py:14: SettingWithCopyWarning: \n",
      "A value is trying to be set on a copy of a slice from a DataFrame\n",
      "\n",
      "See the caveats in the documentation: https://pandas.pydata.org/pandas-docs/stable/user_guide/indexing.html#returning-a-view-versus-a-copy\n",
      "  dataset['Age'].iloc[i] = age_pred\n",
      "/tmp/ipykernel_17/1519918780.py:14: SettingWithCopyWarning: \n",
      "A value is trying to be set on a copy of a slice from a DataFrame\n",
      "\n",
      "See the caveats in the documentation: https://pandas.pydata.org/pandas-docs/stable/user_guide/indexing.html#returning-a-view-versus-a-copy\n",
      "  dataset['Age'].iloc[i] = age_pred\n",
      "/tmp/ipykernel_17/1519918780.py:14: SettingWithCopyWarning: \n",
      "A value is trying to be set on a copy of a slice from a DataFrame\n",
      "\n",
      "See the caveats in the documentation: https://pandas.pydata.org/pandas-docs/stable/user_guide/indexing.html#returning-a-view-versus-a-copy\n",
      "  dataset['Age'].iloc[i] = age_pred\n",
      "/tmp/ipykernel_17/1519918780.py:14: SettingWithCopyWarning: \n",
      "A value is trying to be set on a copy of a slice from a DataFrame\n",
      "\n",
      "See the caveats in the documentation: https://pandas.pydata.org/pandas-docs/stable/user_guide/indexing.html#returning-a-view-versus-a-copy\n",
      "  dataset['Age'].iloc[i] = age_pred\n",
      "/tmp/ipykernel_17/1519918780.py:14: SettingWithCopyWarning: \n",
      "A value is trying to be set on a copy of a slice from a DataFrame\n",
      "\n",
      "See the caveats in the documentation: https://pandas.pydata.org/pandas-docs/stable/user_guide/indexing.html#returning-a-view-versus-a-copy\n",
      "  dataset['Age'].iloc[i] = age_pred\n",
      "/tmp/ipykernel_17/1519918780.py:14: SettingWithCopyWarning: \n",
      "A value is trying to be set on a copy of a slice from a DataFrame\n",
      "\n",
      "See the caveats in the documentation: https://pandas.pydata.org/pandas-docs/stable/user_guide/indexing.html#returning-a-view-versus-a-copy\n",
      "  dataset['Age'].iloc[i] = age_pred\n",
      "/tmp/ipykernel_17/1519918780.py:14: SettingWithCopyWarning: \n",
      "A value is trying to be set on a copy of a slice from a DataFrame\n",
      "\n",
      "See the caveats in the documentation: https://pandas.pydata.org/pandas-docs/stable/user_guide/indexing.html#returning-a-view-versus-a-copy\n",
      "  dataset['Age'].iloc[i] = age_pred\n",
      "/tmp/ipykernel_17/1519918780.py:14: SettingWithCopyWarning: \n",
      "A value is trying to be set on a copy of a slice from a DataFrame\n",
      "\n",
      "See the caveats in the documentation: https://pandas.pydata.org/pandas-docs/stable/user_guide/indexing.html#returning-a-view-versus-a-copy\n",
      "  dataset['Age'].iloc[i] = age_pred\n",
      "/tmp/ipykernel_17/1519918780.py:14: SettingWithCopyWarning: \n",
      "A value is trying to be set on a copy of a slice from a DataFrame\n",
      "\n",
      "See the caveats in the documentation: https://pandas.pydata.org/pandas-docs/stable/user_guide/indexing.html#returning-a-view-versus-a-copy\n",
      "  dataset['Age'].iloc[i] = age_pred\n",
      "/tmp/ipykernel_17/1519918780.py:14: SettingWithCopyWarning: \n",
      "A value is trying to be set on a copy of a slice from a DataFrame\n",
      "\n",
      "See the caveats in the documentation: https://pandas.pydata.org/pandas-docs/stable/user_guide/indexing.html#returning-a-view-versus-a-copy\n",
      "  dataset['Age'].iloc[i] = age_pred\n",
      "/tmp/ipykernel_17/1519918780.py:14: SettingWithCopyWarning: \n",
      "A value is trying to be set on a copy of a slice from a DataFrame\n",
      "\n",
      "See the caveats in the documentation: https://pandas.pydata.org/pandas-docs/stable/user_guide/indexing.html#returning-a-view-versus-a-copy\n",
      "  dataset['Age'].iloc[i] = age_pred\n",
      "/tmp/ipykernel_17/1519918780.py:14: SettingWithCopyWarning: \n",
      "A value is trying to be set on a copy of a slice from a DataFrame\n",
      "\n",
      "See the caveats in the documentation: https://pandas.pydata.org/pandas-docs/stable/user_guide/indexing.html#returning-a-view-versus-a-copy\n",
      "  dataset['Age'].iloc[i] = age_pred\n",
      "/tmp/ipykernel_17/1519918780.py:14: SettingWithCopyWarning: \n",
      "A value is trying to be set on a copy of a slice from a DataFrame\n",
      "\n",
      "See the caveats in the documentation: https://pandas.pydata.org/pandas-docs/stable/user_guide/indexing.html#returning-a-view-versus-a-copy\n",
      "  dataset['Age'].iloc[i] = age_pred\n",
      "/tmp/ipykernel_17/1519918780.py:14: SettingWithCopyWarning: \n",
      "A value is trying to be set on a copy of a slice from a DataFrame\n",
      "\n",
      "See the caveats in the documentation: https://pandas.pydata.org/pandas-docs/stable/user_guide/indexing.html#returning-a-view-versus-a-copy\n",
      "  dataset['Age'].iloc[i] = age_pred\n",
      "/tmp/ipykernel_17/1519918780.py:14: SettingWithCopyWarning: \n",
      "A value is trying to be set on a copy of a slice from a DataFrame\n",
      "\n",
      "See the caveats in the documentation: https://pandas.pydata.org/pandas-docs/stable/user_guide/indexing.html#returning-a-view-versus-a-copy\n",
      "  dataset['Age'].iloc[i] = age_pred\n",
      "/tmp/ipykernel_17/1519918780.py:14: SettingWithCopyWarning: \n",
      "A value is trying to be set on a copy of a slice from a DataFrame\n",
      "\n",
      "See the caveats in the documentation: https://pandas.pydata.org/pandas-docs/stable/user_guide/indexing.html#returning-a-view-versus-a-copy\n",
      "  dataset['Age'].iloc[i] = age_pred\n",
      "/tmp/ipykernel_17/1519918780.py:14: SettingWithCopyWarning: \n",
      "A value is trying to be set on a copy of a slice from a DataFrame\n",
      "\n",
      "See the caveats in the documentation: https://pandas.pydata.org/pandas-docs/stable/user_guide/indexing.html#returning-a-view-versus-a-copy\n",
      "  dataset['Age'].iloc[i] = age_pred\n",
      "/tmp/ipykernel_17/1519918780.py:14: SettingWithCopyWarning: \n",
      "A value is trying to be set on a copy of a slice from a DataFrame\n",
      "\n",
      "See the caveats in the documentation: https://pandas.pydata.org/pandas-docs/stable/user_guide/indexing.html#returning-a-view-versus-a-copy\n",
      "  dataset['Age'].iloc[i] = age_pred\n",
      "/tmp/ipykernel_17/1519918780.py:14: SettingWithCopyWarning: \n",
      "A value is trying to be set on a copy of a slice from a DataFrame\n",
      "\n",
      "See the caveats in the documentation: https://pandas.pydata.org/pandas-docs/stable/user_guide/indexing.html#returning-a-view-versus-a-copy\n",
      "  dataset['Age'].iloc[i] = age_pred\n",
      "/tmp/ipykernel_17/1519918780.py:14: SettingWithCopyWarning: \n",
      "A value is trying to be set on a copy of a slice from a DataFrame\n",
      "\n",
      "See the caveats in the documentation: https://pandas.pydata.org/pandas-docs/stable/user_guide/indexing.html#returning-a-view-versus-a-copy\n",
      "  dataset['Age'].iloc[i] = age_pred\n",
      "/tmp/ipykernel_17/1519918780.py:14: SettingWithCopyWarning: \n",
      "A value is trying to be set on a copy of a slice from a DataFrame\n",
      "\n",
      "See the caveats in the documentation: https://pandas.pydata.org/pandas-docs/stable/user_guide/indexing.html#returning-a-view-versus-a-copy\n",
      "  dataset['Age'].iloc[i] = age_pred\n",
      "/tmp/ipykernel_17/1519918780.py:14: SettingWithCopyWarning: \n",
      "A value is trying to be set on a copy of a slice from a DataFrame\n",
      "\n",
      "See the caveats in the documentation: https://pandas.pydata.org/pandas-docs/stable/user_guide/indexing.html#returning-a-view-versus-a-copy\n",
      "  dataset['Age'].iloc[i] = age_pred\n",
      "/tmp/ipykernel_17/1519918780.py:14: SettingWithCopyWarning: \n",
      "A value is trying to be set on a copy of a slice from a DataFrame\n",
      "\n",
      "See the caveats in the documentation: https://pandas.pydata.org/pandas-docs/stable/user_guide/indexing.html#returning-a-view-versus-a-copy\n",
      "  dataset['Age'].iloc[i] = age_pred\n",
      "/tmp/ipykernel_17/1519918780.py:14: SettingWithCopyWarning: \n",
      "A value is trying to be set on a copy of a slice from a DataFrame\n",
      "\n",
      "See the caveats in the documentation: https://pandas.pydata.org/pandas-docs/stable/user_guide/indexing.html#returning-a-view-versus-a-copy\n",
      "  dataset['Age'].iloc[i] = age_pred\n",
      "/tmp/ipykernel_17/1519918780.py:14: SettingWithCopyWarning: \n",
      "A value is trying to be set on a copy of a slice from a DataFrame\n",
      "\n",
      "See the caveats in the documentation: https://pandas.pydata.org/pandas-docs/stable/user_guide/indexing.html#returning-a-view-versus-a-copy\n",
      "  dataset['Age'].iloc[i] = age_pred\n",
      "/tmp/ipykernel_17/1519918780.py:14: SettingWithCopyWarning: \n",
      "A value is trying to be set on a copy of a slice from a DataFrame\n",
      "\n",
      "See the caveats in the documentation: https://pandas.pydata.org/pandas-docs/stable/user_guide/indexing.html#returning-a-view-versus-a-copy\n",
      "  dataset['Age'].iloc[i] = age_pred\n",
      "/tmp/ipykernel_17/1519918780.py:14: SettingWithCopyWarning: \n",
      "A value is trying to be set on a copy of a slice from a DataFrame\n",
      "\n",
      "See the caveats in the documentation: https://pandas.pydata.org/pandas-docs/stable/user_guide/indexing.html#returning-a-view-versus-a-copy\n",
      "  dataset['Age'].iloc[i] = age_pred\n",
      "/tmp/ipykernel_17/1519918780.py:14: SettingWithCopyWarning: \n",
      "A value is trying to be set on a copy of a slice from a DataFrame\n",
      "\n",
      "See the caveats in the documentation: https://pandas.pydata.org/pandas-docs/stable/user_guide/indexing.html#returning-a-view-versus-a-copy\n",
      "  dataset['Age'].iloc[i] = age_pred\n",
      "/tmp/ipykernel_17/1519918780.py:14: SettingWithCopyWarning: \n",
      "A value is trying to be set on a copy of a slice from a DataFrame\n",
      "\n",
      "See the caveats in the documentation: https://pandas.pydata.org/pandas-docs/stable/user_guide/indexing.html#returning-a-view-versus-a-copy\n",
      "  dataset['Age'].iloc[i] = age_pred\n",
      "/tmp/ipykernel_17/1519918780.py:14: SettingWithCopyWarning: \n",
      "A value is trying to be set on a copy of a slice from a DataFrame\n",
      "\n",
      "See the caveats in the documentation: https://pandas.pydata.org/pandas-docs/stable/user_guide/indexing.html#returning-a-view-versus-a-copy\n",
      "  dataset['Age'].iloc[i] = age_pred\n",
      "/tmp/ipykernel_17/1519918780.py:14: SettingWithCopyWarning: \n",
      "A value is trying to be set on a copy of a slice from a DataFrame\n",
      "\n",
      "See the caveats in the documentation: https://pandas.pydata.org/pandas-docs/stable/user_guide/indexing.html#returning-a-view-versus-a-copy\n",
      "  dataset['Age'].iloc[i] = age_pred\n",
      "/tmp/ipykernel_17/1519918780.py:14: SettingWithCopyWarning: \n",
      "A value is trying to be set on a copy of a slice from a DataFrame\n",
      "\n",
      "See the caveats in the documentation: https://pandas.pydata.org/pandas-docs/stable/user_guide/indexing.html#returning-a-view-versus-a-copy\n",
      "  dataset['Age'].iloc[i] = age_pred\n",
      "/tmp/ipykernel_17/1519918780.py:14: SettingWithCopyWarning: \n",
      "A value is trying to be set on a copy of a slice from a DataFrame\n",
      "\n",
      "See the caveats in the documentation: https://pandas.pydata.org/pandas-docs/stable/user_guide/indexing.html#returning-a-view-versus-a-copy\n",
      "  dataset['Age'].iloc[i] = age_pred\n",
      "/tmp/ipykernel_17/1519918780.py:14: SettingWithCopyWarning: \n",
      "A value is trying to be set on a copy of a slice from a DataFrame\n",
      "\n",
      "See the caveats in the documentation: https://pandas.pydata.org/pandas-docs/stable/user_guide/indexing.html#returning-a-view-versus-a-copy\n",
      "  dataset['Age'].iloc[i] = age_pred\n",
      "/tmp/ipykernel_17/1519918780.py:14: SettingWithCopyWarning: \n",
      "A value is trying to be set on a copy of a slice from a DataFrame\n",
      "\n",
      "See the caveats in the documentation: https://pandas.pydata.org/pandas-docs/stable/user_guide/indexing.html#returning-a-view-versus-a-copy\n",
      "  dataset['Age'].iloc[i] = age_pred\n",
      "/tmp/ipykernel_17/1519918780.py:14: SettingWithCopyWarning: \n",
      "A value is trying to be set on a copy of a slice from a DataFrame\n",
      "\n",
      "See the caveats in the documentation: https://pandas.pydata.org/pandas-docs/stable/user_guide/indexing.html#returning-a-view-versus-a-copy\n",
      "  dataset['Age'].iloc[i] = age_pred\n",
      "/tmp/ipykernel_17/1519918780.py:14: SettingWithCopyWarning: \n",
      "A value is trying to be set on a copy of a slice from a DataFrame\n",
      "\n",
      "See the caveats in the documentation: https://pandas.pydata.org/pandas-docs/stable/user_guide/indexing.html#returning-a-view-versus-a-copy\n",
      "  dataset['Age'].iloc[i] = age_pred\n",
      "/tmp/ipykernel_17/1519918780.py:14: SettingWithCopyWarning: \n",
      "A value is trying to be set on a copy of a slice from a DataFrame\n",
      "\n",
      "See the caveats in the documentation: https://pandas.pydata.org/pandas-docs/stable/user_guide/indexing.html#returning-a-view-versus-a-copy\n",
      "  dataset['Age'].iloc[i] = age_pred\n",
      "/tmp/ipykernel_17/1519918780.py:14: SettingWithCopyWarning: \n",
      "A value is trying to be set on a copy of a slice from a DataFrame\n",
      "\n",
      "See the caveats in the documentation: https://pandas.pydata.org/pandas-docs/stable/user_guide/indexing.html#returning-a-view-versus-a-copy\n",
      "  dataset['Age'].iloc[i] = age_pred\n",
      "/tmp/ipykernel_17/1519918780.py:14: SettingWithCopyWarning: \n",
      "A value is trying to be set on a copy of a slice from a DataFrame\n",
      "\n",
      "See the caveats in the documentation: https://pandas.pydata.org/pandas-docs/stable/user_guide/indexing.html#returning-a-view-versus-a-copy\n",
      "  dataset['Age'].iloc[i] = age_pred\n",
      "/tmp/ipykernel_17/1519918780.py:14: SettingWithCopyWarning: \n",
      "A value is trying to be set on a copy of a slice from a DataFrame\n",
      "\n",
      "See the caveats in the documentation: https://pandas.pydata.org/pandas-docs/stable/user_guide/indexing.html#returning-a-view-versus-a-copy\n",
      "  dataset['Age'].iloc[i] = age_pred\n",
      "/tmp/ipykernel_17/1519918780.py:14: SettingWithCopyWarning: \n",
      "A value is trying to be set on a copy of a slice from a DataFrame\n",
      "\n",
      "See the caveats in the documentation: https://pandas.pydata.org/pandas-docs/stable/user_guide/indexing.html#returning-a-view-versus-a-copy\n",
      "  dataset['Age'].iloc[i] = age_pred\n",
      "/tmp/ipykernel_17/1519918780.py:14: SettingWithCopyWarning: \n",
      "A value is trying to be set on a copy of a slice from a DataFrame\n",
      "\n",
      "See the caveats in the documentation: https://pandas.pydata.org/pandas-docs/stable/user_guide/indexing.html#returning-a-view-versus-a-copy\n",
      "  dataset['Age'].iloc[i] = age_pred\n",
      "/tmp/ipykernel_17/1519918780.py:14: SettingWithCopyWarning: \n",
      "A value is trying to be set on a copy of a slice from a DataFrame\n",
      "\n",
      "See the caveats in the documentation: https://pandas.pydata.org/pandas-docs/stable/user_guide/indexing.html#returning-a-view-versus-a-copy\n",
      "  dataset['Age'].iloc[i] = age_pred\n",
      "/tmp/ipykernel_17/1519918780.py:14: SettingWithCopyWarning: \n",
      "A value is trying to be set on a copy of a slice from a DataFrame\n",
      "\n",
      "See the caveats in the documentation: https://pandas.pydata.org/pandas-docs/stable/user_guide/indexing.html#returning-a-view-versus-a-copy\n",
      "  dataset['Age'].iloc[i] = age_pred\n",
      "/tmp/ipykernel_17/1519918780.py:14: SettingWithCopyWarning: \n",
      "A value is trying to be set on a copy of a slice from a DataFrame\n",
      "\n",
      "See the caveats in the documentation: https://pandas.pydata.org/pandas-docs/stable/user_guide/indexing.html#returning-a-view-versus-a-copy\n",
      "  dataset['Age'].iloc[i] = age_pred\n",
      "/tmp/ipykernel_17/1519918780.py:14: SettingWithCopyWarning: \n",
      "A value is trying to be set on a copy of a slice from a DataFrame\n",
      "\n",
      "See the caveats in the documentation: https://pandas.pydata.org/pandas-docs/stable/user_guide/indexing.html#returning-a-view-versus-a-copy\n",
      "  dataset['Age'].iloc[i] = age_pred\n",
      "/tmp/ipykernel_17/1519918780.py:14: SettingWithCopyWarning: \n",
      "A value is trying to be set on a copy of a slice from a DataFrame\n",
      "\n",
      "See the caveats in the documentation: https://pandas.pydata.org/pandas-docs/stable/user_guide/indexing.html#returning-a-view-versus-a-copy\n",
      "  dataset['Age'].iloc[i] = age_pred\n",
      "/tmp/ipykernel_17/1519918780.py:14: SettingWithCopyWarning: \n",
      "A value is trying to be set on a copy of a slice from a DataFrame\n",
      "\n",
      "See the caveats in the documentation: https://pandas.pydata.org/pandas-docs/stable/user_guide/indexing.html#returning-a-view-versus-a-copy\n",
      "  dataset['Age'].iloc[i] = age_pred\n",
      "/tmp/ipykernel_17/1519918780.py:14: SettingWithCopyWarning: \n",
      "A value is trying to be set on a copy of a slice from a DataFrame\n",
      "\n",
      "See the caveats in the documentation: https://pandas.pydata.org/pandas-docs/stable/user_guide/indexing.html#returning-a-view-versus-a-copy\n",
      "  dataset['Age'].iloc[i] = age_pred\n",
      "/tmp/ipykernel_17/1519918780.py:14: SettingWithCopyWarning: \n",
      "A value is trying to be set on a copy of a slice from a DataFrame\n",
      "\n",
      "See the caveats in the documentation: https://pandas.pydata.org/pandas-docs/stable/user_guide/indexing.html#returning-a-view-versus-a-copy\n",
      "  dataset['Age'].iloc[i] = age_pred\n",
      "/tmp/ipykernel_17/1519918780.py:14: SettingWithCopyWarning: \n",
      "A value is trying to be set on a copy of a slice from a DataFrame\n",
      "\n",
      "See the caveats in the documentation: https://pandas.pydata.org/pandas-docs/stable/user_guide/indexing.html#returning-a-view-versus-a-copy\n",
      "  dataset['Age'].iloc[i] = age_pred\n",
      "/tmp/ipykernel_17/1519918780.py:14: SettingWithCopyWarning: \n",
      "A value is trying to be set on a copy of a slice from a DataFrame\n",
      "\n",
      "See the caveats in the documentation: https://pandas.pydata.org/pandas-docs/stable/user_guide/indexing.html#returning-a-view-versus-a-copy\n",
      "  dataset['Age'].iloc[i] = age_pred\n",
      "/tmp/ipykernel_17/1519918780.py:14: SettingWithCopyWarning: \n",
      "A value is trying to be set on a copy of a slice from a DataFrame\n",
      "\n",
      "See the caveats in the documentation: https://pandas.pydata.org/pandas-docs/stable/user_guide/indexing.html#returning-a-view-versus-a-copy\n",
      "  dataset['Age'].iloc[i] = age_pred\n",
      "/tmp/ipykernel_17/1519918780.py:14: SettingWithCopyWarning: \n",
      "A value is trying to be set on a copy of a slice from a DataFrame\n",
      "\n",
      "See the caveats in the documentation: https://pandas.pydata.org/pandas-docs/stable/user_guide/indexing.html#returning-a-view-versus-a-copy\n",
      "  dataset['Age'].iloc[i] = age_pred\n",
      "/tmp/ipykernel_17/1519918780.py:14: SettingWithCopyWarning: \n",
      "A value is trying to be set on a copy of a slice from a DataFrame\n",
      "\n",
      "See the caveats in the documentation: https://pandas.pydata.org/pandas-docs/stable/user_guide/indexing.html#returning-a-view-versus-a-copy\n",
      "  dataset['Age'].iloc[i] = age_pred\n",
      "/tmp/ipykernel_17/1519918780.py:14: SettingWithCopyWarning: \n",
      "A value is trying to be set on a copy of a slice from a DataFrame\n",
      "\n",
      "See the caveats in the documentation: https://pandas.pydata.org/pandas-docs/stable/user_guide/indexing.html#returning-a-view-versus-a-copy\n",
      "  dataset['Age'].iloc[i] = age_pred\n",
      "/tmp/ipykernel_17/1519918780.py:14: SettingWithCopyWarning: \n",
      "A value is trying to be set on a copy of a slice from a DataFrame\n",
      "\n",
      "See the caveats in the documentation: https://pandas.pydata.org/pandas-docs/stable/user_guide/indexing.html#returning-a-view-versus-a-copy\n",
      "  dataset['Age'].iloc[i] = age_pred\n",
      "/tmp/ipykernel_17/1519918780.py:14: SettingWithCopyWarning: \n",
      "A value is trying to be set on a copy of a slice from a DataFrame\n",
      "\n",
      "See the caveats in the documentation: https://pandas.pydata.org/pandas-docs/stable/user_guide/indexing.html#returning-a-view-versus-a-copy\n",
      "  dataset['Age'].iloc[i] = age_pred\n",
      "/tmp/ipykernel_17/1519918780.py:14: SettingWithCopyWarning: \n",
      "A value is trying to be set on a copy of a slice from a DataFrame\n",
      "\n",
      "See the caveats in the documentation: https://pandas.pydata.org/pandas-docs/stable/user_guide/indexing.html#returning-a-view-versus-a-copy\n",
      "  dataset['Age'].iloc[i] = age_pred\n",
      "/tmp/ipykernel_17/1519918780.py:14: SettingWithCopyWarning: \n",
      "A value is trying to be set on a copy of a slice from a DataFrame\n",
      "\n",
      "See the caveats in the documentation: https://pandas.pydata.org/pandas-docs/stable/user_guide/indexing.html#returning-a-view-versus-a-copy\n",
      "  dataset['Age'].iloc[i] = age_pred\n",
      "/tmp/ipykernel_17/1519918780.py:14: SettingWithCopyWarning: \n",
      "A value is trying to be set on a copy of a slice from a DataFrame\n",
      "\n",
      "See the caveats in the documentation: https://pandas.pydata.org/pandas-docs/stable/user_guide/indexing.html#returning-a-view-versus-a-copy\n",
      "  dataset['Age'].iloc[i] = age_pred\n",
      "/tmp/ipykernel_17/1519918780.py:14: SettingWithCopyWarning: \n",
      "A value is trying to be set on a copy of a slice from a DataFrame\n",
      "\n",
      "See the caveats in the documentation: https://pandas.pydata.org/pandas-docs/stable/user_guide/indexing.html#returning-a-view-versus-a-copy\n",
      "  dataset['Age'].iloc[i] = age_pred\n",
      "/tmp/ipykernel_17/1519918780.py:14: SettingWithCopyWarning: \n",
      "A value is trying to be set on a copy of a slice from a DataFrame\n",
      "\n",
      "See the caveats in the documentation: https://pandas.pydata.org/pandas-docs/stable/user_guide/indexing.html#returning-a-view-versus-a-copy\n",
      "  dataset['Age'].iloc[i] = age_pred\n",
      "/tmp/ipykernel_17/1519918780.py:14: SettingWithCopyWarning: \n",
      "A value is trying to be set on a copy of a slice from a DataFrame\n",
      "\n",
      "See the caveats in the documentation: https://pandas.pydata.org/pandas-docs/stable/user_guide/indexing.html#returning-a-view-versus-a-copy\n",
      "  dataset['Age'].iloc[i] = age_pred\n",
      "/tmp/ipykernel_17/1519918780.py:14: SettingWithCopyWarning: \n",
      "A value is trying to be set on a copy of a slice from a DataFrame\n",
      "\n",
      "See the caveats in the documentation: https://pandas.pydata.org/pandas-docs/stable/user_guide/indexing.html#returning-a-view-versus-a-copy\n",
      "  dataset['Age'].iloc[i] = age_pred\n",
      "/tmp/ipykernel_17/1519918780.py:14: SettingWithCopyWarning: \n",
      "A value is trying to be set on a copy of a slice from a DataFrame\n",
      "\n",
      "See the caveats in the documentation: https://pandas.pydata.org/pandas-docs/stable/user_guide/indexing.html#returning-a-view-versus-a-copy\n",
      "  dataset['Age'].iloc[i] = age_pred\n",
      "/tmp/ipykernel_17/1519918780.py:14: SettingWithCopyWarning: \n",
      "A value is trying to be set on a copy of a slice from a DataFrame\n",
      "\n",
      "See the caveats in the documentation: https://pandas.pydata.org/pandas-docs/stable/user_guide/indexing.html#returning-a-view-versus-a-copy\n",
      "  dataset['Age'].iloc[i] = age_pred\n",
      "/tmp/ipykernel_17/1519918780.py:14: SettingWithCopyWarning: \n",
      "A value is trying to be set on a copy of a slice from a DataFrame\n",
      "\n",
      "See the caveats in the documentation: https://pandas.pydata.org/pandas-docs/stable/user_guide/indexing.html#returning-a-view-versus-a-copy\n",
      "  dataset['Age'].iloc[i] = age_pred\n",
      "/tmp/ipykernel_17/1519918780.py:14: SettingWithCopyWarning: \n",
      "A value is trying to be set on a copy of a slice from a DataFrame\n",
      "\n",
      "See the caveats in the documentation: https://pandas.pydata.org/pandas-docs/stable/user_guide/indexing.html#returning-a-view-versus-a-copy\n",
      "  dataset['Age'].iloc[i] = age_pred\n",
      "/tmp/ipykernel_17/1519918780.py:14: SettingWithCopyWarning: \n",
      "A value is trying to be set on a copy of a slice from a DataFrame\n",
      "\n",
      "See the caveats in the documentation: https://pandas.pydata.org/pandas-docs/stable/user_guide/indexing.html#returning-a-view-versus-a-copy\n",
      "  dataset['Age'].iloc[i] = age_pred\n",
      "/tmp/ipykernel_17/1519918780.py:14: SettingWithCopyWarning: \n",
      "A value is trying to be set on a copy of a slice from a DataFrame\n",
      "\n",
      "See the caveats in the documentation: https://pandas.pydata.org/pandas-docs/stable/user_guide/indexing.html#returning-a-view-versus-a-copy\n",
      "  dataset['Age'].iloc[i] = age_pred\n",
      "/tmp/ipykernel_17/1519918780.py:14: SettingWithCopyWarning: \n",
      "A value is trying to be set on a copy of a slice from a DataFrame\n",
      "\n",
      "See the caveats in the documentation: https://pandas.pydata.org/pandas-docs/stable/user_guide/indexing.html#returning-a-view-versus-a-copy\n",
      "  dataset['Age'].iloc[i] = age_pred\n",
      "/tmp/ipykernel_17/1519918780.py:14: SettingWithCopyWarning: \n",
      "A value is trying to be set on a copy of a slice from a DataFrame\n",
      "\n",
      "See the caveats in the documentation: https://pandas.pydata.org/pandas-docs/stable/user_guide/indexing.html#returning-a-view-versus-a-copy\n",
      "  dataset['Age'].iloc[i] = age_pred\n",
      "/tmp/ipykernel_17/1519918780.py:14: SettingWithCopyWarning: \n",
      "A value is trying to be set on a copy of a slice from a DataFrame\n",
      "\n",
      "See the caveats in the documentation: https://pandas.pydata.org/pandas-docs/stable/user_guide/indexing.html#returning-a-view-versus-a-copy\n",
      "  dataset['Age'].iloc[i] = age_pred\n",
      "/tmp/ipykernel_17/1519918780.py:14: SettingWithCopyWarning: \n",
      "A value is trying to be set on a copy of a slice from a DataFrame\n",
      "\n",
      "See the caveats in the documentation: https://pandas.pydata.org/pandas-docs/stable/user_guide/indexing.html#returning-a-view-versus-a-copy\n",
      "  dataset['Age'].iloc[i] = age_pred\n",
      "/tmp/ipykernel_17/1519918780.py:14: SettingWithCopyWarning: \n",
      "A value is trying to be set on a copy of a slice from a DataFrame\n",
      "\n",
      "See the caveats in the documentation: https://pandas.pydata.org/pandas-docs/stable/user_guide/indexing.html#returning-a-view-versus-a-copy\n",
      "  dataset['Age'].iloc[i] = age_pred\n",
      "/tmp/ipykernel_17/1519918780.py:14: SettingWithCopyWarning: \n",
      "A value is trying to be set on a copy of a slice from a DataFrame\n",
      "\n",
      "See the caveats in the documentation: https://pandas.pydata.org/pandas-docs/stable/user_guide/indexing.html#returning-a-view-versus-a-copy\n",
      "  dataset['Age'].iloc[i] = age_pred\n",
      "/tmp/ipykernel_17/1519918780.py:14: SettingWithCopyWarning: \n",
      "A value is trying to be set on a copy of a slice from a DataFrame\n",
      "\n",
      "See the caveats in the documentation: https://pandas.pydata.org/pandas-docs/stable/user_guide/indexing.html#returning-a-view-versus-a-copy\n",
      "  dataset['Age'].iloc[i] = age_pred\n",
      "/tmp/ipykernel_17/1519918780.py:14: SettingWithCopyWarning: \n",
      "A value is trying to be set on a copy of a slice from a DataFrame\n",
      "\n",
      "See the caveats in the documentation: https://pandas.pydata.org/pandas-docs/stable/user_guide/indexing.html#returning-a-view-versus-a-copy\n",
      "  dataset['Age'].iloc[i] = age_pred\n",
      "/tmp/ipykernel_17/1519918780.py:14: SettingWithCopyWarning: \n",
      "A value is trying to be set on a copy of a slice from a DataFrame\n",
      "\n",
      "See the caveats in the documentation: https://pandas.pydata.org/pandas-docs/stable/user_guide/indexing.html#returning-a-view-versus-a-copy\n",
      "  dataset['Age'].iloc[i] = age_pred\n",
      "/tmp/ipykernel_17/1519918780.py:14: SettingWithCopyWarning: \n",
      "A value is trying to be set on a copy of a slice from a DataFrame\n",
      "\n",
      "See the caveats in the documentation: https://pandas.pydata.org/pandas-docs/stable/user_guide/indexing.html#returning-a-view-versus-a-copy\n",
      "  dataset['Age'].iloc[i] = age_pred\n",
      "/tmp/ipykernel_17/1519918780.py:14: SettingWithCopyWarning: \n",
      "A value is trying to be set on a copy of a slice from a DataFrame\n",
      "\n",
      "See the caveats in the documentation: https://pandas.pydata.org/pandas-docs/stable/user_guide/indexing.html#returning-a-view-versus-a-copy\n",
      "  dataset['Age'].iloc[i] = age_pred\n",
      "/tmp/ipykernel_17/1519918780.py:14: SettingWithCopyWarning: \n",
      "A value is trying to be set on a copy of a slice from a DataFrame\n",
      "\n",
      "See the caveats in the documentation: https://pandas.pydata.org/pandas-docs/stable/user_guide/indexing.html#returning-a-view-versus-a-copy\n",
      "  dataset['Age'].iloc[i] = age_pred\n",
      "/tmp/ipykernel_17/1519918780.py:14: SettingWithCopyWarning: \n",
      "A value is trying to be set on a copy of a slice from a DataFrame\n",
      "\n",
      "See the caveats in the documentation: https://pandas.pydata.org/pandas-docs/stable/user_guide/indexing.html#returning-a-view-versus-a-copy\n",
      "  dataset['Age'].iloc[i] = age_pred\n",
      "/tmp/ipykernel_17/1519918780.py:14: SettingWithCopyWarning: \n",
      "A value is trying to be set on a copy of a slice from a DataFrame\n",
      "\n",
      "See the caveats in the documentation: https://pandas.pydata.org/pandas-docs/stable/user_guide/indexing.html#returning-a-view-versus-a-copy\n",
      "  dataset['Age'].iloc[i] = age_pred\n",
      "/tmp/ipykernel_17/1519918780.py:14: SettingWithCopyWarning: \n",
      "A value is trying to be set on a copy of a slice from a DataFrame\n",
      "\n",
      "See the caveats in the documentation: https://pandas.pydata.org/pandas-docs/stable/user_guide/indexing.html#returning-a-view-versus-a-copy\n",
      "  dataset['Age'].iloc[i] = age_pred\n",
      "/tmp/ipykernel_17/1519918780.py:14: SettingWithCopyWarning: \n",
      "A value is trying to be set on a copy of a slice from a DataFrame\n",
      "\n",
      "See the caveats in the documentation: https://pandas.pydata.org/pandas-docs/stable/user_guide/indexing.html#returning-a-view-versus-a-copy\n",
      "  dataset['Age'].iloc[i] = age_pred\n",
      "/tmp/ipykernel_17/1519918780.py:14: SettingWithCopyWarning: \n",
      "A value is trying to be set on a copy of a slice from a DataFrame\n",
      "\n",
      "See the caveats in the documentation: https://pandas.pydata.org/pandas-docs/stable/user_guide/indexing.html#returning-a-view-versus-a-copy\n",
      "  dataset['Age'].iloc[i] = age_pred\n",
      "/tmp/ipykernel_17/1519918780.py:14: SettingWithCopyWarning: \n",
      "A value is trying to be set on a copy of a slice from a DataFrame\n",
      "\n",
      "See the caveats in the documentation: https://pandas.pydata.org/pandas-docs/stable/user_guide/indexing.html#returning-a-view-versus-a-copy\n",
      "  dataset['Age'].iloc[i] = age_pred\n",
      "/tmp/ipykernel_17/1519918780.py:14: SettingWithCopyWarning: \n",
      "A value is trying to be set on a copy of a slice from a DataFrame\n",
      "\n",
      "See the caveats in the documentation: https://pandas.pydata.org/pandas-docs/stable/user_guide/indexing.html#returning-a-view-versus-a-copy\n",
      "  dataset['Age'].iloc[i] = age_pred\n",
      "/tmp/ipykernel_17/1519918780.py:14: SettingWithCopyWarning: \n",
      "A value is trying to be set on a copy of a slice from a DataFrame\n",
      "\n",
      "See the caveats in the documentation: https://pandas.pydata.org/pandas-docs/stable/user_guide/indexing.html#returning-a-view-versus-a-copy\n",
      "  dataset['Age'].iloc[i] = age_pred\n",
      "/tmp/ipykernel_17/1519918780.py:14: SettingWithCopyWarning: \n",
      "A value is trying to be set on a copy of a slice from a DataFrame\n",
      "\n",
      "See the caveats in the documentation: https://pandas.pydata.org/pandas-docs/stable/user_guide/indexing.html#returning-a-view-versus-a-copy\n",
      "  dataset['Age'].iloc[i] = age_pred\n",
      "/tmp/ipykernel_17/1519918780.py:14: SettingWithCopyWarning: \n",
      "A value is trying to be set on a copy of a slice from a DataFrame\n",
      "\n",
      "See the caveats in the documentation: https://pandas.pydata.org/pandas-docs/stable/user_guide/indexing.html#returning-a-view-versus-a-copy\n",
      "  dataset['Age'].iloc[i] = age_pred\n",
      "/tmp/ipykernel_17/1519918780.py:14: SettingWithCopyWarning: \n",
      "A value is trying to be set on a copy of a slice from a DataFrame\n",
      "\n",
      "See the caveats in the documentation: https://pandas.pydata.org/pandas-docs/stable/user_guide/indexing.html#returning-a-view-versus-a-copy\n",
      "  dataset['Age'].iloc[i] = age_pred\n",
      "/tmp/ipykernel_17/1519918780.py:14: SettingWithCopyWarning: \n",
      "A value is trying to be set on a copy of a slice from a DataFrame\n",
      "\n",
      "See the caveats in the documentation: https://pandas.pydata.org/pandas-docs/stable/user_guide/indexing.html#returning-a-view-versus-a-copy\n",
      "  dataset['Age'].iloc[i] = age_pred\n",
      "/tmp/ipykernel_17/1519918780.py:14: SettingWithCopyWarning: \n",
      "A value is trying to be set on a copy of a slice from a DataFrame\n",
      "\n",
      "See the caveats in the documentation: https://pandas.pydata.org/pandas-docs/stable/user_guide/indexing.html#returning-a-view-versus-a-copy\n",
      "  dataset['Age'].iloc[i] = age_pred\n",
      "/tmp/ipykernel_17/1519918780.py:14: SettingWithCopyWarning: \n",
      "A value is trying to be set on a copy of a slice from a DataFrame\n",
      "\n",
      "See the caveats in the documentation: https://pandas.pydata.org/pandas-docs/stable/user_guide/indexing.html#returning-a-view-versus-a-copy\n",
      "  dataset['Age'].iloc[i] = age_pred\n",
      "/tmp/ipykernel_17/1519918780.py:14: SettingWithCopyWarning: \n",
      "A value is trying to be set on a copy of a slice from a DataFrame\n",
      "\n",
      "See the caveats in the documentation: https://pandas.pydata.org/pandas-docs/stable/user_guide/indexing.html#returning-a-view-versus-a-copy\n",
      "  dataset['Age'].iloc[i] = age_pred\n",
      "/tmp/ipykernel_17/1519918780.py:14: SettingWithCopyWarning: \n",
      "A value is trying to be set on a copy of a slice from a DataFrame\n",
      "\n",
      "See the caveats in the documentation: https://pandas.pydata.org/pandas-docs/stable/user_guide/indexing.html#returning-a-view-versus-a-copy\n",
      "  dataset['Age'].iloc[i] = age_pred\n",
      "/tmp/ipykernel_17/1519918780.py:14: SettingWithCopyWarning: \n",
      "A value is trying to be set on a copy of a slice from a DataFrame\n",
      "\n",
      "See the caveats in the documentation: https://pandas.pydata.org/pandas-docs/stable/user_guide/indexing.html#returning-a-view-versus-a-copy\n",
      "  dataset['Age'].iloc[i] = age_pred\n",
      "/tmp/ipykernel_17/1519918780.py:14: SettingWithCopyWarning: \n",
      "A value is trying to be set on a copy of a slice from a DataFrame\n",
      "\n",
      "See the caveats in the documentation: https://pandas.pydata.org/pandas-docs/stable/user_guide/indexing.html#returning-a-view-versus-a-copy\n",
      "  dataset['Age'].iloc[i] = age_pred\n",
      "/tmp/ipykernel_17/1519918780.py:14: SettingWithCopyWarning: \n",
      "A value is trying to be set on a copy of a slice from a DataFrame\n",
      "\n",
      "See the caveats in the documentation: https://pandas.pydata.org/pandas-docs/stable/user_guide/indexing.html#returning-a-view-versus-a-copy\n",
      "  dataset['Age'].iloc[i] = age_pred\n",
      "/tmp/ipykernel_17/1519918780.py:14: SettingWithCopyWarning: \n",
      "A value is trying to be set on a copy of a slice from a DataFrame\n",
      "\n",
      "See the caveats in the documentation: https://pandas.pydata.org/pandas-docs/stable/user_guide/indexing.html#returning-a-view-versus-a-copy\n",
      "  dataset['Age'].iloc[i] = age_pred\n",
      "/tmp/ipykernel_17/1519918780.py:14: SettingWithCopyWarning: \n",
      "A value is trying to be set on a copy of a slice from a DataFrame\n",
      "\n",
      "See the caveats in the documentation: https://pandas.pydata.org/pandas-docs/stable/user_guide/indexing.html#returning-a-view-versus-a-copy\n",
      "  dataset['Age'].iloc[i] = age_pred\n",
      "/tmp/ipykernel_17/1519918780.py:14: SettingWithCopyWarning: \n",
      "A value is trying to be set on a copy of a slice from a DataFrame\n",
      "\n",
      "See the caveats in the documentation: https://pandas.pydata.org/pandas-docs/stable/user_guide/indexing.html#returning-a-view-versus-a-copy\n",
      "  dataset['Age'].iloc[i] = age_pred\n",
      "/tmp/ipykernel_17/1519918780.py:14: SettingWithCopyWarning: \n",
      "A value is trying to be set on a copy of a slice from a DataFrame\n",
      "\n",
      "See the caveats in the documentation: https://pandas.pydata.org/pandas-docs/stable/user_guide/indexing.html#returning-a-view-versus-a-copy\n",
      "  dataset['Age'].iloc[i] = age_pred\n",
      "/tmp/ipykernel_17/1519918780.py:14: SettingWithCopyWarning: \n",
      "A value is trying to be set on a copy of a slice from a DataFrame\n",
      "\n",
      "See the caveats in the documentation: https://pandas.pydata.org/pandas-docs/stable/user_guide/indexing.html#returning-a-view-versus-a-copy\n",
      "  dataset['Age'].iloc[i] = age_pred\n",
      "/tmp/ipykernel_17/1519918780.py:14: SettingWithCopyWarning: \n",
      "A value is trying to be set on a copy of a slice from a DataFrame\n",
      "\n",
      "See the caveats in the documentation: https://pandas.pydata.org/pandas-docs/stable/user_guide/indexing.html#returning-a-view-versus-a-copy\n",
      "  dataset['Age'].iloc[i] = age_pred\n",
      "/tmp/ipykernel_17/1519918780.py:14: SettingWithCopyWarning: \n",
      "A value is trying to be set on a copy of a slice from a DataFrame\n",
      "\n",
      "See the caveats in the documentation: https://pandas.pydata.org/pandas-docs/stable/user_guide/indexing.html#returning-a-view-versus-a-copy\n",
      "  dataset['Age'].iloc[i] = age_pred\n",
      "/tmp/ipykernel_17/1519918780.py:14: SettingWithCopyWarning: \n",
      "A value is trying to be set on a copy of a slice from a DataFrame\n",
      "\n",
      "See the caveats in the documentation: https://pandas.pydata.org/pandas-docs/stable/user_guide/indexing.html#returning-a-view-versus-a-copy\n",
      "  dataset['Age'].iloc[i] = age_pred\n",
      "/tmp/ipykernel_17/1519918780.py:14: SettingWithCopyWarning: \n",
      "A value is trying to be set on a copy of a slice from a DataFrame\n",
      "\n",
      "See the caveats in the documentation: https://pandas.pydata.org/pandas-docs/stable/user_guide/indexing.html#returning-a-view-versus-a-copy\n",
      "  dataset['Age'].iloc[i] = age_pred\n",
      "/tmp/ipykernel_17/1519918780.py:14: SettingWithCopyWarning: \n",
      "A value is trying to be set on a copy of a slice from a DataFrame\n",
      "\n",
      "See the caveats in the documentation: https://pandas.pydata.org/pandas-docs/stable/user_guide/indexing.html#returning-a-view-versus-a-copy\n",
      "  dataset['Age'].iloc[i] = age_pred\n",
      "/tmp/ipykernel_17/1519918780.py:14: SettingWithCopyWarning: \n",
      "A value is trying to be set on a copy of a slice from a DataFrame\n",
      "\n",
      "See the caveats in the documentation: https://pandas.pydata.org/pandas-docs/stable/user_guide/indexing.html#returning-a-view-versus-a-copy\n",
      "  dataset['Age'].iloc[i] = age_pred\n",
      "/tmp/ipykernel_17/1519918780.py:14: SettingWithCopyWarning: \n",
      "A value is trying to be set on a copy of a slice from a DataFrame\n",
      "\n",
      "See the caveats in the documentation: https://pandas.pydata.org/pandas-docs/stable/user_guide/indexing.html#returning-a-view-versus-a-copy\n",
      "  dataset['Age'].iloc[i] = age_pred\n",
      "/tmp/ipykernel_17/1519918780.py:14: SettingWithCopyWarning: \n",
      "A value is trying to be set on a copy of a slice from a DataFrame\n",
      "\n",
      "See the caveats in the documentation: https://pandas.pydata.org/pandas-docs/stable/user_guide/indexing.html#returning-a-view-versus-a-copy\n",
      "  dataset['Age'].iloc[i] = age_pred\n",
      "/tmp/ipykernel_17/1519918780.py:14: SettingWithCopyWarning: \n",
      "A value is trying to be set on a copy of a slice from a DataFrame\n",
      "\n",
      "See the caveats in the documentation: https://pandas.pydata.org/pandas-docs/stable/user_guide/indexing.html#returning-a-view-versus-a-copy\n",
      "  dataset['Age'].iloc[i] = age_pred\n",
      "/tmp/ipykernel_17/1519918780.py:14: SettingWithCopyWarning: \n",
      "A value is trying to be set on a copy of a slice from a DataFrame\n",
      "\n",
      "See the caveats in the documentation: https://pandas.pydata.org/pandas-docs/stable/user_guide/indexing.html#returning-a-view-versus-a-copy\n",
      "  dataset['Age'].iloc[i] = age_pred\n",
      "/tmp/ipykernel_17/1519918780.py:14: SettingWithCopyWarning: \n",
      "A value is trying to be set on a copy of a slice from a DataFrame\n",
      "\n",
      "See the caveats in the documentation: https://pandas.pydata.org/pandas-docs/stable/user_guide/indexing.html#returning-a-view-versus-a-copy\n",
      "  dataset['Age'].iloc[i] = age_pred\n",
      "/tmp/ipykernel_17/1519918780.py:14: SettingWithCopyWarning: \n",
      "A value is trying to be set on a copy of a slice from a DataFrame\n",
      "\n",
      "See the caveats in the documentation: https://pandas.pydata.org/pandas-docs/stable/user_guide/indexing.html#returning-a-view-versus-a-copy\n",
      "  dataset['Age'].iloc[i] = age_pred\n",
      "/tmp/ipykernel_17/1519918780.py:14: SettingWithCopyWarning: \n",
      "A value is trying to be set on a copy of a slice from a DataFrame\n",
      "\n",
      "See the caveats in the documentation: https://pandas.pydata.org/pandas-docs/stable/user_guide/indexing.html#returning-a-view-versus-a-copy\n",
      "  dataset['Age'].iloc[i] = age_pred\n",
      "/tmp/ipykernel_17/1519918780.py:14: SettingWithCopyWarning: \n",
      "A value is trying to be set on a copy of a slice from a DataFrame\n",
      "\n",
      "See the caveats in the documentation: https://pandas.pydata.org/pandas-docs/stable/user_guide/indexing.html#returning-a-view-versus-a-copy\n",
      "  dataset['Age'].iloc[i] = age_pred\n",
      "/tmp/ipykernel_17/1519918780.py:14: SettingWithCopyWarning: \n",
      "A value is trying to be set on a copy of a slice from a DataFrame\n",
      "\n",
      "See the caveats in the documentation: https://pandas.pydata.org/pandas-docs/stable/user_guide/indexing.html#returning-a-view-versus-a-copy\n",
      "  dataset['Age'].iloc[i] = age_pred\n",
      "/tmp/ipykernel_17/1519918780.py:14: SettingWithCopyWarning: \n",
      "A value is trying to be set on a copy of a slice from a DataFrame\n",
      "\n",
      "See the caveats in the documentation: https://pandas.pydata.org/pandas-docs/stable/user_guide/indexing.html#returning-a-view-versus-a-copy\n",
      "  dataset['Age'].iloc[i] = age_pred\n",
      "/tmp/ipykernel_17/1519918780.py:14: SettingWithCopyWarning: \n",
      "A value is trying to be set on a copy of a slice from a DataFrame\n",
      "\n",
      "See the caveats in the documentation: https://pandas.pydata.org/pandas-docs/stable/user_guide/indexing.html#returning-a-view-versus-a-copy\n",
      "  dataset['Age'].iloc[i] = age_pred\n",
      "/tmp/ipykernel_17/1519918780.py:14: SettingWithCopyWarning: \n",
      "A value is trying to be set on a copy of a slice from a DataFrame\n",
      "\n",
      "See the caveats in the documentation: https://pandas.pydata.org/pandas-docs/stable/user_guide/indexing.html#returning-a-view-versus-a-copy\n",
      "  dataset['Age'].iloc[i] = age_pred\n",
      "/tmp/ipykernel_17/1519918780.py:14: SettingWithCopyWarning: \n",
      "A value is trying to be set on a copy of a slice from a DataFrame\n",
      "\n",
      "See the caveats in the documentation: https://pandas.pydata.org/pandas-docs/stable/user_guide/indexing.html#returning-a-view-versus-a-copy\n",
      "  dataset['Age'].iloc[i] = age_pred\n",
      "/tmp/ipykernel_17/1519918780.py:14: SettingWithCopyWarning: \n",
      "A value is trying to be set on a copy of a slice from a DataFrame\n",
      "\n",
      "See the caveats in the documentation: https://pandas.pydata.org/pandas-docs/stable/user_guide/indexing.html#returning-a-view-versus-a-copy\n",
      "  dataset['Age'].iloc[i] = age_pred\n",
      "/tmp/ipykernel_17/1519918780.py:14: SettingWithCopyWarning: \n",
      "A value is trying to be set on a copy of a slice from a DataFrame\n",
      "\n",
      "See the caveats in the documentation: https://pandas.pydata.org/pandas-docs/stable/user_guide/indexing.html#returning-a-view-versus-a-copy\n",
      "  dataset['Age'].iloc[i] = age_pred\n",
      "/tmp/ipykernel_17/1519918780.py:14: SettingWithCopyWarning: \n",
      "A value is trying to be set on a copy of a slice from a DataFrame\n",
      "\n",
      "See the caveats in the documentation: https://pandas.pydata.org/pandas-docs/stable/user_guide/indexing.html#returning-a-view-versus-a-copy\n",
      "  dataset['Age'].iloc[i] = age_pred\n",
      "/tmp/ipykernel_17/1519918780.py:14: SettingWithCopyWarning: \n",
      "A value is trying to be set on a copy of a slice from a DataFrame\n",
      "\n",
      "See the caveats in the documentation: https://pandas.pydata.org/pandas-docs/stable/user_guide/indexing.html#returning-a-view-versus-a-copy\n",
      "  dataset['Age'].iloc[i] = age_pred\n",
      "/tmp/ipykernel_17/1519918780.py:14: SettingWithCopyWarning: \n",
      "A value is trying to be set on a copy of a slice from a DataFrame\n",
      "\n",
      "See the caveats in the documentation: https://pandas.pydata.org/pandas-docs/stable/user_guide/indexing.html#returning-a-view-versus-a-copy\n",
      "  dataset['Age'].iloc[i] = age_pred\n",
      "/tmp/ipykernel_17/1519918780.py:14: SettingWithCopyWarning: \n",
      "A value is trying to be set on a copy of a slice from a DataFrame\n",
      "\n",
      "See the caveats in the documentation: https://pandas.pydata.org/pandas-docs/stable/user_guide/indexing.html#returning-a-view-versus-a-copy\n",
      "  dataset['Age'].iloc[i] = age_pred\n",
      "/tmp/ipykernel_17/1519918780.py:14: SettingWithCopyWarning: \n",
      "A value is trying to be set on a copy of a slice from a DataFrame\n",
      "\n",
      "See the caveats in the documentation: https://pandas.pydata.org/pandas-docs/stable/user_guide/indexing.html#returning-a-view-versus-a-copy\n",
      "  dataset['Age'].iloc[i] = age_pred\n",
      "/tmp/ipykernel_17/1519918780.py:14: SettingWithCopyWarning: \n",
      "A value is trying to be set on a copy of a slice from a DataFrame\n",
      "\n",
      "See the caveats in the documentation: https://pandas.pydata.org/pandas-docs/stable/user_guide/indexing.html#returning-a-view-versus-a-copy\n",
      "  dataset['Age'].iloc[i] = age_pred\n",
      "/tmp/ipykernel_17/1519918780.py:14: SettingWithCopyWarning: \n",
      "A value is trying to be set on a copy of a slice from a DataFrame\n",
      "\n",
      "See the caveats in the documentation: https://pandas.pydata.org/pandas-docs/stable/user_guide/indexing.html#returning-a-view-versus-a-copy\n",
      "  dataset['Age'].iloc[i] = age_pred\n",
      "/tmp/ipykernel_17/1519918780.py:14: SettingWithCopyWarning: \n",
      "A value is trying to be set on a copy of a slice from a DataFrame\n",
      "\n",
      "See the caveats in the documentation: https://pandas.pydata.org/pandas-docs/stable/user_guide/indexing.html#returning-a-view-versus-a-copy\n",
      "  dataset['Age'].iloc[i] = age_pred\n",
      "/tmp/ipykernel_17/1519918780.py:14: SettingWithCopyWarning: \n",
      "A value is trying to be set on a copy of a slice from a DataFrame\n",
      "\n",
      "See the caveats in the documentation: https://pandas.pydata.org/pandas-docs/stable/user_guide/indexing.html#returning-a-view-versus-a-copy\n",
      "  dataset['Age'].iloc[i] = age_pred\n",
      "/tmp/ipykernel_17/1519918780.py:14: SettingWithCopyWarning: \n",
      "A value is trying to be set on a copy of a slice from a DataFrame\n",
      "\n",
      "See the caveats in the documentation: https://pandas.pydata.org/pandas-docs/stable/user_guide/indexing.html#returning-a-view-versus-a-copy\n",
      "  dataset['Age'].iloc[i] = age_pred\n",
      "/tmp/ipykernel_17/1519918780.py:14: SettingWithCopyWarning: \n",
      "A value is trying to be set on a copy of a slice from a DataFrame\n",
      "\n",
      "See the caveats in the documentation: https://pandas.pydata.org/pandas-docs/stable/user_guide/indexing.html#returning-a-view-versus-a-copy\n",
      "  dataset['Age'].iloc[i] = age_pred\n",
      "/tmp/ipykernel_17/1519918780.py:14: SettingWithCopyWarning: \n",
      "A value is trying to be set on a copy of a slice from a DataFrame\n",
      "\n",
      "See the caveats in the documentation: https://pandas.pydata.org/pandas-docs/stable/user_guide/indexing.html#returning-a-view-versus-a-copy\n",
      "  dataset['Age'].iloc[i] = age_pred\n",
      "/tmp/ipykernel_17/1519918780.py:14: SettingWithCopyWarning: \n",
      "A value is trying to be set on a copy of a slice from a DataFrame\n",
      "\n",
      "See the caveats in the documentation: https://pandas.pydata.org/pandas-docs/stable/user_guide/indexing.html#returning-a-view-versus-a-copy\n",
      "  dataset['Age'].iloc[i] = age_pred\n",
      "/opt/conda/lib/python3.10/site-packages/numpy/lib/nanfunctions.py:1215: RuntimeWarning: Mean of empty slice\n",
      "  return np.nanmean(a, axis, out=out, keepdims=keepdims)\n",
      "/tmp/ipykernel_17/1519918780.py:16: SettingWithCopyWarning: \n",
      "A value is trying to be set on a copy of a slice from a DataFrame\n",
      "\n",
      "See the caveats in the documentation: https://pandas.pydata.org/pandas-docs/stable/user_guide/indexing.html#returning-a-view-versus-a-copy\n",
      "  dataset['Age'].iloc[i] = age_med\n",
      "/tmp/ipykernel_17/1519918780.py:14: SettingWithCopyWarning: \n",
      "A value is trying to be set on a copy of a slice from a DataFrame\n",
      "\n",
      "See the caveats in the documentation: https://pandas.pydata.org/pandas-docs/stable/user_guide/indexing.html#returning-a-view-versus-a-copy\n",
      "  dataset['Age'].iloc[i] = age_pred\n",
      "/tmp/ipykernel_17/1519918780.py:14: SettingWithCopyWarning: \n",
      "A value is trying to be set on a copy of a slice from a DataFrame\n",
      "\n",
      "See the caveats in the documentation: https://pandas.pydata.org/pandas-docs/stable/user_guide/indexing.html#returning-a-view-versus-a-copy\n",
      "  dataset['Age'].iloc[i] = age_pred\n",
      "/tmp/ipykernel_17/1519918780.py:14: SettingWithCopyWarning: \n",
      "A value is trying to be set on a copy of a slice from a DataFrame\n",
      "\n",
      "See the caveats in the documentation: https://pandas.pydata.org/pandas-docs/stable/user_guide/indexing.html#returning-a-view-versus-a-copy\n",
      "  dataset['Age'].iloc[i] = age_pred\n",
      "/tmp/ipykernel_17/1519918780.py:14: SettingWithCopyWarning: \n",
      "A value is trying to be set on a copy of a slice from a DataFrame\n",
      "\n",
      "See the caveats in the documentation: https://pandas.pydata.org/pandas-docs/stable/user_guide/indexing.html#returning-a-view-versus-a-copy\n",
      "  dataset['Age'].iloc[i] = age_pred\n",
      "/tmp/ipykernel_17/1519918780.py:14: SettingWithCopyWarning: \n",
      "A value is trying to be set on a copy of a slice from a DataFrame\n",
      "\n",
      "See the caveats in the documentation: https://pandas.pydata.org/pandas-docs/stable/user_guide/indexing.html#returning-a-view-versus-a-copy\n",
      "  dataset['Age'].iloc[i] = age_pred\n",
      "/tmp/ipykernel_17/1519918780.py:14: SettingWithCopyWarning: \n",
      "A value is trying to be set on a copy of a slice from a DataFrame\n",
      "\n",
      "See the caveats in the documentation: https://pandas.pydata.org/pandas-docs/stable/user_guide/indexing.html#returning-a-view-versus-a-copy\n",
      "  dataset['Age'].iloc[i] = age_pred\n",
      "/tmp/ipykernel_17/1519918780.py:14: SettingWithCopyWarning: \n",
      "A value is trying to be set on a copy of a slice from a DataFrame\n",
      "\n",
      "See the caveats in the documentation: https://pandas.pydata.org/pandas-docs/stable/user_guide/indexing.html#returning-a-view-versus-a-copy\n",
      "  dataset['Age'].iloc[i] = age_pred\n",
      "/tmp/ipykernel_17/1519918780.py:14: SettingWithCopyWarning: \n",
      "A value is trying to be set on a copy of a slice from a DataFrame\n",
      "\n",
      "See the caveats in the documentation: https://pandas.pydata.org/pandas-docs/stable/user_guide/indexing.html#returning-a-view-versus-a-copy\n",
      "  dataset['Age'].iloc[i] = age_pred\n",
      "/tmp/ipykernel_17/1519918780.py:14: SettingWithCopyWarning: \n",
      "A value is trying to be set on a copy of a slice from a DataFrame\n",
      "\n",
      "See the caveats in the documentation: https://pandas.pydata.org/pandas-docs/stable/user_guide/indexing.html#returning-a-view-versus-a-copy\n",
      "  dataset['Age'].iloc[i] = age_pred\n",
      "/tmp/ipykernel_17/1519918780.py:14: SettingWithCopyWarning: \n",
      "A value is trying to be set on a copy of a slice from a DataFrame\n",
      "\n",
      "See the caveats in the documentation: https://pandas.pydata.org/pandas-docs/stable/user_guide/indexing.html#returning-a-view-versus-a-copy\n",
      "  dataset['Age'].iloc[i] = age_pred\n",
      "/tmp/ipykernel_17/1519918780.py:14: SettingWithCopyWarning: \n",
      "A value is trying to be set on a copy of a slice from a DataFrame\n",
      "\n",
      "See the caveats in the documentation: https://pandas.pydata.org/pandas-docs/stable/user_guide/indexing.html#returning-a-view-versus-a-copy\n",
      "  dataset['Age'].iloc[i] = age_pred\n",
      "/tmp/ipykernel_17/1519918780.py:14: SettingWithCopyWarning: \n",
      "A value is trying to be set on a copy of a slice from a DataFrame\n",
      "\n",
      "See the caveats in the documentation: https://pandas.pydata.org/pandas-docs/stable/user_guide/indexing.html#returning-a-view-versus-a-copy\n",
      "  dataset['Age'].iloc[i] = age_pred\n",
      "/tmp/ipykernel_17/1519918780.py:14: SettingWithCopyWarning: \n",
      "A value is trying to be set on a copy of a slice from a DataFrame\n",
      "\n",
      "See the caveats in the documentation: https://pandas.pydata.org/pandas-docs/stable/user_guide/indexing.html#returning-a-view-versus-a-copy\n",
      "  dataset['Age'].iloc[i] = age_pred\n"
     ]
    }
   ],
   "source": [
    "# filling missing value of Age\n",
    "\n",
    "## Fill Age with the median age of similar rows according to Pclass, Parch and SibSp\n",
    "\n",
    "# Index of NaN age rows\n",
    "index_NaN_age = list(dataset[\"Age\"][dataset[\"Age\"].isnull()].index)\n",
    "\n",
    "for i in index_NaN_age :\n",
    "    age_med = dataset[\"Age\"].median()\n",
    "    age_pred = dataset[\"Age\"][((dataset['SibSp'] == dataset.iloc[i][\"SibSp\"])&\n",
    "                              (dataset[\"Parch\"] == dataset.iloc[i][\"Parch\"]) &\n",
    "                              (dataset[\"Pclass\"] == dataset.iloc[i][\"Pclass\"]))].median()\n",
    "    if not np.isnan(age_pred):\n",
    "        dataset['Age'].iloc[i] = age_pred\n",
    "    else:\n",
    "        dataset['Age'].iloc[i] = age_med"
   ]
  },
  {
   "cell_type": "code",
   "execution_count": 35,
   "id": "51d3d658",
   "metadata": {
    "execution": {
     "iopub.execute_input": "2024-11-28T08:55:44.501072Z",
     "iopub.status.busy": "2024-11-28T08:55:44.500677Z",
     "iopub.status.idle": "2024-11-28T08:55:45.679275Z",
     "shell.execute_reply": "2024-11-28T08:55:45.678076Z"
    },
    "papermill": {
     "duration": 1.21253,
     "end_time": "2024-11-28T08:55:45.682845",
     "exception": false,
     "start_time": "2024-11-28T08:55:44.470315",
     "status": "completed"
    },
    "tags": []
   },
   "outputs": [
    {
     "data": {
      "image/png": "[encoded data removed]",
      "text/plain": [
       "<Figure size 500x500 with 1 Axes>"
      ]
     },
     "metadata": {},
     "output_type": "display_data"
    },
    {
     "data": {
      "image/png": "[encoded data removed]",
      "text/plain": [
       "<Figure size 500x500 with 1 Axes>"
      ]
     },
     "metadata": {},
     "output_type": "display_data"
    }
   ],
   "source": [
    "g = sns.catplot(x=\"Survived\", y =\"Age\",data=train,kind=\"box\")\n",
    "\n",
    "g = sns.catplot(x=\"Survived\",y=\"Age\",data=train,kind=\"violin\")"
   ]
  },
  {
   "cell_type": "markdown",
   "id": "fb769e8d",
   "metadata": {
    "papermill": {
     "duration": 0.02891,
     "end_time": "2024-11-28T08:55:45.740485",
     "exception": false,
     "start_time": "2024-11-28T08:55:45.711575",
     "status": "completed"
    },
    "tags": []
   },
   "source": [
    "- 생존한 하위 모집단과 생존하지 못한 하위 모집단의 연령 중앙값 사이에는 차이가 없는 것으로 보임.\n",
    "- 바이올린 플롯에서 보았을때는 연령이 아주 어린 탑승객의 생존률이 더 높은 것으로 보임."
   ]
  },
  {
   "cell_type": "markdown",
   "id": "9c30929d",
   "metadata": {
    "papermill": {
     "duration": 0.027755,
     "end_time": "2024-11-28T08:55:45.798313",
     "exception": false,
     "start_time": "2024-11-28T08:55:45.770558",
     "status": "completed"
    },
    "tags": []
   },
   "source": [
    "# 5. Feature engineering"
   ]
  },
  {
   "cell_type": "markdown",
   "id": "ed20db46",
   "metadata": {
    "papermill": {
     "duration": 0.028853,
     "end_time": "2024-11-28T08:55:45.855822",
     "exception": false,
     "start_time": "2024-11-28T08:55:45.826969",
     "status": "completed"
    },
    "tags": []
   },
   "source": [
    "## 5-1. Name/Title"
   ]
  },
  {
   "cell_type": "code",
   "execution_count": 36,
   "id": "18b0831d",
   "metadata": {
    "execution": {
     "iopub.execute_input": "2024-11-28T08:55:45.919834Z",
     "iopub.status.busy": "2024-11-28T08:55:45.919354Z",
     "iopub.status.idle": "2024-11-28T08:55:45.928199Z",
     "shell.execute_reply": "2024-11-28T08:55:45.926916Z"
    },
    "papermill": {
     "duration": 0.043867,
     "end_time": "2024-11-28T08:55:45.930408",
     "exception": false,
     "start_time": "2024-11-28T08:55:45.886541",
     "status": "completed"
    },
    "tags": []
   },
   "outputs": [
    {
     "data": {
      "text/plain": [
       "0                              Braund, Mr. Owen Harris\n",
       "1    Cumings, Mrs. John Bradley (Florence Briggs Th...\n",
       "2                               Heikkinen, Miss. Laina\n",
       "3         Futrelle, Mrs. Jacques Heath (Lily May Peel)\n",
       "4                             Allen, Mr. William Henry\n",
       "Name: Name, dtype: object"
      ]
     },
     "execution_count": 36,
     "metadata": {},
     "output_type": "execute_result"
    }
   ],
   "source": [
    "dataset['Name'].head()"
   ]
  },
  {
   "cell_type": "markdown",
   "id": "0b1c49e9",
   "metadata": {
    "papermill": {
     "duration": 0.029322,
     "end_time": "2024-11-28T08:55:45.988740",
     "exception": false,
     "start_time": "2024-11-28T08:55:45.959418",
     "status": "completed"
    },
    "tags": []
   },
   "source": [
    "- 이름에는 승객의 직함에 대한 정보가 포함되어있음\n",
    "- 구조 시 특정 직함이 우선 구조가 될 가능성이 있으므로 직함을 모델에 포함시키도록함."
   ]
  },
  {
   "cell_type": "code",
   "execution_count": 37,
   "id": "94fb4f48",
   "metadata": {
    "execution": {
     "iopub.execute_input": "2024-11-28T08:55:46.048542Z",
     "iopub.status.busy": "2024-11-28T08:55:46.048107Z",
     "iopub.status.idle": "2024-11-28T08:55:46.059108Z",
     "shell.execute_reply": "2024-11-28T08:55:46.058021Z"
    },
    "papermill": {
     "duration": 0.043179,
     "end_time": "2024-11-28T08:55:46.061375",
     "exception": false,
     "start_time": "2024-11-28T08:55:46.018196",
     "status": "completed"
    },
    "tags": []
   },
   "outputs": [
    {
     "data": {
      "text/plain": [
       "0      Mr\n",
       "1     Mrs\n",
       "2    Miss\n",
       "3     Mrs\n",
       "4      Mr\n",
       "Name: Title, dtype: object"
      ]
     },
     "execution_count": 37,
     "metadata": {},
     "output_type": "execute_result"
    }
   ],
   "source": [
    "# Get Title from Name\n",
    "dataset_title = [i.split(\",\")[1].split(\".\")[0].strip() for i in dataset[\"Name\"]]\n",
    "dataset[\"Title\"] = pd.Series(dataset_title)\n",
    "dataset[\"Title\"].head()"
   ]
  },
  {
   "cell_type": "code",
   "execution_count": 38,
   "id": "08d4cfc0",
   "metadata": {
    "execution": {
     "iopub.execute_input": "2024-11-28T08:55:46.122643Z",
     "iopub.status.busy": "2024-11-28T08:55:46.122233Z",
     "iopub.status.idle": "2024-11-28T08:55:46.589853Z",
     "shell.execute_reply": "2024-11-28T08:55:46.588471Z"
    },
    "papermill": {
     "duration": 0.500169,
     "end_time": "2024-11-28T08:55:46.592436",
     "exception": false,
     "start_time": "2024-11-28T08:55:46.092267",
     "status": "completed"
    },
    "tags": []
   },
   "outputs": [
    {
     "data": {
      "image/png": "[encoded data removed]",
      "text/plain": [
       "<Figure size 640x480 with 1 Axes>"
      ]
     },
     "metadata": {},
     "output_type": "display_data"
    }
   ],
   "source": [
    "g = sns.countplot(x=\"Title\",data=dataset)\n",
    "g = plt.setp(g.get_xticklabels(),rotation=45)"
   ]
  },
  {
   "cell_type": "markdown",
   "id": "e0369400",
   "metadata": {
    "papermill": {
     "duration": 0.030687,
     "end_time": "2024-11-28T08:55:46.654324",
     "exception": false,
     "start_time": "2024-11-28T08:55:46.623637",
     "status": "completed"
    },
    "tags": []
   },
   "source": [
    "- 총 17개의 카테고리가 있으며 4개를 제외하고는 매우 드물게 나타나기 때문에 4개의 그룹으로 범주화 할 수 있음."
   ]
  },
  {
   "cell_type": "code",
   "execution_count": 39,
   "id": "bc4b5f31",
   "metadata": {
    "execution": {
     "iopub.execute_input": "2024-11-28T08:55:46.716226Z",
     "iopub.status.busy": "2024-11-28T08:55:46.715430Z",
     "iopub.status.idle": "2024-11-28T08:55:46.723715Z",
     "shell.execute_reply": "2024-11-28T08:55:46.722565Z"
    },
    "papermill": {
     "duration": 0.042089,
     "end_time": "2024-11-28T08:55:46.726182",
     "exception": false,
     "start_time": "2024-11-28T08:55:46.684093",
     "status": "completed"
    },
    "tags": []
   },
   "outputs": [
    {
     "data": {
      "text/plain": [
       "array(['Mr', 'Mrs', 'Miss', 'Master', 'Don', 'Rev', 'Dr', 'Mme', 'Ms',\n",
       "       'Major', 'Lady', 'Sir', 'Mlle', 'Col', 'Capt', 'the Countess',\n",
       "       'Jonkheer', 'Dona'], dtype=object)"
      ]
     },
     "execution_count": 39,
     "metadata": {},
     "output_type": "execute_result"
    }
   ],
   "source": [
    "dataset['Title'].unique()"
   ]
  },
  {
   "cell_type": "code",
   "execution_count": 40,
   "id": "9f0b911c",
   "metadata": {
    "execution": {
     "iopub.execute_input": "2024-11-28T08:55:46.787033Z",
     "iopub.status.busy": "2024-11-28T08:55:46.786658Z",
     "iopub.status.idle": "2024-11-28T08:55:46.798685Z",
     "shell.execute_reply": "2024-11-28T08:55:46.797234Z"
    },
    "papermill": {
     "duration": 0.045184,
     "end_time": "2024-11-28T08:55:46.801199",
     "exception": false,
     "start_time": "2024-11-28T08:55:46.756015",
     "status": "completed"
    },
    "tags": []
   },
   "outputs": [],
   "source": [
    "# Convert to categorical values Title \n",
    "dataset[\"Title\"] = dataset[\"Title\"].replace(['Lady', 'the Countess','Countess',\n",
    "                                             'Capt', 'Col','Don', 'Dr', 'Major', \n",
    "                                             'Rev', 'Sir', 'Jonkheer', 'Dona'],\n",
    "                                             'Rare')\n",
    "dataset[\"Title\"] = dataset[\"Title\"].map({\"Master\":0, \"Miss\":1, \"Ms\" : 1 ,\n",
    "                                         \"Mme\":1, \"Mlle\":1, \"Mrs\":1, \"Mr\":2, \n",
    "                                         \"Rare\":3})\n",
    "dataset[\"Title\"] = dataset[\"Title\"].astype(int)"
   ]
  },
  {
   "cell_type": "code",
   "execution_count": 41,
   "id": "e220b0d5",
   "metadata": {
    "execution": {
     "iopub.execute_input": "2024-11-28T08:55:46.866916Z",
     "iopub.status.busy": "2024-11-28T08:55:46.866464Z",
     "iopub.status.idle": "2024-11-28T08:55:46.880018Z",
     "shell.execute_reply": "2024-11-28T08:55:46.878612Z"
    },
    "papermill": {
     "duration": 0.04993,
     "end_time": "2024-11-28T08:55:46.882655",
     "exception": false,
     "start_time": "2024-11-28T08:55:46.832725",
     "status": "completed"
    },
    "tags": []
   },
   "outputs": [
    {
     "data": {
      "text/plain": [
       "Title\n",
       "2    753\n",
       "1    457\n",
       "0     60\n",
       "3     29\n",
       "Name: count, dtype: int64"
      ]
     },
     "execution_count": 41,
     "metadata": {},
     "output_type": "execute_result"
    }
   ],
   "source": [
    "dataset['Title'].value_counts()"
   ]
  },
  {
   "cell_type": "code",
   "execution_count": 42,
   "id": "cc6aa70f",
   "metadata": {
    "execution": {
     "iopub.execute_input": "2024-11-28T08:55:46.948230Z",
     "iopub.status.busy": "2024-11-28T08:55:46.947813Z",
     "iopub.status.idle": "2024-11-28T08:55:47.235529Z",
     "shell.execute_reply": "2024-11-28T08:55:47.234335Z"
    },
    "papermill": {
     "duration": 0.322929,
     "end_time": "2024-11-28T08:55:47.238000",
     "exception": false,
     "start_time": "2024-11-28T08:55:46.915071",
     "status": "completed"
    },
    "tags": []
   },
   "outputs": [
    {
     "data": {
      "text/plain": [
       "[Text(0, 0, 'Master'),\n",
       " Text(1, 0, 'Miss/Ms/Mme/Mlle/Mrs'),\n",
       " Text(2, 0, 'Mr'),\n",
       " Text(3, 0, 'Rare')]"
      ]
     },
     "execution_count": 42,
     "metadata": {},
     "output_type": "execute_result"
    },
    {
     "data": {
      "image/png": "[encoded data removed]",
      "text/plain": [
       "<Figure size 640x480 with 1 Axes>"
      ]
     },
     "metadata": {},
     "output_type": "display_data"
    }
   ],
   "source": [
    "g= sns.countplot(x = dataset[\"Title\"])\n",
    "g.set_xticklabels([\"Master\",\"Miss/Ms/Mme/Mlle/Mrs\",\"Mr\",\"Rare\"])"
   ]
  },
  {
   "cell_type": "code",
   "execution_count": 43,
   "id": "212f7766",
   "metadata": {
    "execution": {
     "iopub.execute_input": "2024-11-28T08:55:47.301614Z",
     "iopub.status.busy": "2024-11-28T08:55:47.301157Z",
     "iopub.status.idle": "2024-11-28T08:55:47.855810Z",
     "shell.execute_reply": "2024-11-28T08:55:47.854618Z"
    },
    "papermill": {
     "duration": 0.590123,
     "end_time": "2024-11-28T08:55:47.858223",
     "exception": false,
     "start_time": "2024-11-28T08:55:47.268100",
     "status": "completed"
    },
    "tags": []
   },
   "outputs": [
    {
     "data": {
      "image/png": "[encoded data removed]",
      "text/plain": [
       "<Figure size 500x500 with 1 Axes>"
      ]
     },
     "metadata": {},
     "output_type": "display_data"
    }
   ],
   "source": [
    "g = sns.catplot(x=\"Title\",y=\"Survived\",data=dataset,kind=\"bar\")\n",
    "g = g.set_xticklabels([\"Master\",\"Miss-Mrs\",\"Mr\",\"Rare\"])\n",
    "g = g.set_ylabels(\"Survival Probability\")"
   ]
  },
  {
   "cell_type": "markdown",
   "id": "c1b812d6",
   "metadata": {
    "papermill": {
     "duration": 0.031287,
     "end_time": "2024-11-28T08:55:47.921398",
     "exception": false,
     "start_time": "2024-11-28T08:55:47.890111",
     "status": "completed"
    },
    "tags": []
   },
   "source": [
    "- 희귀한 타이틀을 가진 승객이 생존율이 높은점이 흥미로움."
   ]
  },
  {
   "cell_type": "code",
   "execution_count": 44,
   "id": "868057df",
   "metadata": {
    "execution": {
     "iopub.execute_input": "2024-11-28T08:55:47.985363Z",
     "iopub.status.busy": "2024-11-28T08:55:47.984971Z",
     "iopub.status.idle": "2024-11-28T08:55:47.991673Z",
     "shell.execute_reply": "2024-11-28T08:55:47.990490Z"
    },
    "papermill": {
     "duration": 0.041729,
     "end_time": "2024-11-28T08:55:47.994157",
     "exception": false,
     "start_time": "2024-11-28T08:55:47.952428",
     "status": "completed"
    },
    "tags": []
   },
   "outputs": [],
   "source": [
    "# Drop Name variable\n",
    "dataset.drop(labels = [\"Name\"],axis=1,inplace=True)"
   ]
  },
  {
   "cell_type": "markdown",
   "id": "e750c786",
   "metadata": {
    "papermill": {
     "duration": 0.031737,
     "end_time": "2024-11-28T08:55:48.056599",
     "exception": false,
     "start_time": "2024-11-28T08:55:48.024862",
     "status": "completed"
    },
    "tags": []
   },
   "source": [
    "## 5-2. Family Size\n",
    "- 대가족의 경우 그들의 형제/자매/부모를 찾는 동안 구조가 늦어질 수 있다는 점을 예상해볼 수 있음.\n",
    "- Fsize(Family Size)라는 특성을 SibSp, Parch을 사용해서 만들기로 함."
   ]
  },
  {
   "cell_type": "code",
   "execution_count": 45,
   "id": "77e296a5",
   "metadata": {
    "execution": {
     "iopub.execute_input": "2024-11-28T08:55:48.126718Z",
     "iopub.status.busy": "2024-11-28T08:55:48.126303Z",
     "iopub.status.idle": "2024-11-28T08:55:48.132728Z",
     "shell.execute_reply": "2024-11-28T08:55:48.131461Z"
    },
    "papermill": {
     "duration": 0.041915,
     "end_time": "2024-11-28T08:55:48.135067",
     "exception": false,
     "start_time": "2024-11-28T08:55:48.093152",
     "status": "completed"
    },
    "tags": []
   },
   "outputs": [],
   "source": [
    "# Create a family size descriptor from SibSp and Parch\n",
    "\n",
    "dataset[\"Fsize\"] = dataset[\"SibSp\"] + dataset[\"Parch\"] + 1"
   ]
  },
  {
   "cell_type": "code",
   "execution_count": 46,
   "id": "785972ae",
   "metadata": {
    "execution": {
     "iopub.execute_input": "2024-11-28T08:55:48.199266Z",
     "iopub.status.busy": "2024-11-28T08:55:48.198820Z",
     "iopub.status.idle": "2024-11-28T08:55:48.990240Z",
     "shell.execute_reply": "2024-11-28T08:55:48.988984Z"
    },
    "papermill": {
     "duration": 0.826715,
     "end_time": "2024-11-28T08:55:48.992881",
     "exception": false,
     "start_time": "2024-11-28T08:55:48.166166",
     "status": "completed"
    },
    "tags": []
   },
   "outputs": [
    {
     "name": "stderr",
     "output_type": "stream",
     "text": [
      "/opt/conda/lib/python3.10/site-packages/seaborn/algorithms.py:98: RuntimeWarning: Mean of empty slice\n",
      "  boot_dist.append(f(*sample, **func_kwargs))\n",
      "/opt/conda/lib/python3.10/site-packages/numpy/lib/nanfunctions.py:1384: RuntimeWarning: All-NaN slice encountered\n",
      "  return _nanquantile_unchecked(\n"
     ]
    },
    {
     "data": {
      "image/png": "[encoded data removed]",
      "text/plain": [
       "<Figure size 500x500 with 1 Axes>"
      ]
     },
     "metadata": {},
     "output_type": "display_data"
    }
   ],
   "source": [
    "g = sns.catplot(x=\"Fsize\",y=\"Survived\",data=dataset,kind = \"point\")\n",
    "g = g.set_ylabels(\"Survival Probability\")"
   ]
  },
  {
   "cell_type": "markdown",
   "id": "187af85f",
   "metadata": {
    "papermill": {
     "duration": 0.035884,
     "end_time": "2024-11-28T08:55:49.060203",
     "exception": false,
     "start_time": "2024-11-28T08:55:49.024319",
     "status": "completed"
    },
    "tags": []
   },
   "source": [
    "- Family Size는 중요한 역할을 하는 것으로 보임. 대가족의 경우 생존확률이 최악임.\n",
    "- Family Size를 4가지 범주로 범주화."
   ]
  },
  {
   "cell_type": "code",
   "execution_count": 47,
   "id": "773a7865",
   "metadata": {
    "execution": {
     "iopub.execute_input": "2024-11-28T08:55:49.131081Z",
     "iopub.status.busy": "2024-11-28T08:55:49.130682Z",
     "iopub.status.idle": "2024-11-28T08:55:49.143395Z",
     "shell.execute_reply": "2024-11-28T08:55:49.142144Z"
    },
    "papermill": {
     "duration": 0.052114,
     "end_time": "2024-11-28T08:55:49.146176",
     "exception": false,
     "start_time": "2024-11-28T08:55:49.094062",
     "status": "completed"
    },
    "tags": []
   },
   "outputs": [],
   "source": [
    "# Create new feature of family size\n",
    "dataset['Single'] = dataset['Fsize'].map(lambda s: 1 if s == 1 else 0)\n",
    "dataset['SmallF'] = dataset['Fsize'].map(lambda s: 1 if s == 2 else 0)\n",
    "dataset['MedF'] = dataset['Fsize'].map(lambda s: 1 if 3<= s <=4 else 0)\n",
    "dataset['LargeF'] = dataset['Fsize'].map(lambda s: 1 if s>=5  else 0)"
   ]
  },
  {
   "cell_type": "code",
   "execution_count": 48,
   "id": "12029454",
   "metadata": {
    "execution": {
     "iopub.execute_input": "2024-11-28T08:55:49.212403Z",
     "iopub.status.busy": "2024-11-28T08:55:49.212052Z",
     "iopub.status.idle": "2024-11-28T08:55:51.361536Z",
     "shell.execute_reply": "2024-11-28T08:55:51.360268Z"
    },
    "papermill": {
     "duration": 2.184177,
     "end_time": "2024-11-28T08:55:51.363832",
     "exception": false,
     "start_time": "2024-11-28T08:55:49.179655",
     "status": "completed"
    },
    "tags": []
   },
   "outputs": [
    {
     "data": {
      "image/png": "[encoded data removed]",
      "text/plain": [
       "<Figure size 500x500 with 1 Axes>"
      ]
     },
     "metadata": {},
     "output_type": "display_data"
    },
    {
     "data": {
      "image/png": "[encoded data removed]",
      "text/plain": [
       "<Figure size 500x500 with 1 Axes>"
      ]
     },
     "metadata": {},
     "output_type": "display_data"
    },
    {
     "data": {
      "image/png": "[encoded data removed]",
      "text/plain": [
       "<Figure size 500x500 with 1 Axes>"
      ]
     },
     "metadata": {},
     "output_type": "display_data"
    },
    {
     "data": {
      "image/png": "[encoded data removed]",
      "text/plain": [
       "<Figure size 500x500 with 1 Axes>"
      ]
     },
     "metadata": {},
     "output_type": "display_data"
    }
   ],
   "source": [
    "g = sns.catplot(x=\"Single\",y=\"Survived\",data=dataset,kind=\"bar\")\n",
    "g = g.set_ylabels(\"Survival Probability\")\n",
    "g = sns.catplot(x=\"SmallF\",y=\"Survived\",data=dataset,kind=\"bar\")\n",
    "g = g.set_ylabels(\"Survival Probability\")\n",
    "g = sns.catplot(x=\"MedF\",y=\"Survived\",data=dataset,kind=\"bar\")\n",
    "g = g.set_ylabels(\"Survival Probability\")\n",
    "g = sns.catplot(x=\"LargeF\",y=\"Survived\",data=dataset,kind=\"bar\")\n",
    "g = g.set_ylabels(\"Survival Probability\")"
   ]
  },
  {
   "cell_type": "markdown",
   "id": "895f9852",
   "metadata": {
    "papermill": {
     "duration": 0.032854,
     "end_time": "2024-11-28T08:55:51.433333",
     "exception": false,
     "start_time": "2024-11-28T08:55:51.400479",
     "status": "completed"
    },
    "tags": []
   },
   "source": [
    "- 중.소형 가정이 1인가족 혹은 대가족보다 생존확률이 높은 것으로 보임."
   ]
  },
  {
   "cell_type": "code",
   "execution_count": 49,
   "id": "c34e5357",
   "metadata": {
    "execution": {
     "iopub.execute_input": "2024-11-28T08:55:51.502183Z",
     "iopub.status.busy": "2024-11-28T08:55:51.501659Z",
     "iopub.status.idle": "2024-11-28T08:55:51.515868Z",
     "shell.execute_reply": "2024-11-28T08:55:51.514490Z"
    },
    "papermill": {
     "duration": 0.051783,
     "end_time": "2024-11-28T08:55:51.518459",
     "exception": false,
     "start_time": "2024-11-28T08:55:51.466676",
     "status": "completed"
    },
    "tags": []
   },
   "outputs": [],
   "source": [
    "# convert to indicator values Title and Embarked\n",
    "\n",
    "dataset = pd.get_dummies(dataset, columns = [\"Title\"])\n",
    "dataset = pd.get_dummies(dataset, columns = [\"Embarked\"],prefix=\"Em\")"
   ]
  },
  {
   "cell_type": "code",
   "execution_count": 50,
   "id": "8087a95e",
   "metadata": {
    "execution": {
     "iopub.execute_input": "2024-11-28T08:55:51.586030Z",
     "iopub.status.busy": "2024-11-28T08:55:51.585609Z",
     "iopub.status.idle": "2024-11-28T08:55:51.609152Z",
     "shell.execute_reply": "2024-11-28T08:55:51.607936Z"
    },
    "papermill": {
     "duration": 0.060577,
     "end_time": "2024-11-28T08:55:51.611357",
     "exception": false,
     "start_time": "2024-11-28T08:55:51.550780",
     "status": "completed"
    },
    "tags": []
   },
   "outputs": [
    {
     "data": {
      "text/html": [
       "<div>\n",
       "<style scoped>\n",
       "    .dataframe tbody tr th:only-of-type {\n",
       "        vertical-align: middle;\n",
       "    }\n",
       "\n",
       "    .dataframe tbody tr th {\n",
       "        vertical-align: top;\n",
       "    }\n",
       "\n",
       "    .dataframe thead th {\n",
       "        text-align: right;\n",
       "    }\n",
       "</style>\n",
       "<table border=\"1\" class=\"dataframe\">\n",
       "  <thead>\n",
       "    <tr style=\"text-align: right;\">\n",
       "      <th></th>\n",
       "      <th>PassengerId</th>\n",
       "      <th>Survived</th>\n",
       "      <th>Pclass</th>\n",
       "      <th>Sex</th>\n",
       "      <th>Age</th>\n",
       "      <th>SibSp</th>\n",
       "      <th>Parch</th>\n",
       "      <th>Ticket</th>\n",
       "      <th>Fare</th>\n",
       "      <th>Cabin</th>\n",
       "      <th>...</th>\n",
       "      <th>SmallF</th>\n",
       "      <th>MedF</th>\n",
       "      <th>LargeF</th>\n",
       "      <th>Title_0</th>\n",
       "      <th>Title_1</th>\n",
       "      <th>Title_2</th>\n",
       "      <th>Title_3</th>\n",
       "      <th>Em_C</th>\n",
       "      <th>Em_Q</th>\n",
       "      <th>Em_S</th>\n",
       "    </tr>\n",
       "  </thead>\n",
       "  <tbody>\n",
       "    <tr>\n",
       "      <th>0</th>\n",
       "      <td>1</td>\n",
       "      <td>0.0</td>\n",
       "      <td>3</td>\n",
       "      <td>0</td>\n",
       "      <td>22.0</td>\n",
       "      <td>1</td>\n",
       "      <td>0</td>\n",
       "      <td>A/5 21171</td>\n",
       "      <td>1.981001</td>\n",
       "      <td>NaN</td>\n",
       "      <td>...</td>\n",
       "      <td>1</td>\n",
       "      <td>0</td>\n",
       "      <td>0</td>\n",
       "      <td>False</td>\n",
       "      <td>False</td>\n",
       "      <td>True</td>\n",
       "      <td>False</td>\n",
       "      <td>False</td>\n",
       "      <td>False</td>\n",
       "      <td>True</td>\n",
       "    </tr>\n",
       "    <tr>\n",
       "      <th>1</th>\n",
       "      <td>2</td>\n",
       "      <td>1.0</td>\n",
       "      <td>1</td>\n",
       "      <td>1</td>\n",
       "      <td>38.0</td>\n",
       "      <td>1</td>\n",
       "      <td>0</td>\n",
       "      <td>PC 17599</td>\n",
       "      <td>4.266662</td>\n",
       "      <td>C85</td>\n",
       "      <td>...</td>\n",
       "      <td>1</td>\n",
       "      <td>0</td>\n",
       "      <td>0</td>\n",
       "      <td>False</td>\n",
       "      <td>True</td>\n",
       "      <td>False</td>\n",
       "      <td>False</td>\n",
       "      <td>True</td>\n",
       "      <td>False</td>\n",
       "      <td>False</td>\n",
       "    </tr>\n",
       "    <tr>\n",
       "      <th>2</th>\n",
       "      <td>3</td>\n",
       "      <td>1.0</td>\n",
       "      <td>3</td>\n",
       "      <td>1</td>\n",
       "      <td>26.0</td>\n",
       "      <td>0</td>\n",
       "      <td>0</td>\n",
       "      <td>STON/O2. 3101282</td>\n",
       "      <td>2.070022</td>\n",
       "      <td>NaN</td>\n",
       "      <td>...</td>\n",
       "      <td>0</td>\n",
       "      <td>0</td>\n",
       "      <td>0</td>\n",
       "      <td>False</td>\n",
       "      <td>True</td>\n",
       "      <td>False</td>\n",
       "      <td>False</td>\n",
       "      <td>False</td>\n",
       "      <td>False</td>\n",
       "      <td>True</td>\n",
       "    </tr>\n",
       "    <tr>\n",
       "      <th>3</th>\n",
       "      <td>4</td>\n",
       "      <td>1.0</td>\n",
       "      <td>1</td>\n",
       "      <td>1</td>\n",
       "      <td>35.0</td>\n",
       "      <td>1</td>\n",
       "      <td>0</td>\n",
       "      <td>113803</td>\n",
       "      <td>3.972177</td>\n",
       "      <td>C123</td>\n",
       "      <td>...</td>\n",
       "      <td>1</td>\n",
       "      <td>0</td>\n",
       "      <td>0</td>\n",
       "      <td>False</td>\n",
       "      <td>True</td>\n",
       "      <td>False</td>\n",
       "      <td>False</td>\n",
       "      <td>False</td>\n",
       "      <td>False</td>\n",
       "      <td>True</td>\n",
       "    </tr>\n",
       "    <tr>\n",
       "      <th>4</th>\n",
       "      <td>5</td>\n",
       "      <td>0.0</td>\n",
       "      <td>3</td>\n",
       "      <td>0</td>\n",
       "      <td>35.0</td>\n",
       "      <td>0</td>\n",
       "      <td>0</td>\n",
       "      <td>373450</td>\n",
       "      <td>2.085672</td>\n",
       "      <td>NaN</td>\n",
       "      <td>...</td>\n",
       "      <td>0</td>\n",
       "      <td>0</td>\n",
       "      <td>0</td>\n",
       "      <td>False</td>\n",
       "      <td>False</td>\n",
       "      <td>True</td>\n",
       "      <td>False</td>\n",
       "      <td>False</td>\n",
       "      <td>False</td>\n",
       "      <td>True</td>\n",
       "    </tr>\n",
       "  </tbody>\n",
       "</table>\n",
       "<p>5 rows × 22 columns</p>\n",
       "</div>"
      ],
      "text/plain": [
       "   PassengerId  Survived  Pclass  Sex   Age  SibSp  Parch            Ticket  \\\n",
       "0            1       0.0       3    0  22.0      1      0         A/5 21171   \n",
       "1            2       1.0       1    1  38.0      1      0          PC 17599   \n",
       "2            3       1.0       3    1  26.0      0      0  STON/O2. 3101282   \n",
       "3            4       1.0       1    1  35.0      1      0            113803   \n",
       "4            5       0.0       3    0  35.0      0      0            373450   \n",
       "\n",
       "       Fare Cabin  ...  SmallF  MedF  LargeF  Title_0  Title_1  Title_2  \\\n",
       "0  1.981001   NaN  ...       1     0       0    False    False     True   \n",
       "1  4.266662   C85  ...       1     0       0    False     True    False   \n",
       "2  2.070022   NaN  ...       0     0       0    False     True    False   \n",
       "3  3.972177  C123  ...       1     0       0    False     True    False   \n",
       "4  2.085672   NaN  ...       0     0       0    False    False     True   \n",
       "\n",
       "   Title_3   Em_C   Em_Q   Em_S  \n",
       "0    False  False  False   True  \n",
       "1    False   True  False  False  \n",
       "2    False  False  False   True  \n",
       "3    False  False  False   True  \n",
       "4    False  False  False   True  \n",
       "\n",
       "[5 rows x 22 columns]"
      ]
     },
     "execution_count": 50,
     "metadata": {},
     "output_type": "execute_result"
    }
   ],
   "source": [
    "dataset.head()"
   ]
  },
  {
   "cell_type": "markdown",
   "id": "a20c2517",
   "metadata": {
    "papermill": {
     "duration": 0.035232,
     "end_time": "2024-11-28T08:55:51.679121",
     "exception": false,
     "start_time": "2024-11-28T08:55:51.643889",
     "status": "completed"
    },
    "tags": []
   },
   "source": [
    "## 5-3. Cabin"
   ]
  },
  {
   "cell_type": "code",
   "execution_count": 51,
   "id": "bae6d76a",
   "metadata": {
    "execution": {
     "iopub.execute_input": "2024-11-28T08:55:51.749792Z",
     "iopub.status.busy": "2024-11-28T08:55:51.748750Z",
     "iopub.status.idle": "2024-11-28T08:55:51.758364Z",
     "shell.execute_reply": "2024-11-28T08:55:51.756785Z"
    },
    "papermill": {
     "duration": 0.046416,
     "end_time": "2024-11-28T08:55:51.760967",
     "exception": false,
     "start_time": "2024-11-28T08:55:51.714551",
     "status": "completed"
    },
    "tags": []
   },
   "outputs": [
    {
     "data": {
      "text/plain": [
       "0     NaN\n",
       "1     C85\n",
       "2     NaN\n",
       "3    C123\n",
       "4     NaN\n",
       "Name: Cabin, dtype: object"
      ]
     },
     "execution_count": 51,
     "metadata": {},
     "output_type": "execute_result"
    }
   ],
   "source": [
    "dataset['Cabin'].head()"
   ]
  },
  {
   "cell_type": "code",
   "execution_count": 52,
   "id": "eb81f961",
   "metadata": {
    "execution": {
     "iopub.execute_input": "2024-11-28T08:55:51.832156Z",
     "iopub.status.busy": "2024-11-28T08:55:51.831766Z",
     "iopub.status.idle": "2024-11-28T08:55:51.842622Z",
     "shell.execute_reply": "2024-11-28T08:55:51.841387Z"
    },
    "papermill": {
     "duration": 0.050262,
     "end_time": "2024-11-28T08:55:51.845181",
     "exception": false,
     "start_time": "2024-11-28T08:55:51.794919",
     "status": "completed"
    },
    "tags": []
   },
   "outputs": [
    {
     "data": {
      "text/plain": [
       "count     292\n",
       "unique    186\n",
       "top        G6\n",
       "freq        5\n",
       "Name: Cabin, dtype: object"
      ]
     },
     "execution_count": 52,
     "metadata": {},
     "output_type": "execute_result"
    }
   ],
   "source": [
    "dataset[\"Cabin\"].describe()"
   ]
  },
  {
   "cell_type": "code",
   "execution_count": 53,
   "id": "81a3fb5a",
   "metadata": {
    "execution": {
     "iopub.execute_input": "2024-11-28T08:55:51.918676Z",
     "iopub.status.busy": "2024-11-28T08:55:51.918185Z",
     "iopub.status.idle": "2024-11-28T08:55:51.926244Z",
     "shell.execute_reply": "2024-11-28T08:55:51.925059Z"
    },
    "papermill": {
     "duration": 0.048806,
     "end_time": "2024-11-28T08:55:51.928600",
     "exception": false,
     "start_time": "2024-11-28T08:55:51.879794",
     "status": "completed"
    },
    "tags": []
   },
   "outputs": [
    {
     "data": {
      "text/plain": [
       "1007"
      ]
     },
     "execution_count": 53,
     "metadata": {},
     "output_type": "execute_result"
    }
   ],
   "source": [
    "dataset[\"Cabin\"].isnull().sum()"
   ]
  },
  {
   "cell_type": "markdown",
   "id": "ceb0432a",
   "metadata": {
    "papermill": {
     "duration": 0.033351,
     "end_time": "2024-11-28T08:55:51.995709",
     "exception": false,
     "start_time": "2024-11-28T08:55:51.962358",
     "status": "completed"
    },
    "tags": []
   },
   "source": [
    "- Cabin은 292개의 값와 1007개의 결측값으로 이루어져있음.\n",
    "- 객실이 없는 승객의 경우 결측된 값으로 대체 되어 있다는 것으로 가정함."
   ]
  },
  {
   "cell_type": "code",
   "execution_count": 54,
   "id": "9a812570",
   "metadata": {
    "execution": {
     "iopub.execute_input": "2024-11-28T08:55:52.065904Z",
     "iopub.status.busy": "2024-11-28T08:55:52.064566Z",
     "iopub.status.idle": "2024-11-28T08:55:52.074099Z",
     "shell.execute_reply": "2024-11-28T08:55:52.073033Z"
    },
    "papermill": {
     "duration": 0.047846,
     "end_time": "2024-11-28T08:55:52.076833",
     "exception": false,
     "start_time": "2024-11-28T08:55:52.028987",
     "status": "completed"
    },
    "tags": []
   },
   "outputs": [
    {
     "data": {
      "text/plain": [
       "1      C85\n",
       "3     C123\n",
       "6      E46\n",
       "10      G6\n",
       "11    C103\n",
       "Name: Cabin, dtype: object"
      ]
     },
     "execution_count": 54,
     "metadata": {},
     "output_type": "execute_result"
    }
   ],
   "source": [
    "dataset[\"Cabin\"][dataset[\"Cabin\"].notnull()].head()"
   ]
  },
  {
   "cell_type": "code",
   "execution_count": 55,
   "id": "3b7ada54",
   "metadata": {
    "execution": {
     "iopub.execute_input": "2024-11-28T08:55:52.147971Z",
     "iopub.status.busy": "2024-11-28T08:55:52.147552Z",
     "iopub.status.idle": "2024-11-28T08:55:52.155932Z",
     "shell.execute_reply": "2024-11-28T08:55:52.154605Z"
    },
    "papermill": {
     "duration": 0.047115,
     "end_time": "2024-11-28T08:55:52.158449",
     "exception": false,
     "start_time": "2024-11-28T08:55:52.111334",
     "status": "completed"
    },
    "tags": []
   },
   "outputs": [],
   "source": [
    "# Replace the Cabin number by the type of cabin 'X' if not\n",
    "\n",
    "dataset[\"Cabin\"] = pd.Series(i[0] if not pd.isnull(i) else 'X' for i in dataset['Cabin'])"
   ]
  },
  {
   "cell_type": "markdown",
   "id": "22e3ebc0",
   "metadata": {
    "papermill": {
     "duration": 0.033272,
     "end_time": "2024-11-28T08:55:52.224555",
     "exception": false,
     "start_time": "2024-11-28T08:55:52.191283",
     "status": "completed"
    },
    "tags": []
   },
   "source": [
    "Cabin의 첫번째 문자의 경우 Desk를 나타냄. 이 값은 타이타닉에서 승객이 어떤 위치에 탑승했는지를 확인할 수 있기 때문에 첫번째 문자만 남기기로 함."
   ]
  },
  {
   "cell_type": "code",
   "execution_count": 56,
   "id": "421cce4b",
   "metadata": {
    "execution": {
     "iopub.execute_input": "2024-11-28T08:55:52.297050Z",
     "iopub.status.busy": "2024-11-28T08:55:52.296653Z",
     "iopub.status.idle": "2024-11-28T08:55:52.631927Z",
     "shell.execute_reply": "2024-11-28T08:55:52.630548Z"
    },
    "papermill": {
     "duration": 0.372265,
     "end_time": "2024-11-28T08:55:52.634752",
     "exception": false,
     "start_time": "2024-11-28T08:55:52.262487",
     "status": "completed"
    },
    "tags": []
   },
   "outputs": [
    {
     "data": {
      "image/png": "[encoded data removed]",
      "text/plain": [
       "<Figure size 640x480 with 1 Axes>"
      ]
     },
     "metadata": {},
     "output_type": "display_data"
    }
   ],
   "source": [
    "g = sns.countplot(x=dataset[\"Cabin\"],order =['A','B','C','D','E','F','G','T','X'])"
   ]
  },
  {
   "cell_type": "code",
   "execution_count": null,
   "id": "973903c8",
   "metadata": {
    "papermill": {
     "duration": 0.033255,
     "end_time": "2024-11-28T08:55:52.702426",
     "exception": false,
     "start_time": "2024-11-28T08:55:52.669171",
     "status": "completed"
    },
    "tags": []
   },
   "outputs": [],
   "source": []
  }
 ],
 "metadata": {
  "kaggle": {
   "accelerator": "none",
   "dataSources": [
    {
     "databundleVersionId": 26502,
     "sourceId": 3136,
     "sourceType": "competition"
    }
   ],
   "dockerImageVersionId": 30786,
   "isGpuEnabled": false,
   "isInternetEnabled": true,
   "language": "python",
   "sourceType": "notebook"
  },
  "kernelspec": {
   "display_name": "Python 3",
   "language": "python",
   "name": "python3"
  },
  "language_info": {
   "codemirror_mode": {
    "name": "ipython",
    "version": 3
   },
   "file_extension": ".py",
   "mimetype": "text/x-python",
   "name": "python",
   "nbconvert_exporter": "python",
   "pygments_lexer": "ipython3",
   "version": "3.10.14"
  },
  "papermill": {
   "default_parameters": {},
   "duration": 29.710854,
   "end_time": "2024-11-28T08:55:53.557926",
   "environment_variables": {},
   "exception": null,
   "input_path": "__notebook__.ipynb",
   "output_path": "__notebook__.ipynb",
   "parameters": {},
   "start_time": "2024-11-28T08:55:23.847072",
   "version": "2.6.0"
  }
 },
 "nbformat": 4,
 "nbformat_minor": 5
}
